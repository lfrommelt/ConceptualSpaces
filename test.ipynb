{
 "cells": [
  {
   "cell_type": "code",
   "execution_count": null,
   "metadata": {},
   "outputs": [],
   "source": [
    "import example\n",
    "import cs.cs as space\n",
    "example.generate('Swan')\n",
    "print(space._concepts['birdfromSwan'])"
   ]
  },
  {
   "cell_type": "raw",
   "metadata": {},
   "source": [
    "convert tree to dict\n",
    "serialize?\n",
    "new init for cuboid\n",
    "\n",
    "inconsistencies: whale: no food amount\n",
    "        \n",
    "repair mecha not implemented??\n",
    "degree of membership in supercategory of merged exemplars is arbitrarily low...\n",
    "\n",
    "\n",
    "-concepts with missing domain: most general value applied->interpreted as irrellevant dimension (not missing information...)\n",
    "\n",
    "merge operation: take in every dim most extreme value that is not inf as p\n",
    "\n",
    "todo:\n",
    "\n",
    "\n",
    "\n",
    "!!\n",
    "deistance gives float('inf') if undefined\n",
    "simplify verallgemeinert weniger (not -inf<=something<=inf)\n",
    "inspector ignores cuboids with only inf"
   ]
  },
  {
   "cell_type": "code",
   "execution_count": 7,
   "metadata": {},
   "outputs": [
    {
     "name": "stdout",
     "output_type": "stream",
     "text": [
      "[1, 2, 3, [4, 5, 6]]\n"
     ]
    }
   ],
   "source": [
    "a=[1,2,3]\n",
    "a.append([4,5,6])\n",
    "print(a)"
   ]
  },
  {
   "cell_type": "code",
   "execution_count": 11,
   "metadata": {},
   "outputs": [
    {
     "data": {
      "text/plain": [
       "''"
      ]
     },
     "execution_count": 11,
     "metadata": {},
     "output_type": "execute_result"
    }
   ],
   "source": [
    "import xml.etree.ElementTree as ET\n",
    "import os\n",
    "import sys\n",
    "sys.path.append(\"conceptual_spaces\")\n",
    "import cs.cs as space\n",
    "from cs.weights import Weights\n",
    "from cs.cuboid import Cuboid\n",
    "from cs.core import Core\n",
    "from cs.core import from_cuboids\n",
    "from cs.concept import Concept\n",
    "import matplotlib.pyplot as plt\n",
    "import visualization.concept_inspector as ci\n",
    "import numpy as np\n",
    "from matplotlib import patches\n",
    "from sklearn.metrics import average_precision_score\n",
    "from functools import reduce\n",
    "\n",
    "#Get data from path to xml and add to given data\n",
    "def xml_to_dict(path, data = {}, domain_mapping={}, dimension_names=[]):\n",
    "    tree = ET.parse(os.path.normpath(path))\n",
    "    root = tree.getroot()\n",
    "    newdata={}\n",
    "    for exemplar in root:\n",
    "        new_concept = get_domains(exemplar)\n",
    "        if(new_concept):\n",
    "            newdata[exemplar.attrib['name']] = new_concept\n",
    "    \n",
    "    #list potentially new domains\n",
    "    domains={}\n",
    "    for exemplar in newdata.values():\n",
    "        domains.update(exemplar)\n",
    "    del(domains['supercategory'])\n",
    "    \n",
    "    #domains = mapping: domain->dimension indices, also add new dimension names\n",
    "    if domain_mapping:\n",
    "        i=sum([len(domain) for domain in domain_mapping.values()])\n",
    "    else:\n",
    "        i=0\n",
    "    for key in domains:\n",
    "        if not key in domain_mapping:\n",
    "            for dim in domains[key]:\n",
    "                dimension_names+=[dim]\n",
    "            domain_mapping[key]=list(range(i,i+len(domains[key])))\n",
    "            i+=len(domains[key])\n",
    "    \n",
    "    #kick inconsistents\n",
    "    to_del=[]\n",
    "    for datum in newdata:\n",
    "        if not is_consistent(newdata[datum], domain_mapping):\n",
    "            to_del+=[datum]\n",
    "    for kickit in to_del:\n",
    "        del(newdata[kickit])\n",
    "    \n",
    "    #translate to point\n",
    "    for datum in newdata:\n",
    "        point=[]\n",
    "        for domain in domain_mapping:\n",
    "            if domain in newdata[datum]:\n",
    "                point+=list(newdata[datum][domain].values())\n",
    "            else:\n",
    "                point+=[float('inf')]*len(domain_mapping[domain])     \n",
    "        newdata[datum]={'supercategory':newdata[datum]['supercategory'], 'point':point}\n",
    "    data.update(newdata)\n",
    "    return domain_mapping, data, dimension_names\n",
    "\n",
    "def family_into_space(name, values):\n",
    "    cuboids=[]\n",
    "    domains = {}\n",
    "    for point in values:\n",
    "        subdomains=point_to_domains(point)\n",
    "        cuboids.append(Cuboid([dim if not dim==float('inf') else -dim for dim in point], point, subdomains))\n",
    "        domains.update(subdomains)\n",
    "    core=from_cuboids(cuboids,domains)\n",
    "    weights=Weights(space._def_dom_weights,space._def_dim_weights)\n",
    "    concept=Concept(core, 1.0, C, weights)\n",
    "    space.add_concept(name,concept)\n",
    "\n",
    "    \n",
    "#Group data by their supercategories to form concepts\n",
    "def form_supercategories(data):\n",
    "    concepts={}\n",
    "    for datum in data.values():\n",
    "        if datum['supercategory'] in concepts:\n",
    "            concepts[datum['supercategory']].append(datum['point'])\n",
    "        else:\n",
    "            concepts[datum['supercategory']]=[datum['point']]\n",
    "        #del(concepts[datum['supercategory']])\n",
    "    return concepts\n",
    "    \n",
    "#helper for xml_to_dict, important for how the data is supposed to look like\n",
    "def get_domains(xml_elem):\n",
    "    domains = xml_elem.find('genericPhysicalDescription')\n",
    "    if(not(domains)):\n",
    "        return\n",
    "    domain_dict={}\n",
    "    try:\n",
    "        supercategory = xml_elem.find('family').text\n",
    "        if supercategory in ['feline','rodent','primate','cetacean']:\n",
    "            supercategory='mammal'\n",
    "        elif supercategory in ['crustacean']:\n",
    "            supercategory = 'arthropod'\n",
    "        elif supercategory in ['fruit', 'transport', 'furniture', 'book', 'building', 'musical_instrument', 'present', 'architectural_element']:\n",
    "            supercategory = 'object'\n",
    "        domain_dict['supercategory']=supercategory\n",
    "    except AttributeError:\n",
    "        domain_dict['supercategory']=\"object\"\n",
    "        \n",
    "    for domain in domains:\n",
    "        numerical_domain={}\n",
    "        for subelem in domain:\n",
    "            try:\n",
    "                numerical_domain[subelem.tag]=float(subelem.text)\n",
    "            except ValueError:\n",
    "                pass\n",
    "        if numerical_domain:\n",
    "            domain_name=domain.tag\n",
    "            \n",
    "            if not (domain_name=='size' or domain_name=='location'):\n",
    "                pass\n",
    "            elif(domain_name=='hasPart' or domain_name=='partOf'):\n",
    "                pass\n",
    "                '''domain_name = domain.get('name')\n",
    "                domain_dict['n_'+domain_name]={'number_'+domain_name:value for key,value in zip(numerical_domain.keys(),numerical_domain.values())}'''\n",
    "            else:\n",
    "                domain_dict[domain_name]={key:value for key,value in zip(numerical_domain.keys(),numerical_domain.values())}\n",
    "    return domain_dict\n",
    "\n",
    "def domains_from_point(point):\n",
    "    domains={}\n",
    "    for domain in space._domains:\n",
    "        if all(not point[dim]==float('inf') for dim in space._domains[domain]):\n",
    "            domains[domain]=space._domains[domain]\n",
    "    return domains\n",
    "\n",
    "def point_to_concept(point, name):\n",
    "    domains = domains_from_point(point)\n",
    "    p_min=[value if not value==float('inf') else float('-inf') for value in point]\n",
    "    c_example = Cuboid(p_min, point, domains)\n",
    "    s_example = Core([c_example], domains)\n",
    "    w_example = Weights(space._def_dom_weights,space._def_dim_weights)\n",
    "    concept = Concept(s_example, 1.0, C, w_example)\n",
    "    space.add_concept(name, concept)\n",
    "    return concept\n",
    "\n",
    "#We do not want any concepts with partially filled domains. This would go against the very idea of domains. input: {doms:values}. Also concepts with only undefined dims are not needed\n",
    "def is_consistent(concept, domain_mapping={}):\n",
    "    inf_check=[]\n",
    "    if not domain_mapping:\n",
    "        domain_mapping=space._domains\n",
    "    for domain in concept:\n",
    "        if not domain=='supercategory':\n",
    "            if not(len(concept[domain])==len(domain_mapping[domain])):\n",
    "                return False\n",
    "            inf_check+=concept[domain]\n",
    "    if all([check==float('inf') for check in inf_check]):\n",
    "        return False\n",
    "    return True\n",
    "\n",
    "#Normalize given instance of data, return respective z-transformation, needs initialized space\n",
    "def normalize_data(data, domain_mapping={}):\n",
    "    if not domain_mapping:\n",
    "        domain_mapping=space._domains\n",
    "        n_dim=space._n_dim\n",
    "    else:\n",
    "        n_dim=sum([len(dims) for dims in domain_mapping.values()])\n",
    "        \n",
    "    maxval=[float('-inf') for _ in range(n_dim)]\n",
    "    minval=[float('inf') for _ in range(n_dim)]\n",
    "    for datum in data.values():\n",
    "        maxval=[max([maxval[i], datum['point'][i] if not datum['point'][i]==float('inf') else maxval[i]]) for i in range(n_dim)]\n",
    "        minval=[min([minval[i], datum['point'][i] if not datum['point'][i]==float('-inf') else minval[i]]) for i in range(n_dim)]\n",
    "    middle=[(maxval[i]+minval[i])/2 for i in range(n_dim)]\n",
    "    halfrange=[maxval[i]-middle[i] for i in range(n_dim)]\n",
    "    norm=lambda x: [(x[i]-middle[i])/halfrange[i] for i in range(n_dim)]\n",
    "    \n",
    "    for datum in data.values():\n",
    "        datum['point']=list(norm(datum['point']))\n",
    "        \n",
    "    if space:\n",
    "        space._norm=norm\n",
    "    return norm\n",
    "\n",
    "    \n",
    "\n",
    "def get_names(domains):\n",
    "    dimension_names = []\n",
    "    for domain in domains.values():\n",
    "        dimension_names += [dim for dim in domain.keys()]\n",
    "        \n",
    "def dict_to_point(concept_dict):\n",
    "    point=[concept_dict.get(domain,{str(key):float(\"inf\") for key in range(len(space._domains[domain]))}).values() for domain in space._domains]\n",
    "    #flatten\n",
    "    point= [p for dom in point for p in dom]\n",
    "    return point\n",
    "\n",
    "def point_to_domains(point):\n",
    "    domains={}\n",
    "    for dim in range(space._n_dim):\n",
    "        if not(point[dim]==float('inf') or point[dim]==float('-inf')):\n",
    "            domains[space.dim_to_dom[str(dim)]]=space._domains[space.dim_to_dom[str(dim)]]\n",
    "    return domains\n",
    "\n",
    "def one_shot(point, method=None, sibblings=None, name=\"newlearned\"):\n",
    "    return method(point, sibblings)\n",
    "\n",
    "def two_cubs_PCA(point, sibblings):\n",
    "    n_dims=len(point)\n",
    "    if sibblings==None:\n",
    "        sibblings=get_sibblings(supercategory)\n",
    "    \n",
    "    variances=[]\n",
    "    pcs=[]\n",
    "    correlations=[]\n",
    "    stds=[]#np.std(centers)\n",
    "    avg = np.average#lambda values: sum(values)/len(values)\n",
    "    for sibbling in sibblings:\n",
    "        centers = np.array([[p_max-p_min for p_max,p_min in zip(cuboid._p_max, cuboid._p_min)] for cuboid in space._concepts[sibbling]._core._cuboids]).T\n",
    "        #print(centers) good\n",
    "        means=[]\n",
    "        for dimension in range(len(centers)):\n",
    "            means.append(avg([value for value in centers[dimension] if not value==float('inf')]))\n",
    "            for value in range(len(centers[dimension])):\n",
    "                if centers[dimension,value]==float('inf'):\n",
    "                    centers[dimension,value]=means[-1]\n",
    "        if(len(centers.T)==1):\n",
    "            centers=np.array([[x[0],x[0]] for x in centers])\n",
    "        stds.append(np.std(centers,1))\n",
    "        covmat = np.cov(centers)\n",
    "        corr=np.corrcoef(centers)\n",
    "        #plt.scatter(centers[0],centers[1])\n",
    "        variances.append(covmat)\n",
    "        values, vectors = np.linalg.eig(covmat)\n",
    "        '''print(values)\n",
    "        print(vectors)\n",
    "        print(vectors[np.argmax(values)]*max(values))'''\n",
    "        pcs.append(vectors[np.argmax(values)]*max(values))\n",
    "    meanpc=sum(pcs)/len(pcs)\n",
    "    '''print('pcs\\n',pcs)\n",
    "    print('meanpc\\n',meanpc)'''\n",
    "    cub1=np.zeros(n_dims)\n",
    "    cub2=np.zeros(n_dims)\n",
    "    \n",
    "    for dim in range(n_dims):\n",
    "        cub1[dim]=point[dim]-meanpc[dim]\n",
    "        cub2[dim]=point[dim]+meanpc[dim]\n",
    "\n",
    "    c1_p_min=[2*cub1[dim]-point[dim] if cub1[dim] < point[dim] else float('-inf') if point[dim]==float('inf') else point[dim] for dim in range(n_dims)]\n",
    "    c1_p_max=[2*cub1[dim]-point[dim] if cub1[dim] > point[dim] else point[dim] for dim in range(n_dims)]\n",
    "    \n",
    "    c2_p_min=[2*cub2[dim]-point[dim] if cub2[dim] < point[dim] else float('-inf') if point[dim]==float('inf') else point[dim] for dim in range(n_dims)]\n",
    "    c2_p_max=[2*cub2[dim]-point[dim] if cub2[dim] > point[dim] else point[dim] for dim in range(n_dims)]\n",
    "    \n",
    "    domains = domains_from_point(c1_p_max)\n",
    "    core=Core([Cuboid(c1_p_min, c1_p_max, domains),Cuboid(c2_p_min,c2_p_max,domains)],domains)\n",
    "    weights=Weights(space._def_dom_weights,space._def_dim_weights)\n",
    "    concept=Concept(core, 1.0, C, weights)\n",
    "    '''print(Cuboid(c1_p_min, c1_p_max, domains),Cuboid(c2_p_min,c2_p_max,domains))\n",
    "    print(concept)'''\n",
    "    return concept\n",
    "    \n",
    "def two_cuboids(point, sibblings):\n",
    "    #fig,ax = plt.subplots(1)\n",
    "    \n",
    "    n_dims=len(point)\n",
    "    if sibblings==None:\n",
    "        sibblings=get_sibblings(supercategory)\n",
    "    \n",
    "    #print(point,'\\n',sibblings)\n",
    "    variances=[]\n",
    "    correlations=[]\n",
    "    stds=[]#np.std(centers)\n",
    "    avg = np.average#lambda values: sum(values)/len(values)\n",
    "    for sibbling in sibblings:\n",
    "        centers = np.array([[p_max-p_min for p_max,p_min in zip(cuboid._p_max, cuboid._p_min)] for cuboid in space._concepts[sibbling]._core._cuboids]).T\n",
    "        #print(centers) good\n",
    "        means=[]\n",
    "        for dimension in range(len(centers)):\n",
    "            means.append(avg([value for value in centers[dimension] if not value==float('inf')]))\n",
    "            for value in range(len(centers[dimension])):\n",
    "                if centers[dimension,value]==float('inf'):\n",
    "                    centers[dimension,value]=means[-1]\n",
    "        if(len(centers.T)==1):\n",
    "            centers=np.array([[x[0],x[0]] for x in centers])\n",
    "        #print('centers\\n',centers)\n",
    "        stds.append(np.std(centers,1))\n",
    "        #covmat = np.cov(centers)\n",
    "        corr=np.corrcoef(centers)\n",
    "        print('corr\\n',corr)\n",
    "        #plt.scatter(centers[0],centers[1])\n",
    "        #variances.append(covmat)\n",
    "        if not np.isnan(corr[0,0]):\n",
    "            correlations.append(corr)\n",
    "    meanstds=np.zeros(n_dims)\n",
    "    meancorrelations=np.zeros([n_dims, n_dims])\n",
    "    for i in range(n_dims):\n",
    "        meanstds[i] = avg([stds[sib][i] for sib in range(len(stds))])\n",
    "        #meanvariances[i] = avg([(variance_of_sibbling[i,i])**(1/2) for variance_of_sibbling in variances])\n",
    "        for j in range(n_dims):\n",
    "            meancorrelations[i,j]= avg([correlations_of_sibbling[i,j] for correlations_of_sibbling in correlations])\n",
    "    #print('meancorr\\n',meancorrelations)\n",
    "    #print(meanvariances)\n",
    "    #print(meanstds)\n",
    "    #print([avg([stds[sib][dim] for sib in range(len(stds))]) for dim in range(n_dims)])\n",
    "    #print(meancorrelations)\n",
    "    maindim=0\n",
    "    cub1=np.zeros(n_dims)\n",
    "    cub2=np.zeros(n_dims)\n",
    "    cub1[maindim]=point[maindim]-meanstds[maindim]\n",
    "    cub2[maindim]=point[maindim]+meanstds[maindim]\n",
    "    \n",
    "    for dim in range(n_dims):\n",
    "        if not dim==maindim:\n",
    "            cub1[dim]=point[dim]-meancorrelations[maindim,dim]*meanstds[maindim]\n",
    "            cub2[dim]=point[dim]+meancorrelations[maindim,dim]*meanstds[maindim]\n",
    "    '''print(cub1)\n",
    "    print(cub2)'''\n",
    "    c1_p_min=[2*cub1[dim]-point[dim] if cub1[dim] < point[dim] else float('-inf') if point[dim]==float('inf') else point[dim] for dim in range(n_dims)]\n",
    "    c1_p_max=[2*cub1[dim]-point[dim] if cub1[dim] > point[dim] else point[dim] for dim in range(n_dims)]\n",
    "    \n",
    "    c2_p_min=[2*cub2[dim]-point[dim] if cub2[dim] < point[dim] else float('-inf') if point[dim]==float('inf') else point[dim] for dim in range(n_dims)]\n",
    "    c2_p_max=[2*cub2[dim]-point[dim] if cub2[dim] > point[dim] else point[dim] for dim in range(n_dims)]\n",
    "    \n",
    "    domains = domains_from_point(c1_p_max)\n",
    "    core=Core([Cuboid(c1_p_min, c1_p_max, domains),Cuboid(c2_p_min,c2_p_max,domains)],domains)\n",
    "    weights=Weights(space._def_dom_weights,space._def_dim_weights)\n",
    "    concept=Concept(core, 1.0, C, weights)\n",
    "    '''print(Cuboid(c1_p_min, c1_p_max, domains),Cuboid(c2_p_min,c2_p_max,domains))\n",
    "    print(concept)'''\n",
    "    return concept\n",
    "\n",
    "\n",
    "def verbose_example(example, data, concepts, domain_mapping, dim_names):\n",
    "    showdim=4\n",
    "    aps= evaluate_example(example, data, concepts, domain_mapping, dim_names, figure='developement', method=two_cubs_PCA)\n",
    "    target=data[example]['supercategory']\n",
    "    learnt=space._concepts[target+'from'+example]\n",
    "    trainset={concept:concepts[concept] for concept in concepts if not concept==target}\n",
    "    negatives=[point for family in trainset.values() for point in family]\n",
    "    testset=list(concepts[target])\n",
    "    testset.remove(data[example]['point'])\n",
    "    print('AP learnt:',aps[example][0])\n",
    "    print('AP naive:',aps[example][1])\n",
    "    print(learnt)\n",
    "    for dim in range(0,space._n_dim):\n",
    "        if not dim == showdim:\n",
    "            plt.figure(figsize=(15,15))\n",
    "\n",
    "            ax=plt.gca()\n",
    "            cub1=learnt._core._cuboids[0]\n",
    "            cub2=learnt._core._cuboids[1]\n",
    "            plt.scatter([point[showdim] for point in negatives],[point[dim] for point in negatives], color='r')\n",
    "            plt.scatter([point[showdim] for point in testset],[point[dim] for point in testset], color='g', marker='.')\n",
    "            rect = plt.Rectangle((cub1._p_min[showdim],cub1._p_min[dim]),cub1._p_max[showdim]-cub1._p_min[showdim],cub1._p_max[dim]-cub1._p_min[dim],fill=False)\n",
    "            ax.add_patch(rect)\n",
    "            rect = plt.Rectangle((cub2._p_min[showdim],cub2._p_min[dim]),cub2._p_max[showdim]-cub2._p_min[showdim],cub2._p_max[dim]-cub2._p_min[dim],fill=False)\n",
    "            ax.add_patch(rect)\n",
    "            plt.xlabel(str(showdim))\n",
    "            plt.ylabel(str(dim))\n",
    "            plt.show()\n",
    "    \n",
    "    \n",
    "def evaluate_example(example, data, concepts, domains, dim_names, figure=None, method=two_cuboids):\n",
    "    space.init(len(dim_names), domain_mapping,dim_names)\n",
    "    target=data[example]['supercategory']\n",
    "\n",
    "    trainset={concept:concepts[concept] for concept in concepts if not concept==target}\n",
    "    testset=list(concepts[target])\n",
    "    testset.remove(data[example]['point'])\n",
    "    \n",
    "    for family in trainset:\n",
    "        family_into_space(family, trainset[family])\n",
    "    \n",
    "    sibblings = [concept for concept in space._concepts if not concept==target]\n",
    "    learnt_category=one_shot(data[example]['point'], method,sibblings=sibblings,name=target+'from'+example)\n",
    "    target_dict={}\n",
    "    family_into_space(target, testset)\n",
    "    naive_category=point_to_concept(data[example]['point'],'naive')\n",
    "    negatives=[point for family in trainset.values() for point in family]\n",
    "    positives=testset\n",
    "    ap_naive=average_precision(naive_category, negatives.copy(), positives.copy(), figure=figure)\n",
    "    ap_learnt=average_precision(learnt_category, negatives, positives, figure=figure, color='g')\n",
    "    space.add_concept(target+'from'+example,learnt_category)\n",
    "    return {example:[ap_learnt, ap_naive]}\n",
    "\n",
    "def average_precision(concept, negatives, positives, threshold=0.5, color='r', figure=None):\n",
    "    \"\"\"Average Precision of the concept as a classifier\n",
    "\n",
    "    Parameters:\n",
    "    negatives (list): list of points that do not belong to the target class\n",
    "    positives (list):...\n",
    "\n",
    "    Returns:\n",
    "    ap (float)\n",
    "\n",
    "   \"\"\"\n",
    "    y_true=np.concatenate((np.ones(len(positives)),np.zeros(len(negatives))))\n",
    "    y_scores=np.zeros(len(y_true))\n",
    "    for i in range(len(y_scores)):\n",
    "        if i < len(positives):\n",
    "            y_scores[i]=concept.membership_of(positives[i])\n",
    "        else:\n",
    "            y_scores[i]=concept.membership_of(negatives[i-len(positives)])\n",
    "    sorted_truths=[x for _,x in sorted(zip(y_scores,y_true),reverse=True)]\n",
    "    recalls=[sum(sorted_truths[:i+1])/(sum(sorted_truths[:i+1])+sum(sorted_truths[i:])) for i in range(len(y_true))]\n",
    "    precisions=[sum(sorted_truths[:i+1])/(i+1) for i in range(len(y_true))]\n",
    "    '''print(sorted_truths)\n",
    "    print(recalls)\n",
    "    print(precisions)'''\n",
    "    #plt.subplots(figsize=(10, 10))\n",
    "    if figure=='part':\n",
    "        plt.scatter(recalls, precisions, color = color)#[(0.5,x,x) for x in [(len(recalls)-i)/len(recalls) for i in range(len(recalls))]])\n",
    "    elif figure=='developement':\n",
    "        plt.scatter(recalls, precisions, color = [(0.5,x,x) for x in [(len(recalls)-i)/len(recalls) for i in range(len(recalls))]])\n",
    "        plt.xlabel('Recall')\n",
    "        plt.ylabel('Precision')\n",
    "        plt.show()\n",
    "    #plt.figure(figsize=(10,20))\n",
    "    #plt.show()\n",
    "    return average_precision_score(y_true, y_scores)\n",
    "\n",
    "''"
   ]
  },
  {
   "cell_type": "code",
   "execution_count": 12,
   "metadata": {},
   "outputs": [
    {
     "data": {
      "image/png": "[encoded data removed]",
      "text/plain": [
       "<Figure size 432x288 with 1 Axes>"
      ]
     },
     "metadata": {
      "needs_background": "light"
     },
     "output_type": "display_data"
    },
    {
     "data": {
      "image/png": "[encoded data removed]",
      "text/plain": [
       "<Figure size 432x288 with 1 Axes>"
      ]
     },
     "metadata": {
      "needs_background": "light"
     },
     "output_type": "display_data"
    },
    {
     "name": "stdout",
     "output_type": "stream",
     "text": [
      "AP learnt: 0.26610772032259405\n",
      "AP naive: 0.545495275333985\n",
      "core: {[-inf, -inf, -inf, -inf, -1.1637015936446309, -1.0973892463863213, -0.9833994466482215]-[inf, inf, inf, inf, -0.998159852788223, -0.9959979989994997, -0.9833268537086158], [-inf, -inf, -inf, -inf, -0.998159852788223, -0.9959979989994997, -0.9834720395878273]-[inf, inf, inf, inf, -0.832618111931815, -0.8946067516126782, -0.9833994466482215]}\n",
      "mu: 1.0\n",
      "c: 0.05\n",
      "weights: <{'location': 1.0, 'size': 1.0},{'location': {0: 0.25, 1: 0.25, 2: 0.25, 3: 0.25}, 'size': {4: 0.3333333333333333, 5: 0.3333333333333333, 6: 0.3333333333333333}}>\n"
     ]
    },
    {
     "data": {
      "image/png": "[encoded data removed]",
      "text/plain": [
       "<Figure size 1080x1080 with 1 Axes>"
      ]
     },
     "metadata": {
      "needs_background": "light"
     },
     "output_type": "display_data"
    },
    {
     "data": {
      "image/png": "[encoded data removed]",
      "text/plain": [
       "<Figure size 1080x1080 with 1 Axes>"
      ]
     },
     "metadata": {
      "needs_background": "light"
     },
     "output_type": "display_data"
    },
    {
     "data": {
      "image/png": "[encoded data removed]",
      "text/plain": [
       "<Figure size 1080x1080 with 1 Axes>"
      ]
     },
     "metadata": {
      "needs_background": "light"
     },
     "output_type": "display_data"
    },
    {
     "data": {
      "image/png": "[encoded data removed]",
      "text/plain": [
       "<Figure size 1080x1080 with 1 Axes>"
      ]
     },
     "metadata": {
      "needs_background": "light"
     },
     "output_type": "display_data"
    },
    {
     "data": {
      "image/png": "[encoded data removed]",
      "text/plain": [
       "<Figure size 1080x1080 with 1 Axes>"
      ]
     },
     "metadata": {
      "needs_background": "light"
     },
     "output_type": "display_data"
    },
    {
     "data": {
      "image/png": "[encoded data removed]",
      "text/plain": [
       "<Figure size 1080x1080 with 1 Axes>"
      ]
     },
     "metadata": {
      "needs_background": "light"
     },
     "output_type": "display_data"
    }
   ],
   "source": [
    "import warnings\n",
    "warnings.filterwarnings(\"ignore\")\n",
    "C=0.05\n",
    "#read concepts from prototypes and exemplars\n",
    "domain_mapping, data, dim_names = xml_to_dict(\"Dataset\\\\prototypes.xml\")\n",
    "domain_mapping, data, dim_names = xml_to_dict(\"Dataset\\\\exemplars.xml\", domain_mapping=domain_mapping, data=data, dimension_names=dim_names)\n",
    "\n",
    "norm=normalize_data(data, domain_mapping)\n",
    "concepts=form_supercategories(data)\n",
    "\n",
    "verbose_example('coral_snake', data, concepts, domain_mapping, dim_names)"
   ]
  },
  {
   "cell_type": "code",
   "execution_count": 4,
   "metadata": {},
   "outputs": [
    {
     "name": "stdout",
     "output_type": "stream",
     "text": [
      "0.09211024662281353\n",
      "-0.27938755501139095\n",
      "-0.0230400824740911\n",
      "{'Rhinoceros': [0.6593417467345092, 0.6593417467345092], 'bear': [0.562013060654386, 0.5477706155605729], 'Swan': [0.23089247965780288, 0.26272109895884305], 'whale': [0.6140596537897489, 0.6255118815961724], 'Robin': [0.2273146269572189, 0.2320829964731646], 'butterfly': [0.290805109922757, 0.40963101938711693], 'camel': [0.5637591020808497, 0.544542225222829], 'chicken': [0.2643502970087185, 0.2770470918013789], 'crocodile': [0.05878712824486798, 0.057241869608985134], 'dolphin': [0.464526140199901, 0.40129101871916345], 'frog': [0.03394394629865377, 0.03539545953682097], 'giraffe': [0.582785827249317, 0.5897039885437465], 'horse': [0.5619649874146448, 0.5731048588878795], 'koala': [0.41280484240052934, 0.42774005715749114], 'lynx': [0.44392275162925765, 0.43074529534115963], 'panther': [0.4878957341728569, 0.4527653837278102], 'Hippo': [0.5065397364674135, 0.508253653404026], 'penguin': [0.279284967903184, 0.2645147987137276], 'rabbit': [0.4517400667450309, 0.43570509526838597], 'shark': [0.2996606074551311, 0.30031850219197326], 'apple': [0.18847463860936536, 0.2049323233285283], 'cactus': [0.28265563891166656, 0.28358399875552515], 'airplane': [0.4852180410687871, 0.4852180410687871], 'armchair': [0.1260038846839221, 0.13092828533200696], 'bicycle': [0.12070019934428824, 0.12487337340624088], 'book': [0.19624754423042207, 0.16426933307479158], 'building': [0.4179214787622242, 0.4179214787622242], 'car': [0.12724352557342752, 0.12594527995939245], 'castle': [0.45771971249826116, 0.45771971249826116], 'crown': [0.14996005989127992, 0.1644926354210804], 'house': [0.4179214787622242, 0.4179214787622242], 'jewel': [0.15953540034085886, 0.15089659079125467], 'light_bulb': [0.2057578591685808, 0.20282869829237243], 'mosque': [0.46225312503619453, 0.46225312503619453], 'pen': [0.1868896579253796, 0.2666975377203875], 'pharmacy': [0.14852286333545928, 0.14824779982168168], 'piano': [0.14020400172531156, 0.1826152147575963], 'present': [0.13506218501662481, 0.1363609729219921], 'roof': [0.28047806693973915, 0.281814393017543], 'telephone': [0.3035277968332553, 0.2584362689940495], 'wheel': [0.1316158196837557, 0.1300838956900705], 'snail': [0.02857142857142857, 0.028846153846153848], 'turtle': [0.050341682702501334, 0.05952620148892718], 'tiger': [0.5426893185354228, 0.5028905494737492], 'lion': [0.5553051780228252, 0.5493837882410645], 'snake': [0.1240573619203931, 0.2072986570481353], 'monkey': [0.4205129062010642, 0.4898863827781633], 'fox': [0.4467765957420344, 0.4399510768700359], 'elephant': [0.4267581493087028, 0.4197667021080339], 'donkey': [0.5626276811166415, 0.5727495079121053], 'eagle': [0.2510049813459163, 0.29266315267441856], 'cat': [0.4728139141790525, 0.451889957905542], 'kangaroo': [0.46471472352068804, 0.5039828563197927], 'cow': [0.549045713161587, 0.5337793261066874], 'mouse': [0.4168228880738768, 0.41424443710045106], 'blackbird': [0.3267062529955773, 0.37851568228179555], 'cheetah': [0.4985924312875466, 0.5473346817655084], 'bee': [0.10977633477633478, 0.1521164021164021], 'deer': [0.4995284758232018, 0.5689150851895609], 'salamander': [0.03288115141563418, 0.033097062829819085], 'octopus': [0.4553140096618357, 0.6781609195402298], 'python': [0.040584314833854725, 0.04034507069062765], 'vulture': [0.2793313675413099, 0.22777625976666688], 'ladybug': [0.6861471861471862, 0.8], 'ant': [0.308032058032058, 0.5203399541634836], 'bull': [0.55368222027729, 0.5366550560917882], 'Exemplar_black_swan': [0.23089247965780288, 0.26272109895884305], 'ostrich_exemplar': [0.26940321539204526, 0.185524835318013], 'Rhinoceros_Exemplar_one_horn_indian_rhino': [0.6593417467345092, 0.6593417467345092], 'Exemplar_Pygmy_Hippo': [0.45045097037437254, 0.443520165780905], 'hammerhead_shark': [0.2996606074551311, 0.30031850219197326], 'Lion_female': [0.6817831359827671, 0.6826065047425495], 'white_lion': [0.6817831359827671, 0.6826065047425495], 'sea_snake': [0.12765155893189872, 0.21227302160757527], 'coral_snake': [0.26610772032259405, 0.545495275333985], 'roloway_monkey': [0.4115320119352473, 0.6205059603862724], 'mandrill': [0.4115320119352473, 0.6205059603862724], 'desert_fox': [0.44505451256968565, 0.4560404217185794], 'arctic_fox': [0.40714895762616543, 0.39764781973850366], 'fox_hens_eater': [0.4467765957420344, 0.4399510768700359], 'catalan_donkey': [0.7581693687709203, 0.719607901962066], 'donkey_africanus': [0.7581693687709203, 0.719607901962066], 'Canadian_Sphinx': [0.43831725775104374, 0.42593328573541483], 'Black_Cat': [0.43831725775104374, 0.42593328573541483], 'European_Cat': [0.43831725775104374, 0.42593328573541483], 'Atlantic_Salmon': [0.059583333333333335, 0.06090932876647162], 'Adriatic_Trout': [0.06290052606408417, 0.06618519029233315], 'Silver_Salmon': [0.059665532879818586, 0.06051587301587301], 'White_collared_Blackbird': [0.28855317483165965, 0.33915764027426787], 'Common_Blackbird': [0.45897147729795684, 0.3668612306751433], 'Gray_Catbird': [0.36284070677708985, 0.3823869856814008], 'Female_Blackbird': [0.45897147729795684, 0.3668612306751433], 'blue_frog': [0.03435244303067992, 0.03641891552339313], 'red_eyed_tree_frog': [0.037279387279387274, 0.03897542904895846], 'strawberry_poison_frog': [0.0350679609721201, 0.0361186619231832], 'albino_rabbit': [0.4517400667450309, 0.43570509526838597], 'giant_rabbit': [0.4162299909603806, 0.44846660157131324], 'blue_ringed_octopus': [0.4553140096618357, 0.6781609195402298], 'wonderpus_octopus': [0.4553140096618357, 0.6781609195402298], 'female_deer': [0.5352285480917398, 0.5728464097019346], 'water_deer': [0.5345580088869271, 0.5661293738855003], 'puppy_deer': [0.4316121378521542, 0.44455381596838706], 'bear_fish_hunter': [0.7083061282908769, 0.7068599056750667], 'polar_bear': [0.518696019737876, 0.5064974655051551], 'bald_eagle': [0.17217745701511494, 0.3448818543572434], 'monarch_butterfly': [0.290805109922757, 0.40963101938711693], 'piemontese_bull': [0.693674213650148, 0.6895107206888863], 'watussi_bull': [0.55368222027729, 0.5366550560917882], 'cachena_cow': [0.4747630916179542, 0.46980633200140887], 'highland_cow': [0.5094937666205558, 0.49589138345881145], 'red_kangaroo': [0.6366883991559055, 0.641749838309469], 'puppy_kangaroo': [0.4367230214611401, 0.4446294478456793], 'filippine_eagle': [0.2979679262216348, 0.3184333196729198], 'common_pipistrelle': [0.41148521326100607, 0.40220893261309915], 'red_wood_ant': [0.308032058032058, 0.5203399541634836], 'indian_jumping_ant': [0.308032058032058, 0.5203399541634836], 'hermann_tortoise': [0.0477153446119891, 0.04994037747621857]}\n"
     ]
    }
   ],
   "source": [
    "import warnings\n",
    "warnings.filterwarnings(\"ignore\")\n",
    "C=0.05\n",
    "#read concepts from prototypes and exemplars\n",
    "domain_mapping, data, dim_names = xml_to_dict(\"Dataset\\\\prototypes.xml\")\n",
    "domain_mapping, data, dim_names = xml_to_dict(\"Dataset\\\\exemplars.xml\", domain_mapping=domain_mapping, data=data, dimension_names=dim_names)\n",
    "\n",
    "norm=normalize_data(data, domain_mapping)\n",
    "concepts=form_supercategories(data)\n",
    "\n",
    "aps={}\n",
    "for example in data:\n",
    "    if len(concepts[data[example]['supercategory']])-1:\n",
    "        aps.update(evaluate_example(example, data, concepts, domain_mapping, dim_names, method=two_cubs_PCA))\n",
    "    \n",
    "ap=[x[0] for x in aps]\n",
    "diff_ap=[x[0]-x[1] for x in aps.values()]\n",
    "print(max(diff_ap))\n",
    "print(min(diff_ap))\n",
    "print(sum(diff_ap)/len(diff_ap))\n",
    "print(aps[argmax(diff_ap)])"
   ]
  },
  {
   "cell_type": "code",
   "execution_count": 10,
   "metadata": {},
   "outputs": [
    {
     "name": "stdout",
     "output_type": "stream",
     "text": [
      "coral_snake\n"
     ]
    }
   ],
   "source": [
    "print(list(aps.keys())[np.argmin(diff_ap)])"
   ]
  },
  {
   "cell_type": "code",
   "execution_count": 5,
   "metadata": {},
   "outputs": [
    {
     "data": {
      "image/png": "[encoded data removed]",
      "text/plain": [
       "<Figure size 432x288 with 1 Axes>"
      ]
     },
     "metadata": {
      "needs_background": "light"
     },
     "output_type": "display_data"
    }
   ],
   "source": [
    "import matplotlib.pyplot as plt\n",
    "\n",
    "plt.scatter([1,2,3],[2,3,4])\n",
    "rect = plt.Rectangle((1,1),1,1,fill=False)\n",
    "ax=plt.gca()\n",
    "ax.add_patch(rect)\n",
    "plt.show()"
   ]
  },
  {
   "cell_type": "code",
   "execution_count": 2,
   "metadata": {},
   "outputs": [
    {
     "data": {
      "text/plain": [
       "''"
      ]
     },
     "execution_count": 2,
     "metadata": {},
     "output_type": "execute_result"
    }
   ],
   "source": [
    "import xml.etree.ElementTree as ET\n",
    "import os\n",
    "import sys\n",
    "sys.path.append(\"conceptual_spaces\")\n",
    "import cs.cs as space\n",
    "from cs.weights import Weights\n",
    "from cs.cuboid import Cuboid\n",
    "from cs.core import Core\n",
    "from cs.core import from_cuboids\n",
    "from cs.concept import Concept\n",
    "import matplotlib.pyplot as plt\n",
    "import visualization.concept_inspector as ci\n",
    "import numpy as np\n",
    "from matplotlib import patches\n",
    "from sklearn.metrics import average_precision_score\n",
    "\n",
    "C=0.05\n",
    "\n",
    "\n",
    "path = \"Dataset\\\\prototypes.xml\"\n",
    "path2 = \"Dataset\\\\exemplars.xml\"\n",
    "\n",
    "\n",
    "def print_database(node,indent=''):\n",
    "    print(indent,node.tag,end=' ')\n",
    "    try:\n",
    "        print(node.attrib['name'],end=' ')\n",
    "    except KeyError:\n",
    "        pass\n",
    "    if len(node):\n",
    "        print()\n",
    "        for subelem in node:\n",
    "            print_database(subelem,indent+\"  \")\n",
    "    else:\n",
    "        print(node.text)\n",
    "    \n",
    "def get_domains(xml_elem):\n",
    "    domains = xml_elem.find('genericPhysicalDescription')\n",
    "    if(not(domains)):\n",
    "        return\n",
    "    domain_dict={}\n",
    "    try:\n",
    "        supercategory = xml_elem.find('family').text\n",
    "        if supercategory in ['feline','rodent','primate','cetacean']:\n",
    "            supercategory='mammal'\n",
    "        elif supercategory in ['crustacean']:\n",
    "            supercategory = 'arthropod'\n",
    "        elif supercategory in ['fruit', 'transport', 'furniture', 'book', 'building', 'musical_instrument', 'present', 'architectural_element']:\n",
    "            supercategory = 'object'\n",
    "        domain_dict['supercategory']=supercategory\n",
    "    except AttributeError:\n",
    "        domain_dict['supercategory']=\"object\"\n",
    "        \n",
    "    for domain in domains:\n",
    "        numerical_domain={}\n",
    "        for subelem in domain:\n",
    "            try:\n",
    "                numerical_domain[subelem.tag]=float(subelem.text)\n",
    "            except ValueError:\n",
    "                pass\n",
    "        if numerical_domain:\n",
    "            domain_name=domain.tag\n",
    "            \n",
    "            if not (domain_name=='size' or domain_name=='location'):\n",
    "                pass\n",
    "            elif(domain_name=='hasPart' or domain_name=='partOf'):\n",
    "                pass\n",
    "                '''domain_name = domain.get('name')\n",
    "                domain_dict['n_'+domain_name]={'number_'+domain_name:value for key,value in zip(numerical_domain.keys(),numerical_domain.values())}'''\n",
    "            else:\n",
    "                domain_dict[domain_name]={key:value for key,value in zip(numerical_domain.keys(),numerical_domain.values())}\n",
    "    return domain_dict\n",
    "\n",
    "def xml_to_dict(path, exemplars = {}):\n",
    "    tree = ET.parse(os.path.normpath(path))\n",
    "    root = tree.getroot()\n",
    "    for exemplar in root:\n",
    "        new_concept = get_domains(exemplar)\n",
    "        if(new_concept):\n",
    "            exemplars[exemplar.attrib['name']] = new_concept\n",
    "    return exemplars\n",
    "\n",
    "def is_consistent(concept):\n",
    "    for domain in concept:\n",
    "        if not domain=='supercategory':\n",
    "            if not(len(concept[domain])==len(space._domains[domain])):\n",
    "                return False\n",
    "    return True\n",
    "                \n",
    "def dict_to_point(concept_dict, normalize=False):\n",
    "    point=[concept_dict.get(domain,{str(key):float(\"inf\") for key in range(len(space._domains[domain]))}).values() for domain in space._domains]\n",
    "    #flatten\n",
    "    point= [p for dom in point for p in dom]\n",
    "    if normalize:\n",
    "        return space._z(point)\n",
    "    else:\n",
    "        return point\n",
    "\n",
    "def normalize_point(point):\n",
    "    return space._z(point)\n",
    "\n",
    "'''#Normalize given instance of data, return respective z-transformation, needs initialized space\n",
    "def normalize_concepts(concepts):\n",
    "    if not space:\n",
    "        raise EmptySpaceError from Exception\n",
    "    maxval=[0 for _ in range(space._n_dim)]\n",
    "    minval=[0 for _ in range(space._n_dim)]\n",
    "    for supercategory in space.data.values():\n",
    "        for example in supercategory.values():\n",
    "            maxval=[max([maxval[i]]+[example[1][i] if not example[1][i]==float('inf')]) for i in range(space._n_dim)]\n",
    "            minval=[min([minval[i]]+[example[0][i] if not example[0][i]==float('-inf')]) for i in range(space._n_dim)]\n",
    "\n",
    "    z=lambda x: [(x[i]-(maxval[i]+minval[i])/2)/maxval[i] for i in range(space._n_dim)]\n",
    "    \n",
    "    for supercategory in space.data.values():\n",
    "        for example in supercategory.values():\n",
    "            example[1]=list(z(example[1]))\n",
    "            example[0]=list(z(example[0]))\n",
    "    if space:\n",
    "        space._z=z\n",
    "    return z'''\n",
    "\n",
    "def point_to_domains(point):\n",
    "    domains={}\n",
    "    for dim in range(space._n_dim):\n",
    "        if not(point[dim]==float('inf') or point[dim]==float('-inf')):\n",
    "            domains[space._dim_to_dom[str(dim)]]=space._domains[space._dim_to_dom[str(dim)]]\n",
    "    return domains\n",
    "    \n",
    "def concept_into_space(concept, name):\n",
    "    cuboids=[]\n",
    "    domains = {}\n",
    "    for example in ordered_dict[category]:\n",
    "        if not is_consistent(concepts[example]):\n",
    "            print(example,' is inconsistent')\n",
    "            del(concepts[example])\n",
    "        else:\n",
    "            subdomains={domain:space._domains[domain] for domain in concepts[example] if not domain == 'supercategory'}\n",
    "            point=[concepts[example].get(domain,{str(key):float(\"inf\") for key in range(len(space._domains[domain]))}).values() for domain in space._domains]\n",
    "            point=[p for dom in point for p in dom]\n",
    "            if normalize:\n",
    "                point=normalize_point(point)\n",
    "            cuboids.append(Cuboid([dim if not dim==float('inf') else -dim for dim in point], point, subdomains))\n",
    "            domains.update(subdomains)\n",
    "\n",
    "    core=from_cuboids(cuboids,domains)\n",
    "    weights=Weights(space._def_dom_weights,space._def_dim_weights)\n",
    "    concept=Concept(core, 1.0, C, weights)\n",
    "    space.add_concept(category,concept,next(colors))\n",
    "    \n",
    "def concepts_into_space(concepts, domains={}, except_for=None, colors=['b','g','r','c','m','brown','rosybrown','darkslategrey','pink','grey'], superc='animal', normalize=False):\n",
    "    if except_for:\n",
    "        for concept in list(concepts.keys()):\n",
    "            if concepts[concept]['supercategory']==except_for:\n",
    "                del(concepts[concept])\n",
    "                \n",
    "    ordered_dict={}\n",
    "    for example in concepts:\n",
    "        if concepts[example]['supercategory'] in ordered_dict:\n",
    "            ordered_dict[concepts[example]['supercategory']].append(example)\n",
    "        else:\n",
    "            ordered_dict[concepts[example]['supercategory']]=[example]\n",
    "    \n",
    "    colors=iter(colors)\n",
    "    concept_colors={}\n",
    "    if(domains=={}):\n",
    "        for concept in concepts.values():\n",
    "            domains.update(concept)\n",
    "        del(domains['supercategory'])\n",
    "    #domains = mapping: domain->dimension indices\n",
    "    domain_mapping = {}\n",
    "    i=0\n",
    "    for key in domains:\n",
    "        domain_mapping[key]=list(range(i,i+len(domains[key])))\n",
    "        i+=len(domains[key])\n",
    "\n",
    "    dimension_names = []\n",
    "    for domain in domains.values():\n",
    "        dimension_names += [dim for dim in domain.keys()]\n",
    "    \n",
    "    if space._n_dim==None:\n",
    "        space.init(len(dimension_names),domain_mapping,dimension_names)\n",
    "    else:\n",
    "        pass\n",
    "    \n",
    "    for category in ordered_dict:\n",
    "        cuboids=[]\n",
    "        domains = {}\n",
    "        for example in ordered_dict[category]:\n",
    "            if not is_consistent(concepts[example]):\n",
    "                print(example,' is inconsistent')\n",
    "                del(concepts[example])\n",
    "            else:\n",
    "                subdomains={domain:space._domains[domain] for domain in concepts[example] if not domain == 'supercategory'}\n",
    "                point=[concepts[example].get(domain,{str(key):float(\"inf\") for key in range(len(space._domains[domain]))}).values() for domain in space._domains]\n",
    "                point=[p for dom in point for p in dom]\n",
    "                if normalize:\n",
    "                    point=normalize_point(point)\n",
    "                cuboids.append(Cuboid([dim if not dim==float('inf') else -dim for dim in point], point, subdomains))\n",
    "                domains.update(subdomains)\n",
    "\n",
    "        core=from_cuboids(cuboids,domains)\n",
    "        weights=Weights(space._def_dom_weights,space._def_dim_weights)\n",
    "        concept=Concept(core, 1.0, C, weights)\n",
    "        space.add_concept(category,concept,next(colors))\n",
    "        \n",
    "    if not superc==None:\n",
    "        animal_concept=[]\n",
    "        for concept in space._concepts.values():\n",
    "            animal_concept+=concept._core._cuboids\n",
    "        core=from_cuboids(animal_concept,space._domains)\n",
    "        weights=Weights(space._def_dom_weights,space._def_dim_weights)\n",
    "        concept=Concept(core, 1.0, C, weights)\n",
    "        space.add_concept(superc,concept,next(colors))\n",
    "    \n",
    "    return concepts\n",
    "        \n",
    "\"\"\"    for example in concepts:\n",
    "        if concepts[example]['supercategory'] in ['mammal','reptile','bird','amphibian','insect']:\n",
    "            consistent = True\n",
    "            domains = {}\n",
    "            for key in concepts[example]:\n",
    "                if(not(key=='supercategory')):\n",
    "                    domains[key]=space._domains[key]\n",
    "\n",
    "            '''dimension_names = []\n",
    "\n",
    "            for concept_domain in concepts[example].values():\n",
    "                dimension_names += [dim for dim in domain.keys()]'''\n",
    "\n",
    "            dimension_values=[]\n",
    "            for domain in space._domains.keys():\n",
    "                dimension_values.append([list(concepts[example].get(domain,{str(key):float(\"-inf\") for key in range(len(space._domains[domain]))}).values())\n",
    "                                     ,list(concepts[example].get(domain,{str(key):float(\"inf\") for key in range(len(space._domains[domain]))}).values())])\n",
    "                if(not(len(dimension_values[-1][0])==len(space._domains[domain]))):\n",
    "                    #print(domain+' in '+example+' is inconsistent')\n",
    "                    consistent=False\n",
    "                    break\n",
    "                if(not(consistent)):\n",
    "                    print('bah')\n",
    "\n",
    "\n",
    "            if(consistent):\n",
    "                p_min=[value for domain in dimension_values for value in domain[0]]\n",
    "                p_max=[value for domain in dimension_values for value in domain[1]]\n",
    "\n",
    "                #try:\n",
    "                c_example = Cuboid(p_min, p_max, domains)\n",
    "                s_example = Core([c_example], domains)\n",
    "                w_example = Weights(space._def_dom_weights,space._def_dim_weights)\n",
    "                concept = Concept(s_example, 1.0, C, w_example)\n",
    "\n",
    "                supercategory = concepts[example]['supercategory']\n",
    "                if(supercategory in space._concepts):\n",
    "                    space.add_concept(supercategory, space._concepts[supercategory].union_with(concept), concept_colors[supercategory])\n",
    "                else:\n",
    "                    concept_colors.update({supercategory:next(colors)})\n",
    "                    space.add_concept(supercategory, concept, concept_colors[supercategory])\"\"\"\n",
    "                #print('added ', example)\n",
    "                #print(concepts[example]['supercategory'])\n",
    "        #except Exception:\n",
    "        #    print(example,'is inconsistent')\n",
    "\n",
    "def point_to_concept(point, name):\n",
    "    domains = domains_from_point(point)\n",
    "    p_min=[value if not value==float('inf') else float('-inf') for value in point]\n",
    "    c_example = Cuboid(p_min, point, domains)\n",
    "    s_example = Core([c_example], domains)\n",
    "    w_example = Weights(space._def_dom_weights,space._def_dim_weights)\n",
    "    concept = Concept(s_example, 1.0, C, w_example)\n",
    "    space.add_concept(name, concept)\n",
    "    return concept\n",
    "\n",
    "def normalize_space():\n",
    "    maxval=[0 for _ in range(space._n_dim)]\n",
    "    minval=[0 for _ in range(space._n_dim)]\n",
    "    for concept in space._concepts.values():\n",
    "        maxval=[max([maxval[i]]+[cub._p_max[i] for cub in concept._core._cuboids if not cub._p_max[i]==float('inf')]) for i in range(space._n_dim)]\n",
    "        minval=[min([minval[i]]+[cub._p_min[i] for cub in concept._core._cuboids if not cub._p_min[i]==float('-inf')]) for i in range(space._n_dim)]\n",
    "    \n",
    "    z=lambda x: [(x[i]-(maxval[i]+minval[i])/2)/maxval[i] for i in range(space._n_dim)]\n",
    "    \n",
    "    for concept in space._concepts.values():\n",
    "        for cuboid in concept._core._cuboids:\n",
    "            cuboid._p_max=list(z(cuboid._p_max))\n",
    "            cuboid._p_min=list(z(cuboid._p_min))\n",
    "    space._z=z\n",
    "\n",
    "#learns/assumes supercategory of point and put it into space\n",
    "def one_shot(point, supercategory='none', mechanism=None, sibblings=None, name=\"newlearned\"):\n",
    "    #todo find lowest concept\n",
    "\n",
    "    if supercategory=='none':\n",
    "        superkey = max(space._concepts,key= lambda candidate:space._concepts[candidate].membership_of(point))\n",
    "    else:\n",
    "        superkey = supercategory\n",
    "    \n",
    "    if(mechanism==None):\n",
    "        #average sizes method\n",
    "        supercategory = space._concepts[superkey]\n",
    "        avg = lambda values: sum(values)/len(values) if len(values) else float('inf')\n",
    "        #print([[cuboid._p_max[dim]-cuboid._p_min[dim] for cuboid in supercategory._core._cuboids if not cuboid._p_max[dim]==float('inf')]for dim in range(space._n_dim)])\n",
    "        avg_sizes=[avg([cuboid._p_max[dim]-cuboid._p_min[dim] for cuboid in supercategory._core._cuboids if not cuboid._p_max[dim]==float('inf')]) for dim in range(space._n_dim)]\n",
    "        print('supercategory is:')\n",
    "        print(superkey)\n",
    "        print(avg_sizes)\n",
    "        print()\n",
    "        p_min = [point[i]-1/2*avg_sizes[i] for i in range(space._n_dim)]\n",
    "        p_max = [point[i]+1/2*avg_sizes[i] for i in range(space._n_dim)]\n",
    "        cuboid=Cuboid(p_min, p_max, space._domains)#not working in bigger examples\n",
    "        core=Core([cuboid],space._domains)\n",
    "        weights=Weights(space._def_dom_weights,space._def_dim_weights)\n",
    "        concept=Concept(core, 1.0, C, weights)\n",
    "        return concept\n",
    "    else:\n",
    "        concept=mechanism(point, superkey, sibblings)\n",
    "        space.add_concept(name,concept,color='y')\n",
    "        return concept\n",
    "\n",
    "def domains_from_point(point):\n",
    "    domains={}\n",
    "    for domain in space._domains:\n",
    "        if all(not point[dim]==float('inf') for dim in space._domains[domain]):\n",
    "            domains[domain]=space._domains[domain]\n",
    "    return domains\n",
    "    \n",
    "    \n",
    "def get_sibblings(supercat):\n",
    "    sibblings=[]\n",
    "    for concept in space._concepts:\n",
    "        if not concept==supercat:\n",
    "            print('check:',concept)\n",
    "            if space._concepts[concept].subset_of(space._concepts[supercat])==1.0:\n",
    "                sibblings.append(concept)\n",
    "    return sibblings\n",
    "        \n",
    "def two_cuboids(point, supercategory, sibblings=None):\n",
    "    #fig,ax = plt.subplots(1)\n",
    "    \n",
    "    n_dims=len(point)\n",
    "    if sibblings==None:\n",
    "        sibblings=get_sibblings(supercategory)\n",
    "        \n",
    "    variances=[]\n",
    "    correlations=[]\n",
    "    stds=[]#np.std(centers)\n",
    "    avg = np.average#lambda values: sum(values)/len(values)\n",
    "    for sibbling in sibblings:\n",
    "        centers = np.array([[p_max-p_min for p_max,p_min in zip(cuboid._p_max, cuboid._p_min)] for cuboid in space._concepts[sibbling]._core._cuboids]).T\n",
    "        means=[]\n",
    "        for dimension in range(len(centers)):\n",
    "            means.append(avg([value for value in centers[dimension] if not value==float('inf')]))\n",
    "            for value in range(len(centers[dimension])):\n",
    "                if centers[dimension,value]==float('inf'):\n",
    "                    centers[dimension,value]=means[-1]\n",
    "        if(len(centers.T)==1):\n",
    "            centers=np.array([[x[0],x[0]] for x in centers])\n",
    "        stds.append(np.std(centers,1))\n",
    "        #covmat = np.cov(centers)\n",
    "        corr=np.corrcoef(centers)\n",
    "        #plt.scatter(centers[0],centers[1])\n",
    "        #variances.append(covmat)\n",
    "        if not np.isnan(corr[0,0]):\n",
    "            correlations.append(corr)\n",
    "            \n",
    "    meanstds=np.zeros(n_dims)\n",
    "    meancorrelations=np.zeros([n_dims, n_dims])\n",
    "    for i in range(n_dims):\n",
    "        meanstds[i] = avg([stds[sib][i] for sib in range(len(stds))])\n",
    "        #meanvariances[i] = avg([(variance_of_sibbling[i,i])**(1/2) for variance_of_sibbling in variances])\n",
    "        for j in range(n_dims):\n",
    "            meancorrelations[i,j]= avg([correlations_of_sibbling[i,j] for correlations_of_sibbling in correlations])\n",
    "    #print(meanvariances)\n",
    "    #print(meanstds)\n",
    "    #print([avg([stds[sib][dim] for sib in range(len(stds))]) for dim in range(n_dims)])\n",
    "    #print(meancorrelations)\n",
    "    maindim=0\n",
    "    cub1=np.zeros(n_dims)\n",
    "    cub2=np.zeros(n_dims)\n",
    "    cub1[maindim]=point[maindim]-meanstds[maindim]\n",
    "    cub2[maindim]=point[maindim]+meanstds[maindim]\n",
    "    \n",
    "    for dim in range(n_dims):\n",
    "        if not dim==maindim:\n",
    "            cub1[dim]=point[dim]-meancorrelations[maindim,dim]*meanstds[maindim]\n",
    "            cub2[dim]=point[dim]+meancorrelations[maindim,dim]*meanstds[maindim]\n",
    "        \n",
    "    c1_p_min=[2*cub1[dim]-point[dim] if cub1[dim] < point[dim] else float('-inf') if point[dim]==float('inf') else point[dim] for dim in range(n_dims)]\n",
    "    c1_p_max=[2*cub1[dim]-point[dim] if cub1[dim] > point[dim] else point[dim] for dim in range(n_dims)]\n",
    "    \n",
    "    c2_p_min=[2*cub2[dim]-point[dim] if cub2[dim] < point[dim] else float('-inf') if point[dim]==float('inf') else point[dim] for dim in range(n_dims)]\n",
    "    c2_p_max=[2*cub2[dim]-point[dim] if cub2[dim] > point[dim] else point[dim] for dim in range(n_dims)]\n",
    "    \n",
    "\n",
    "    '''rect=patches.Rectangle(c1_p_min[0:2],c1_p_max[0]-c1_p_min[0],c1_p_max[1]-c1_p_min[1])\n",
    "    ax.add_patch(rect)\n",
    "    rect=patches.Rectangle(c2_p_min[0:2],c2_p_max[0]-c2_p_min[0],c2_p_max[1]-c2_p_min[1])\n",
    "    ax.add_patch(rect)\n",
    "    print(rect.get_xy())\n",
    "    plt.show()'''\n",
    "    \n",
    "    domains = domains_from_point(c1_p_max)\n",
    "    core=Core([Cuboid(c1_p_min, c1_p_max, domains),Cuboid(c2_p_min,c2_p_max,domains)],domains)\n",
    "    weights=Weights(space._def_dom_weights,space._def_dim_weights)\n",
    "    concept=Concept(core, 1.0, C, weights)\n",
    "    return concept\n",
    "    \n",
    "    \n",
    "def average_precision(concept, negatives, positives, threshold=0.5, color='r', figure=None):\n",
    "\n",
    "    y_true=np.concatenate((np.ones(len(positives)),np.zeros(len(negatives))))\n",
    "    y_scores=np.zeros(len(y_true))\n",
    "    for i in range(len(y_scores)):\n",
    "        if i < len(positives):\n",
    "            y_scores[i]=concept.membership_of(positives[i])\n",
    "        else:\n",
    "            y_scores[i]=concept.membership_of(negatives[i-len(positives)])\n",
    "    #precision(concept, negatives, positives, threshold)\n",
    "    sorted_truths=[x for _,x in sorted(zip(y_scores,y_true),reverse=True)]\n",
    "    #print(sorted_truths)\n",
    "    recalls=[sum(sorted_truths[:i+1])/(sum(sorted_truths[:i+1])+sum(sorted_truths[i:])) for i in range(len(y_true))]\n",
    "    precisions=[sum(sorted_truths[:i+1])/(i+1) for i in range(len(y_true))]\n",
    "    '''print(sorted_truths)\n",
    "    print(recalls)\n",
    "    print(precisions)'''\n",
    "    #plt.subplots(figsize=(10, 10))\n",
    "    if figure=='part':\n",
    "        plt.scatter(recalls, precisions, color = color)#[(0.5,x,x) for x in [(len(recalls)-i)/len(recalls) for i in range(len(recalls))]])\n",
    "    elif figure=='developement':\n",
    "        plt.scatter(recalls, precisions, color = [(0.5,x,x) for x in [(len(recalls)-i)/len(recalls) for i in range(len(recalls))]])\n",
    "        plt.show()\n",
    "    #plt.figure(figsize=(10,20))\n",
    "    '''plt.xlabel('Recall')\n",
    "    plt.ylabel('Precision')'''\n",
    "    #plt.show()\n",
    "    return average_precision_score(y_true, y_scores)\n",
    "\n",
    "def precision(concept, negatives, positives, threshold=0.5):\n",
    "    tp=0\n",
    "    fp=0\n",
    "    tn=0\n",
    "    fn=0\n",
    "    print('tresh:',threshold)\n",
    "    for datum in negatives:\n",
    "        if concept.membership_of(datum)>=threshold:\n",
    "            fp+=1\n",
    "        else:\n",
    "            tn+=1\n",
    "    for datum in positives:\n",
    "        if concept.membership_of(datum)>=threshold:\n",
    "            tp+=1\n",
    "        else:\n",
    "            #print(datum)\n",
    "            fn+=1\n",
    "    try:\n",
    "        print('Precision: ',tp/(tp+fp))\n",
    "    except ZeroDivisionError:\n",
    "        pass\n",
    "    print('tp:',tp,'fp:',fp)\n",
    "    try:\n",
    "        print('Recall: ',tp/(tp+fn))\n",
    "    except ZeroDivisionError:\n",
    "        pass\n",
    "    print('tp:',tp,'fn:',fn)\n",
    "''"
   ]
  },
  {
   "cell_type": "code",
   "execution_count": 4,
   "metadata": {},
   "outputs": [
    {
     "name": "stdout",
     "output_type": "stream",
     "text": [
      "bat  is inconsistent\n",
      "little_brown_bat  is inconsistent\n",
      "Sea_Turtle_Dermochelys_Choriacea  is inconsistent\n",
      "trachemys_turtle  is inconsistent\n",
      "salmon  is inconsistent\n",
      "Sockeye_Salmon  is inconsistent\n",
      "Golden_Trout  is inconsistent\n",
      "spider  is inconsistent\n",
      "thin_leg_spider  is inconsistent\n",
      "owl  is inconsistent\n",
      "Swan\n",
      "[0.0, 0.0, 0.0, 0.0, 0.0, 0.0, 0.0, 0.0, 0.0, 0.0, 0.0, 0.0, 0.0, 0.0, 0.0, 0.0, 1.0, 1.0, 1.0, 1.0, 1.0, 0.0, 0.0, 1.0, 1.0, 0.0, 1.0, 0.0, 1.0, 0.0, 0.0, 0.0, 0.0, 0.0, 0.0, 0.0, 0.0, 0.0, 0.0, 0.0, 0.0, 0.0, 0.0, 0.0, 0.0, 1.0, 0.0, 0.0, 0.0, 1.0, 0.0, 0.0, 0.0, 1.0, 0.0, 1.0, 0.0, 0.0, 0.0, 0.0, 0.0, 1.0, 0.0, 0.0, 0.0, 0.0, 0.0, 0.0, 0.0, 0.0, 0.0, 0.0, 0.0, 0.0, 0.0, 0.0, 0.0, 0.0, 0.0, 0.0, 0.0, 0.0, 0.0, 0.0, 0.0, 0.0, 0.0, 0.0, 0.0, 0.0, 0.0, 0.0, 0.0, 0.0, 0.0, 0.0]\n",
      "0.23538631721435918\n",
      "[0.0, 0.0, 0.0, 0.0, 0.0, 0.0, 0.0, 0.0, 0.0, 0.0, 0.0, 0.0, 0.0, 0.0, 0.0, 0.0, 1.0, 1.0, 1.0, 1.0, 1.0, 0.0, 0.0, 1.0, 1.0, 0.0, 1.0, 0.0, 1.0, 0.0, 0.0, 0.0, 0.0, 0.0, 0.0, 0.0, 0.0, 0.0, 0.0, 0.0, 0.0, 0.0, 0.0, 0.0, 0.0, 1.0, 0.0, 0.0, 0.0, 1.0, 0.0, 0.0, 0.0, 1.0, 0.0, 1.0, 0.0, 0.0, 0.0, 0.0, 0.0, 1.0, 0.0, 0.0, 0.0, 0.0, 0.0, 0.0, 0.0, 0.0, 0.0, 0.0, 0.0, 0.0, 0.0, 0.0, 0.0, 0.0, 0.0, 0.0, 0.0, 0.0, 0.0, 0.0, 0.0, 0.0, 0.0, 0.0, 0.0, 0.0, 0.0, 0.0, 0.0, 0.0, 0.0, 0.0]\n",
      "0.23538631721435918\n",
      "axes_ranges:\n",
      " [(-0.7034999999999999, 0.7034999999999999), (-0.98, 0.98), (-0.90035, 1.9003500000000002), (-0.7043750000000001, 0.7043750000000001), (-0.701743, 0.7017429999999999), (-0.7006340495867769, 0.7006340495867769), (-0.7009977142857142, 0.7009977142857142)]\n",
      "mammal\n",
      "insect\n",
      "beep\n",
      "arthropod\n",
      "reptile\n",
      "fish\n",
      "beep\n",
      "mollusk\n",
      "beep\n",
      "beep\n",
      "beep\n",
      "arachnid\n",
      "animal\n",
      "birdfromSwan\n",
      "beep\n",
      "beep\n",
      "beep\n",
      "bird\n",
      "beep\n",
      "naive\n"
     ]
    },
    {
     "data": {
      "image/png": "[encoded data removed]",
      "text/plain": [
       "<Figure size 720x720 with 1 Axes>"
      ]
     },
     "metadata": {
      "needs_background": "light"
     },
     "output_type": "display_data"
    },
    {
     "data": {
      "image/png": "[encoded data removed]",
      "text/plain": [
       "<Figure size 1440x1008 with 8 Axes>"
      ]
     },
     "metadata": {
      "needs_background": "light"
     },
     "output_type": "display_data"
    },
    {
     "data": {
      "text/plain": [
       "''"
      ]
     },
     "execution_count": 4,
     "metadata": {},
     "output_type": "execute_result"
    }
   ],
   "source": [
    "import random\n",
    "def random_example(exampledict):\n",
    "    return random.choice([animal for animal in exampledict.keys()])\n",
    "\n",
    "#parameters\n",
    "example='Swan'\n",
    "\n",
    "#read concepts from prototypes and exemplars\n",
    "concepts = xml_to_dict(path)\n",
    "concepts = xml_to_dict(path2, concepts)\n",
    "\n",
    "#dict domains lists all domains shich later will be in cs\n",
    "domains = {}\n",
    "for concept in concepts.values():\n",
    "    domains.update(concept)\n",
    "del(domains['supercategory'])\n",
    "\n",
    "\n",
    "\n",
    "#remove objects for now (into_space still only animals)\n",
    "to_del=[]\n",
    "for concept in concepts:\n",
    "    if concepts[concept]['supercategory']=='object' or concepts[concept]['supercategory']=='amphibian' or concept=='whale':\n",
    "        to_del.append(concept)\n",
    "for conc in to_del:\n",
    "    del(concepts[conc])\n",
    "\n",
    "#random_example(concepts)\n",
    "    \n",
    "#remove the testexample from traindata\n",
    "#del(concepts[example])\n",
    "target=concepts[example]['supercategory']\n",
    "#mammal={key:concepts[key] for key in concepts if concepts[key]['supercategory']=='mammal'}\n",
    "\n",
    "\n",
    "#testset = everythink that makes up superategory of example except for example\n",
    "trainset={}\n",
    "testset={}\n",
    "for concept in concepts:\n",
    "    if not concepts[concept]['supercategory']==target:\n",
    "        trainset[concept]=concepts[concept]\n",
    "    elif not concept==example:\n",
    "        testset[concept]=concepts[concept]\n",
    "        \n",
    "        \n",
    "#the supercategory of to_learn will not be put into space\n",
    "trainset = concepts_into_space(trainset)\n",
    "normalize_space()\n",
    "\n",
    "#cs is there, so we can translate the data into points\n",
    "negatives=[dict_to_point(concept) for concept in trainset.values()]\n",
    "\n",
    "#get point from dict of example\n",
    "dimension_values=[]\n",
    "consistent = True\n",
    "for domain in space._domains.keys():\n",
    "    dimension_values.append([list(concepts[example].get(domain,{str(key):float(\"-inf\") for key in range(len(space._domains[domain]))}).values())\n",
    "                         ,list(concepts[example].get(domain,{str(key):float(\"inf\") for key in range(len(space._domains[domain]))}).values())])\n",
    "    if(not(len(dimension_values[-1][0])==len(space._domains[domain]))):\n",
    "        print(domain+' in '+example+' is inconsistent')\n",
    "        consistent=False\n",
    "        break\n",
    "    \n",
    "p_max=[value for domain in dimension_values for value in domain[1]]\n",
    "\n",
    "'''domains = {}\n",
    "for key in concepts[example]:\n",
    "    if(not(key=='supercategory')):\n",
    "        domains[key]=space._domains[key]'''\n",
    "\n",
    "\n",
    "#save time\n",
    "sibblings = [family for family in ['mammal', 'insect', 'arthropod', 'reptile', 'fish', 'arachnid', 'bird'] if not family==target]\n",
    "#sibblings=None\n",
    "#oneshot\n",
    "p_max=normalize_point(p_max)\n",
    "try:\n",
    "    sibblings\n",
    "except NameError:\n",
    "    sibblings=get_sibblings('animal')\n",
    "learnt_category=one_shot(p_max, 'animal',two_cuboids,sibblings=sibblings,name=target+'from'+example)\n",
    "\n",
    "\n",
    "\n",
    "target_dict={}\n",
    "\n",
    "testset=concepts_into_space(testset, superc=None, colors=['orange'], normalize=True)\n",
    "positives=[dict_to_point(concept) for concept in testset.values()]\n",
    "\n",
    "naive_category=point_to_concept(p_max,'naive')\n",
    "#space.add(naive_concept)\n",
    "print(example)\n",
    "#print(len(testset))\n",
    "threshold=0.2\n",
    "plt.subplots(figsize=(10, 10))\n",
    "\n",
    "'''for negative in negatives:\n",
    "    print(len(negative))\n",
    "    print(negative)\n",
    "for positive in positives:\n",
    "    print(len(positive))\n",
    "    print(positive)'''\n",
    "\n",
    "print(average_precision(learnt_category, negatives, positives, threshold, color='g'))\n",
    "print(average_precision(naive_category, negatives, positives, threshold))\n",
    "#ci.init()\n",
    "#naive_category.membership_of([200.0, 550.0, 250.0])\n",
    "#print('learnt:',learnt_category)\n",
    "#print('naive:',naive_category)\n",
    "\n",
    "plt.xlabel('Recall')\n",
    "plt.ylabel('Precision')\n",
    "\n",
    "plt.show\n",
    "ci.init(dims=[4,5,6])\n",
    "''"
   ]
  },
  {
   "cell_type": "code",
   "execution_count": 5,
   "metadata": {},
   "outputs": [
    {
     "data": {
      "text/plain": [
       "True"
      ]
     },
     "execution_count": 5,
     "metadata": {},
     "output_type": "execute_result"
    }
   ],
   "source": [
    "'[0.0, 0.0, 0.0, 0.0, 0.0, 0.0, 0.0, 0.0, 0.0, 0.0, 0.0, 0.0, 0.0, 0.0, 0.0, 0.0, 1.0, 1.0, 1.0, 1.0, 1.0, 0.0, 0.0, 1.0, 1.0, 0.0, 1.0, 0.0, 1.0, 0.0, 0.0, 0.0, 0.0, 0.0, 0.0, 0.0, 0.0, 0.0, 0.0, 0.0, 0.0, 0.0, 0.0, 0.0, 0.0, 1.0, 0.0, 0.0, 0.0, 1.0, 0.0, 0.0, 0.0, 1.0, 0.0, 1.0, 0.0, 0.0, 0.0, 0.0, 0.0, 1.0, 0.0, 0.0, 0.0, 0.0, 0.0, 0.0, 0.0, 0.0, 0.0, 0.0, 0.0, 0.0, 0.0, 0.0, 0.0, 0.0, 0.0, 0.0, 0.0, 0.0, 0.0, 0.0, 0.0, 0.0, 0.0, 0.0, 0.0, 0.0, 0.0, 0.0, 0.0, 0.0, 0.0, 0.0]'=='[0.0, 0.0, 0.0, 0.0, 0.0, 0.0, 0.0, 0.0, 0.0, 0.0, 0.0, 0.0, 0.0, 0.0, 0.0, 0.0, 1.0, 1.0, 1.0, 1.0, 1.0, 0.0, 0.0, 1.0, 1.0, 0.0, 1.0, 0.0, 1.0, 0.0, 0.0, 0.0, 0.0, 0.0, 0.0, 0.0, 0.0, 0.0, 0.0, 0.0, 0.0, 0.0, 0.0, 0.0, 0.0, 1.0, 0.0, 0.0, 0.0, 1.0, 0.0, 0.0, 0.0, 1.0, 0.0, 1.0, 0.0, 0.0, 0.0, 0.0, 0.0, 1.0, 0.0, 0.0, 0.0, 0.0, 0.0, 0.0, 0.0, 0.0, 0.0, 0.0, 0.0, 0.0, 0.0, 0.0, 0.0, 0.0, 0.0, 0.0, 0.0, 0.0, 0.0, 0.0, 0.0, 0.0, 0.0, 0.0, 0.0, 0.0, 0.0, 0.0, 0.0, 0.0, 0.0, 0.0]'"
   ]
  },
  {
   "cell_type": "code",
   "execution_count": null,
   "metadata": {},
   "outputs": [],
   "source": [
    "for concept in space._concepts.values():\n",
    "    print(concept)"
   ]
  },
  {
   "cell_type": "code",
   "execution_count": 49,
   "metadata": {},
   "outputs": [
    {
     "name": "stdout",
     "output_type": "stream",
     "text": [
      "0.03406475258762248\n",
      "0.4702271062490033\n"
     ]
    },
    {
     "data": {
      "text/plain": [
       "0.2484466916809871"
      ]
     },
     "execution_count": 49,
     "metadata": {},
     "output_type": "execute_result"
    }
   ],
   "source": [
    "a=[1.0, 1.0, 1.0, 1.0, 1.0, 1.0, 1.0, 1.0, 1.0, 1.0, 1.0, 1.0, 1.0, 1.0, 1.0, 0.0, 0.0, 0.0, 0.0, 0.0, 0.0, 0.0, 0.0, 0.0, 0.0, 0.0, 0.0, 0.0, 0.0, 0.0, 0.0, 0.0, 0.0, 0.0, 0.0, 0.0, 0.0, 0.0, 0.0, 0.0, 0.0, 0.0, 0.0, 0.0, 0.0, 0.0, 0.0, 0.0, 0.0, 0.0, 0.0, 0.0, 0.0, 0.0, 0.0, 0.0, 0.0, 0.0, 0.0, 0.0, 0.0, 0.0, 0.0, 0.0, 0.0, 0.0, 0.0, 0.0, 0.0, 0.0, 0.0, 0.0, 0.0, 0.0, 0.0, 0.0, 0.0, 0.0, 0.0, 0.0, 0.0, 0.0, 0.0, 0.0, 0.0, 0.0, 0.0, 0.0, 0.0, 0.0, 0.0, 0.0, 0.0, 0.0, 0.0, 0.0, 0.0, 0.0, 0.0, 0.0, 0.0, 0.0, 0.0, 0.0, 0.0, 0.0]\n",
    "b=[0.09542066255961211, 0.08665094692877454, 0.04122357110868853, 0.09379832511134238, 0.04122357110868853, 0.04165293814897211, 0.20032402215100903, 1.0, 0.10528594664234403, 0.04165293814897211, 0.04165293814897211, 0.03406475258762248, 0.04165293814897211, 0.04122357110868853, 0.1251475871119652, 0.0, 0.011090982014362625, 0.01533101317225377, 0.0016195455709199422, 0.0188473615460499, 0.005683180632713135, 0.028203031271982367, 1.2252480455743555e-06, 0.003577950719990046, 0.06543430228338303, 0.2357414886376605, 0.12518869192408613, 0.001378462296061045, 0.05131892692730364, 0.006031244734147609, 0.01639768592048284, 0.0297625931554308, 0.12518869192408613, 0.12205405363335159, 0.07132569057350516, 0.08750889840833628, 0.1451860223368463, 0.016726759536327157, 0.010038862250100606, 0.1134435482255714, 0.12518869192408613, 0.12205405363335159, 0.023064190570476848, 0.017678265704436435, 0.1357165685619127, 0.016499162114146513, 0.25793181751598837, 0.015306849885686735, 0.07171749875878075, 0.17471103084746137, 0.015679224890244668, 0.01533101317225377, 0.014288368939026299, 0.1031656290731522, 0.0, 0.4483494415756112, 0.006031244734147609, 0.0, 0.0, 0.0, 0.0, 0.0, 0.06517420164257998, 0.12205405363335159, 0.12205405363335159, 0.07132569057350516, 0.07132569057350516, 0.08750889840833628, 0.08750889840833628, 0.062194661286017305, 0.09696209937961606, 0.1451860223368463, 0.013446419551227147, 0.013446419551227147, 0.1134435482255714, 0.1134435482255714, 0.1134435482255714, 0.13926253025694413, 0.12376558071722764, 0.08919416199011321, 0.04085992915680036, 0.09081526298518361, 0.05131892692730364, 0.288325374012604, 0.019070871602740232, 0.01453220954880814, 0.17471103084746137, 0.17471103084746137, 0.11799256956681889, 0.1855843380986964, 0.1666918124883832, 0.011090982014362625, 0.011090982014362625, 0.01533101317225377, 0.1031656290731522, 0.1031656290731522, 0.4702271062490033, 0.12205405363335159, 0.0, 0.02807638510728198, 0.017536566130392006, 0.01765128415367437, 0.014288368939026299, 0.014288368939026299, 0.017869277418336788, 0.022264474551520915]\n",
    "#b=[x*10 for x in b]\n",
    "print(min(b[:15]))\n",
    "print(max(b[15:]))\n",
    "average_precision_score(a, b)"
   ]
  },
  {
   "cell_type": "code",
   "execution_count": 3,
   "metadata": {},
   "outputs": [
    {
     "name": "stdout",
     "output_type": "stream",
     "text": [
      "bat  is inconsistent\n",
      "little_brown_bat  is inconsistent\n",
      "owl  is inconsistent\n",
      "Sea_Turtle_Dermochelys_Choriacea  is inconsistent\n",
      "trachemys_turtle  is inconsistent\n",
      "salmon  is inconsistent\n",
      "Sockeye_Salmon  is inconsistent\n",
      "Golden_Trout  is inconsistent\n",
      "spider  is inconsistent\n",
      "thin_leg_spider  is inconsistent\n"
     ]
    },
    {
     "name": "stderr",
     "output_type": "stream",
     "text": [
      "C:\\Users\\PC\\anaconda3\\envs\\CSpy3\\lib\\site-packages\\numpy\\lib\\function_base.py:2559: RuntimeWarning: invalid value encountered in true_divide\n",
      "  c /= stddev[:, None]\n",
      "C:\\Users\\PC\\anaconda3\\envs\\CSpy3\\lib\\site-packages\\numpy\\lib\\function_base.py:2560: RuntimeWarning: invalid value encountered in true_divide\n",
      "  c /= stddev[None, :]\n",
      "C:\\Users\\PC\\anaconda3\\envs\\CSpy3\\lib\\site-packages\\numpy\\lib\\function_base.py:2559: RuntimeWarning: invalid value encountered in true_divide\n",
      "  c /= stddev[:, None]\n",
      "C:\\Users\\PC\\anaconda3\\envs\\CSpy3\\lib\\site-packages\\numpy\\lib\\function_base.py:2560: RuntimeWarning: invalid value encountered in true_divide\n",
      "  c /= stddev[None, :]\n",
      "C:\\Users\\PC\\anaconda3\\envs\\CSpy3\\lib\\site-packages\\numpy\\lib\\function_base.py:2559: RuntimeWarning: invalid value encountered in true_divide\n",
      "  c /= stddev[:, None]\n",
      "C:\\Users\\PC\\anaconda3\\envs\\CSpy3\\lib\\site-packages\\numpy\\lib\\function_base.py:2560: RuntimeWarning: invalid value encountered in true_divide\n",
      "  c /= stddev[None, :]\n"
     ]
    },
    {
     "name": "stdout",
     "output_type": "stream",
     "text": [
      "0.7\n",
      "2.25\n",
      "1.5\n"
     ]
    },
    {
     "name": "stderr",
     "output_type": "stream",
     "text": [
      "C:\\Users\\PC\\anaconda3\\envs\\CSpy3\\lib\\site-packages\\numpy\\lib\\function_base.py:2559: RuntimeWarning: invalid value encountered in true_divide\n",
      "  c /= stddev[:, None]\n",
      "C:\\Users\\PC\\anaconda3\\envs\\CSpy3\\lib\\site-packages\\numpy\\lib\\function_base.py:2560: RuntimeWarning: invalid value encountered in true_divide\n",
      "  c /= stddev[None, :]\n",
      "C:\\Users\\PC\\anaconda3\\envs\\CSpy3\\lib\\site-packages\\numpy\\lib\\function_base.py:2559: RuntimeWarning: invalid value encountered in true_divide\n",
      "  c /= stddev[:, None]\n",
      "C:\\Users\\PC\\anaconda3\\envs\\CSpy3\\lib\\site-packages\\numpy\\lib\\function_base.py:2560: RuntimeWarning: invalid value encountered in true_divide\n",
      "  c /= stddev[None, :]\n",
      "C:\\Users\\PC\\anaconda3\\envs\\CSpy3\\lib\\site-packages\\numpy\\lib\\function_base.py:2559: RuntimeWarning: invalid value encountered in true_divide\n",
      "  c /= stddev[:, None]\n",
      "C:\\Users\\PC\\anaconda3\\envs\\CSpy3\\lib\\site-packages\\numpy\\lib\\function_base.py:2560: RuntimeWarning: invalid value encountered in true_divide\n",
      "  c /= stddev[None, :]\n"
     ]
    },
    {
     "name": "stdout",
     "output_type": "stream",
     "text": [
      "1.5\n",
      "0.7\n",
      "2.25\n"
     ]
    },
    {
     "name": "stderr",
     "output_type": "stream",
     "text": [
      "C:\\Users\\PC\\anaconda3\\envs\\CSpy3\\lib\\site-packages\\numpy\\lib\\function_base.py:2559: RuntimeWarning: invalid value encountered in true_divide\n",
      "  c /= stddev[:, None]\n",
      "C:\\Users\\PC\\anaconda3\\envs\\CSpy3\\lib\\site-packages\\numpy\\lib\\function_base.py:2560: RuntimeWarning: invalid value encountered in true_divide\n",
      "  c /= stddev[None, :]\n",
      "C:\\Users\\PC\\anaconda3\\envs\\CSpy3\\lib\\site-packages\\numpy\\lib\\function_base.py:2559: RuntimeWarning: invalid value encountered in true_divide\n",
      "  c /= stddev[:, None]\n",
      "C:\\Users\\PC\\anaconda3\\envs\\CSpy3\\lib\\site-packages\\numpy\\lib\\function_base.py:2560: RuntimeWarning: invalid value encountered in true_divide\n",
      "  c /= stddev[None, :]\n",
      "C:\\Users\\PC\\anaconda3\\envs\\CSpy3\\lib\\site-packages\\ipykernel_launcher.py:421: RuntimeWarning: invalid value encountered in double_scalars\n",
      "C:\\Users\\PC\\anaconda3\\envs\\CSpy3\\lib\\site-packages\\sklearn\\metrics\\_ranking.py:817: RuntimeWarning: invalid value encountered in true_divide\n",
      "  recall = tps / tps[-1]\n",
      "C:\\Users\\PC\\anaconda3\\envs\\CSpy3\\lib\\site-packages\\ipykernel_launcher.py:421: RuntimeWarning: invalid value encountered in double_scalars\n",
      "C:\\Users\\PC\\anaconda3\\envs\\CSpy3\\lib\\site-packages\\sklearn\\metrics\\_ranking.py:817: RuntimeWarning: invalid value encountered in true_divide\n",
      "  recall = tps / tps[-1]\n"
     ]
    },
    {
     "name": "stdout",
     "output_type": "stream",
     "text": [
      "1.5\n",
      "0.7\n"
     ]
    },
    {
     "name": "stderr",
     "output_type": "stream",
     "text": [
      "C:\\Users\\PC\\anaconda3\\envs\\CSpy3\\lib\\site-packages\\numpy\\lib\\function_base.py:2559: RuntimeWarning: invalid value encountered in true_divide\n",
      "  c /= stddev[:, None]\n",
      "C:\\Users\\PC\\anaconda3\\envs\\CSpy3\\lib\\site-packages\\numpy\\lib\\function_base.py:2560: RuntimeWarning: invalid value encountered in true_divide\n",
      "  c /= stddev[None, :]\n",
      "C:\\Users\\PC\\anaconda3\\envs\\CSpy3\\lib\\site-packages\\numpy\\lib\\function_base.py:2559: RuntimeWarning: invalid value encountered in true_divide\n",
      "  c /= stddev[:, None]\n",
      "C:\\Users\\PC\\anaconda3\\envs\\CSpy3\\lib\\site-packages\\numpy\\lib\\function_base.py:2560: RuntimeWarning: invalid value encountered in true_divide\n",
      "  c /= stddev[None, :]\n",
      "C:\\Users\\PC\\anaconda3\\envs\\CSpy3\\lib\\site-packages\\numpy\\lib\\function_base.py:2559: RuntimeWarning: invalid value encountered in true_divide\n",
      "  c /= stddev[:, None]\n",
      "C:\\Users\\PC\\anaconda3\\envs\\CSpy3\\lib\\site-packages\\numpy\\lib\\function_base.py:2560: RuntimeWarning: invalid value encountered in true_divide\n",
      "  c /= stddev[None, :]\n",
      "C:\\Users\\PC\\anaconda3\\envs\\CSpy3\\lib\\site-packages\\numpy\\lib\\function_base.py:2559: RuntimeWarning: invalid value encountered in true_divide\n",
      "  c /= stddev[:, None]\n",
      "C:\\Users\\PC\\anaconda3\\envs\\CSpy3\\lib\\site-packages\\numpy\\lib\\function_base.py:2560: RuntimeWarning: invalid value encountered in true_divide\n",
      "  c /= stddev[None, :]\n"
     ]
    },
    {
     "name": "stdout",
     "output_type": "stream",
     "text": [
      "0.7\n",
      "2.25\n",
      "2.2607022840704376\n",
      "2.25\n"
     ]
    },
    {
     "name": "stderr",
     "output_type": "stream",
     "text": [
      "C:\\Users\\PC\\anaconda3\\envs\\CSpy3\\lib\\site-packages\\numpy\\lib\\function_base.py:2559: RuntimeWarning: invalid value encountered in true_divide\n",
      "  c /= stddev[:, None]\n",
      "C:\\Users\\PC\\anaconda3\\envs\\CSpy3\\lib\\site-packages\\numpy\\lib\\function_base.py:2560: RuntimeWarning: invalid value encountered in true_divide\n",
      "  c /= stddev[None, :]\n",
      "C:\\Users\\PC\\anaconda3\\envs\\CSpy3\\lib\\site-packages\\numpy\\lib\\function_base.py:2559: RuntimeWarning: invalid value encountered in true_divide\n",
      "  c /= stddev[:, None]\n",
      "C:\\Users\\PC\\anaconda3\\envs\\CSpy3\\lib\\site-packages\\numpy\\lib\\function_base.py:2560: RuntimeWarning: invalid value encountered in true_divide\n",
      "  c /= stddev[None, :]\n",
      "C:\\Users\\PC\\anaconda3\\envs\\CSpy3\\lib\\site-packages\\numpy\\lib\\function_base.py:2559: RuntimeWarning: invalid value encountered in true_divide\n",
      "  c /= stddev[:, None]\n",
      "C:\\Users\\PC\\anaconda3\\envs\\CSpy3\\lib\\site-packages\\numpy\\lib\\function_base.py:2560: RuntimeWarning: invalid value encountered in true_divide\n",
      "  c /= stddev[None, :]\n"
     ]
    },
    {
     "name": "stdout",
     "output_type": "stream",
     "text": [
      "2.25\n",
      "2.25\n",
      "2.25\n"
     ]
    },
    {
     "name": "stderr",
     "output_type": "stream",
     "text": [
      "C:\\Users\\PC\\anaconda3\\envs\\CSpy3\\lib\\site-packages\\numpy\\lib\\function_base.py:2559: RuntimeWarning: invalid value encountered in true_divide\n",
      "  c /= stddev[:, None]\n",
      "C:\\Users\\PC\\anaconda3\\envs\\CSpy3\\lib\\site-packages\\numpy\\lib\\function_base.py:2560: RuntimeWarning: invalid value encountered in true_divide\n",
      "  c /= stddev[None, :]\n",
      "C:\\Users\\PC\\anaconda3\\envs\\CSpy3\\lib\\site-packages\\numpy\\lib\\function_base.py:2559: RuntimeWarning: invalid value encountered in true_divide\n",
      "  c /= stddev[:, None]\n",
      "C:\\Users\\PC\\anaconda3\\envs\\CSpy3\\lib\\site-packages\\numpy\\lib\\function_base.py:2560: RuntimeWarning: invalid value encountered in true_divide\n",
      "  c /= stddev[None, :]\n",
      "C:\\Users\\PC\\anaconda3\\envs\\CSpy3\\lib\\site-packages\\numpy\\lib\\function_base.py:2559: RuntimeWarning: invalid value encountered in true_divide\n",
      "  c /= stddev[:, None]\n",
      "C:\\Users\\PC\\anaconda3\\envs\\CSpy3\\lib\\site-packages\\numpy\\lib\\function_base.py:2560: RuntimeWarning: invalid value encountered in true_divide\n",
      "  c /= stddev[None, :]\n"
     ]
    },
    {
     "name": "stdout",
     "output_type": "stream",
     "text": [
      "2.25\n",
      "1.5\n",
      "2.25\n"
     ]
    },
    {
     "name": "stderr",
     "output_type": "stream",
     "text": [
      "C:\\Users\\PC\\anaconda3\\envs\\CSpy3\\lib\\site-packages\\numpy\\lib\\function_base.py:2559: RuntimeWarning: invalid value encountered in true_divide\n",
      "  c /= stddev[:, None]\n",
      "C:\\Users\\PC\\anaconda3\\envs\\CSpy3\\lib\\site-packages\\numpy\\lib\\function_base.py:2559: RuntimeWarning: invalid value encountered in true_divide\n",
      "  c /= stddev[:, None]\n",
      "C:\\Users\\PC\\anaconda3\\envs\\CSpy3\\lib\\site-packages\\numpy\\lib\\function_base.py:2560: RuntimeWarning: invalid value encountered in true_divide\n",
      "  c /= stddev[None, :]\n"
     ]
    },
    {
     "name": "stdout",
     "output_type": "stream",
     "text": [
      "0.7\n",
      "0.7\n"
     ]
    },
    {
     "name": "stderr",
     "output_type": "stream",
     "text": [
      "C:\\Users\\PC\\anaconda3\\envs\\CSpy3\\lib\\site-packages\\numpy\\lib\\function_base.py:2559: RuntimeWarning: invalid value encountered in true_divide\n",
      "  c /= stddev[:, None]\n",
      "C:\\Users\\PC\\anaconda3\\envs\\CSpy3\\lib\\site-packages\\numpy\\lib\\function_base.py:2560: RuntimeWarning: invalid value encountered in true_divide\n",
      "  c /= stddev[None, :]\n",
      "C:\\Users\\PC\\anaconda3\\envs\\CSpy3\\lib\\site-packages\\numpy\\lib\\function_base.py:2559: RuntimeWarning: invalid value encountered in true_divide\n",
      "  c /= stddev[:, None]\n",
      "C:\\Users\\PC\\anaconda3\\envs\\CSpy3\\lib\\site-packages\\numpy\\lib\\function_base.py:2560: RuntimeWarning: invalid value encountered in true_divide\n",
      "  c /= stddev[None, :]\n",
      "C:\\Users\\PC\\anaconda3\\envs\\CSpy3\\lib\\site-packages\\numpy\\lib\\function_base.py:2559: RuntimeWarning: invalid value encountered in true_divide\n",
      "  c /= stddev[:, None]\n",
      "C:\\Users\\PC\\anaconda3\\envs\\CSpy3\\lib\\site-packages\\numpy\\lib\\function_base.py:2560: RuntimeWarning: invalid value encountered in true_divide\n",
      "  c /= stddev[None, :]\n"
     ]
    },
    {
     "name": "stdout",
     "output_type": "stream",
     "text": [
      "0.7\n",
      "2.25\n",
      "2.25\n"
     ]
    },
    {
     "name": "stderr",
     "output_type": "stream",
     "text": [
      "C:\\Users\\PC\\anaconda3\\envs\\CSpy3\\lib\\site-packages\\numpy\\lib\\function_base.py:2559: RuntimeWarning: invalid value encountered in true_divide\n",
      "  c /= stddev[:, None]\n",
      "C:\\Users\\PC\\anaconda3\\envs\\CSpy3\\lib\\site-packages\\numpy\\lib\\function_base.py:2560: RuntimeWarning: invalid value encountered in true_divide\n",
      "  c /= stddev[None, :]\n",
      "C:\\Users\\PC\\anaconda3\\envs\\CSpy3\\lib\\site-packages\\numpy\\lib\\function_base.py:2559: RuntimeWarning: invalid value encountered in true_divide\n",
      "  c /= stddev[:, None]\n",
      "C:\\Users\\PC\\anaconda3\\envs\\CSpy3\\lib\\site-packages\\numpy\\lib\\function_base.py:2560: RuntimeWarning: invalid value encountered in true_divide\n",
      "  c /= stddev[None, :]\n",
      "C:\\Users\\PC\\anaconda3\\envs\\CSpy3\\lib\\site-packages\\numpy\\lib\\function_base.py:2559: RuntimeWarning: invalid value encountered in true_divide\n",
      "  c /= stddev[:, None]\n",
      "C:\\Users\\PC\\anaconda3\\envs\\CSpy3\\lib\\site-packages\\numpy\\lib\\function_base.py:2560: RuntimeWarning: invalid value encountered in true_divide\n",
      "  c /= stddev[None, :]\n",
      "C:\\Users\\PC\\anaconda3\\envs\\CSpy3\\lib\\site-packages\\numpy\\lib\\function_base.py:2559: RuntimeWarning: invalid value encountered in true_divide\n",
      "  c /= stddev[:, None]\n",
      "C:\\Users\\PC\\anaconda3\\envs\\CSpy3\\lib\\site-packages\\numpy\\lib\\function_base.py:2560: RuntimeWarning: invalid value encountered in true_divide\n",
      "  c /= stddev[None, :]\n"
     ]
    },
    {
     "name": "stdout",
     "output_type": "stream",
     "text": [
      "0.7\n",
      "2.25\n",
      "2.25\n",
      "2.25\n"
     ]
    },
    {
     "name": "stderr",
     "output_type": "stream",
     "text": [
      "C:\\Users\\PC\\anaconda3\\envs\\CSpy3\\lib\\site-packages\\numpy\\lib\\function_base.py:2559: RuntimeWarning: invalid value encountered in true_divide\n",
      "  c /= stddev[:, None]\n",
      "C:\\Users\\PC\\anaconda3\\envs\\CSpy3\\lib\\site-packages\\numpy\\lib\\function_base.py:2560: RuntimeWarning: invalid value encountered in true_divide\n",
      "  c /= stddev[None, :]\n",
      "C:\\Users\\PC\\anaconda3\\envs\\CSpy3\\lib\\site-packages\\numpy\\lib\\function_base.py:2559: RuntimeWarning: invalid value encountered in true_divide\n",
      "  c /= stddev[:, None]\n",
      "C:\\Users\\PC\\anaconda3\\envs\\CSpy3\\lib\\site-packages\\numpy\\lib\\function_base.py:2560: RuntimeWarning: invalid value encountered in true_divide\n",
      "  c /= stddev[None, :]\n",
      "C:\\Users\\PC\\anaconda3\\envs\\CSpy3\\lib\\site-packages\\numpy\\lib\\function_base.py:2559: RuntimeWarning: invalid value encountered in true_divide\n",
      "  c /= stddev[:, None]\n",
      "C:\\Users\\PC\\anaconda3\\envs\\CSpy3\\lib\\site-packages\\numpy\\lib\\function_base.py:2560: RuntimeWarning: invalid value encountered in true_divide\n",
      "  c /= stddev[None, :]\n"
     ]
    },
    {
     "name": "stdout",
     "output_type": "stream",
     "text": [
      "2.25\n",
      "1.5\n",
      "2.25\n",
      "2.25\n",
      "2.25\n"
     ]
    },
    {
     "name": "stderr",
     "output_type": "stream",
     "text": [
      "C:\\Users\\PC\\anaconda3\\envs\\CSpy3\\lib\\site-packages\\numpy\\lib\\function_base.py:2559: RuntimeWarning: invalid value encountered in true_divide\n",
      "  c /= stddev[:, None]\n",
      "C:\\Users\\PC\\anaconda3\\envs\\CSpy3\\lib\\site-packages\\numpy\\lib\\function_base.py:2560: RuntimeWarning: invalid value encountered in true_divide\n",
      "  c /= stddev[None, :]\n",
      "C:\\Users\\PC\\anaconda3\\envs\\CSpy3\\lib\\site-packages\\numpy\\lib\\function_base.py:2559: RuntimeWarning: invalid value encountered in true_divide\n",
      "  c /= stddev[:, None]\n",
      "C:\\Users\\PC\\anaconda3\\envs\\CSpy3\\lib\\site-packages\\numpy\\lib\\function_base.py:2560: RuntimeWarning: invalid value encountered in true_divide\n",
      "  c /= stddev[None, :]\n",
      "C:\\Users\\PC\\anaconda3\\envs\\CSpy3\\lib\\site-packages\\numpy\\lib\\function_base.py:2559: RuntimeWarning: invalid value encountered in true_divide\n",
      "  c /= stddev[:, None]\n",
      "C:\\Users\\PC\\anaconda3\\envs\\CSpy3\\lib\\site-packages\\numpy\\lib\\function_base.py:2560: RuntimeWarning: invalid value encountered in true_divide\n",
      "  c /= stddev[None, :]\n"
     ]
    },
    {
     "name": "stdout",
     "output_type": "stream",
     "text": [
      "2.25\n",
      "1.5\n",
      "2.25\n"
     ]
    },
    {
     "name": "stderr",
     "output_type": "stream",
     "text": [
      "C:\\Users\\PC\\anaconda3\\envs\\CSpy3\\lib\\site-packages\\numpy\\lib\\function_base.py:2559: RuntimeWarning: invalid value encountered in true_divide\n",
      "  c /= stddev[:, None]\n",
      "C:\\Users\\PC\\anaconda3\\envs\\CSpy3\\lib\\site-packages\\numpy\\lib\\function_base.py:2560: RuntimeWarning: invalid value encountered in true_divide\n",
      "  c /= stddev[None, :]\n",
      "C:\\Users\\PC\\anaconda3\\envs\\CSpy3\\lib\\site-packages\\numpy\\lib\\function_base.py:2559: RuntimeWarning: invalid value encountered in true_divide\n",
      "  c /= stddev[:, None]\n",
      "C:\\Users\\PC\\anaconda3\\envs\\CSpy3\\lib\\site-packages\\numpy\\lib\\function_base.py:2560: RuntimeWarning: invalid value encountered in true_divide\n",
      "  c /= stddev[None, :]\n",
      "C:\\Users\\PC\\anaconda3\\envs\\CSpy3\\lib\\site-packages\\numpy\\lib\\function_base.py:2559: RuntimeWarning: invalid value encountered in true_divide\n",
      "  c /= stddev[:, None]\n",
      "C:\\Users\\PC\\anaconda3\\envs\\CSpy3\\lib\\site-packages\\numpy\\lib\\function_base.py:2560: RuntimeWarning: invalid value encountered in true_divide\n",
      "  c /= stddev[None, :]\n"
     ]
    },
    {
     "name": "stdout",
     "output_type": "stream",
     "text": [
      "0.7\n",
      "2.25\n",
      "0.7\n"
     ]
    },
    {
     "name": "stderr",
     "output_type": "stream",
     "text": [
      "C:\\Users\\PC\\anaconda3\\envs\\CSpy3\\lib\\site-packages\\numpy\\lib\\function_base.py:2559: RuntimeWarning: invalid value encountered in true_divide\n",
      "  c /= stddev[:, None]\n",
      "C:\\Users\\PC\\anaconda3\\envs\\CSpy3\\lib\\site-packages\\numpy\\lib\\function_base.py:2560: RuntimeWarning: invalid value encountered in true_divide\n",
      "  c /= stddev[None, :]\n",
      "C:\\Users\\PC\\anaconda3\\envs\\CSpy3\\lib\\site-packages\\numpy\\lib\\function_base.py:2559: RuntimeWarning: invalid value encountered in true_divide\n",
      "  c /= stddev[:, None]\n",
      "C:\\Users\\PC\\anaconda3\\envs\\CSpy3\\lib\\site-packages\\numpy\\lib\\function_base.py:2560: RuntimeWarning: invalid value encountered in true_divide\n",
      "  c /= stddev[None, :]\n",
      "C:\\Users\\PC\\anaconda3\\envs\\CSpy3\\lib\\site-packages\\numpy\\lib\\function_base.py:2559: RuntimeWarning: invalid value encountered in true_divide\n",
      "  c /= stddev[:, None]\n",
      "C:\\Users\\PC\\anaconda3\\envs\\CSpy3\\lib\\site-packages\\numpy\\lib\\function_base.py:2560: RuntimeWarning: invalid value encountered in true_divide\n",
      "  c /= stddev[None, :]\n",
      "C:\\Users\\PC\\anaconda3\\envs\\CSpy3\\lib\\site-packages\\numpy\\lib\\function_base.py:2559: RuntimeWarning: invalid value encountered in true_divide\n",
      "  c /= stddev[:, None]\n",
      "C:\\Users\\PC\\anaconda3\\envs\\CSpy3\\lib\\site-packages\\numpy\\lib\\function_base.py:2560: RuntimeWarning: invalid value encountered in true_divide\n",
      "  c /= stddev[None, :]\n",
      "C:\\Users\\PC\\anaconda3\\envs\\CSpy3\\lib\\site-packages\\numpy\\lib\\function_base.py:2559: RuntimeWarning: invalid value encountered in true_divide\n",
      "  c /= stddev[:, None]\n",
      "C:\\Users\\PC\\anaconda3\\envs\\CSpy3\\lib\\site-packages\\numpy\\lib\\function_base.py:2560: RuntimeWarning: invalid value encountered in true_divide\n",
      "  c /= stddev[None, :]\n"
     ]
    },
    {
     "name": "stdout",
     "output_type": "stream",
     "text": [
      "0.7\n",
      "1.5\n",
      "0.7\n"
     ]
    },
    {
     "name": "stderr",
     "output_type": "stream",
     "text": [
      "C:\\Users\\PC\\anaconda3\\envs\\CSpy3\\lib\\site-packages\\numpy\\lib\\function_base.py:2559: RuntimeWarning: invalid value encountered in true_divide\n",
      "  c /= stddev[:, None]\n",
      "C:\\Users\\PC\\anaconda3\\envs\\CSpy3\\lib\\site-packages\\numpy\\lib\\function_base.py:2560: RuntimeWarning: invalid value encountered in true_divide\n",
      "  c /= stddev[None, :]\n",
      "C:\\Users\\PC\\anaconda3\\envs\\CSpy3\\lib\\site-packages\\numpy\\lib\\function_base.py:2559: RuntimeWarning: invalid value encountered in true_divide\n",
      "  c /= stddev[:, None]\n",
      "C:\\Users\\PC\\anaconda3\\envs\\CSpy3\\lib\\site-packages\\numpy\\lib\\function_base.py:2560: RuntimeWarning: invalid value encountered in true_divide\n",
      "  c /= stddev[None, :]\n",
      "C:\\Users\\PC\\anaconda3\\envs\\CSpy3\\lib\\site-packages\\numpy\\lib\\function_base.py:2559: RuntimeWarning: invalid value encountered in true_divide\n",
      "  c /= stddev[:, None]\n",
      "C:\\Users\\PC\\anaconda3\\envs\\CSpy3\\lib\\site-packages\\numpy\\lib\\function_base.py:2560: RuntimeWarning: invalid value encountered in true_divide\n",
      "  c /= stddev[None, :]\n"
     ]
    },
    {
     "name": "stdout",
     "output_type": "stream",
     "text": [
      "0.7\n",
      "2.25\n",
      "1.5\n"
     ]
    },
    {
     "name": "stderr",
     "output_type": "stream",
     "text": [
      "C:\\Users\\PC\\anaconda3\\envs\\CSpy3\\lib\\site-packages\\numpy\\lib\\function_base.py:2559: RuntimeWarning: invalid value encountered in true_divide\n",
      "  c /= stddev[:, None]\n",
      "C:\\Users\\PC\\anaconda3\\envs\\CSpy3\\lib\\site-packages\\numpy\\lib\\function_base.py:2560: RuntimeWarning: invalid value encountered in true_divide\n",
      "  c /= stddev[None, :]\n",
      "C:\\Users\\PC\\anaconda3\\envs\\CSpy3\\lib\\site-packages\\numpy\\lib\\function_base.py:2559: RuntimeWarning: invalid value encountered in true_divide\n",
      "  c /= stddev[:, None]\n",
      "C:\\Users\\PC\\anaconda3\\envs\\CSpy3\\lib\\site-packages\\numpy\\lib\\function_base.py:2560: RuntimeWarning: invalid value encountered in true_divide\n",
      "  c /= stddev[None, :]\n",
      "C:\\Users\\PC\\anaconda3\\envs\\CSpy3\\lib\\site-packages\\numpy\\lib\\function_base.py:2559: RuntimeWarning: invalid value encountered in true_divide\n",
      "  c /= stddev[:, None]\n",
      "C:\\Users\\PC\\anaconda3\\envs\\CSpy3\\lib\\site-packages\\numpy\\lib\\function_base.py:2560: RuntimeWarning: invalid value encountered in true_divide\n",
      "  c /= stddev[None, :]\n"
     ]
    },
    {
     "name": "stdout",
     "output_type": "stream",
     "text": [
      "1.5\n",
      "2.25\n",
      "2.25\n"
     ]
    },
    {
     "name": "stderr",
     "output_type": "stream",
     "text": [
      "C:\\Users\\PC\\anaconda3\\envs\\CSpy3\\lib\\site-packages\\numpy\\lib\\function_base.py:2559: RuntimeWarning: invalid value encountered in true_divide\n",
      "  c /= stddev[:, None]\n"
     ]
    },
    {
     "name": "stdout",
     "output_type": "stream",
     "text": [
      "0.7\n",
      "0.7\n",
      "0.7\n",
      "0.7\n",
      "0.8333333333333334\n",
      "0.8333333333333334\n",
      "2.25\n",
      "2.25\n"
     ]
    },
    {
     "name": "stderr",
     "output_type": "stream",
     "text": [
      "C:\\Users\\PC\\anaconda3\\envs\\CSpy3\\lib\\site-packages\\numpy\\lib\\function_base.py:2559: RuntimeWarning: invalid value encountered in true_divide\n",
      "  c /= stddev[:, None]\n",
      "C:\\Users\\PC\\anaconda3\\envs\\CSpy3\\lib\\site-packages\\numpy\\lib\\function_base.py:2560: RuntimeWarning: invalid value encountered in true_divide\n",
      "  c /= stddev[None, :]\n",
      "C:\\Users\\PC\\anaconda3\\envs\\CSpy3\\lib\\site-packages\\numpy\\lib\\function_base.py:2559: RuntimeWarning: invalid value encountered in true_divide\n",
      "  c /= stddev[:, None]\n",
      "C:\\Users\\PC\\anaconda3\\envs\\CSpy3\\lib\\site-packages\\numpy\\lib\\function_base.py:2560: RuntimeWarning: invalid value encountered in true_divide\n",
      "  c /= stddev[None, :]\n",
      "C:\\Users\\PC\\anaconda3\\envs\\CSpy3\\lib\\site-packages\\numpy\\lib\\function_base.py:2559: RuntimeWarning: invalid value encountered in true_divide\n",
      "  c /= stddev[:, None]\n",
      "C:\\Users\\PC\\anaconda3\\envs\\CSpy3\\lib\\site-packages\\numpy\\lib\\function_base.py:2560: RuntimeWarning: invalid value encountered in true_divide\n",
      "  c /= stddev[None, :]\n"
     ]
    },
    {
     "name": "stdout",
     "output_type": "stream",
     "text": [
      "0.7\n",
      "0.7\n",
      "2.25\n",
      "2.25\n"
     ]
    },
    {
     "name": "stderr",
     "output_type": "stream",
     "text": [
      "C:\\Users\\PC\\anaconda3\\envs\\CSpy3\\lib\\site-packages\\numpy\\lib\\function_base.py:2559: RuntimeWarning: invalid value encountered in true_divide\n",
      "  c /= stddev[:, None]\n",
      "C:\\Users\\PC\\anaconda3\\envs\\CSpy3\\lib\\site-packages\\numpy\\lib\\function_base.py:2560: RuntimeWarning: invalid value encountered in true_divide\n",
      "  c /= stddev[None, :]\n",
      "C:\\Users\\PC\\anaconda3\\envs\\CSpy3\\lib\\site-packages\\numpy\\lib\\function_base.py:2559: RuntimeWarning: invalid value encountered in true_divide\n",
      "  c /= stddev[:, None]\n",
      "C:\\Users\\PC\\anaconda3\\envs\\CSpy3\\lib\\site-packages\\numpy\\lib\\function_base.py:2560: RuntimeWarning: invalid value encountered in true_divide\n",
      "  c /= stddev[None, :]\n",
      "C:\\Users\\PC\\anaconda3\\envs\\CSpy3\\lib\\site-packages\\numpy\\lib\\function_base.py:2559: RuntimeWarning: invalid value encountered in true_divide\n",
      "  c /= stddev[:, None]\n",
      "C:\\Users\\PC\\anaconda3\\envs\\CSpy3\\lib\\site-packages\\numpy\\lib\\function_base.py:2560: RuntimeWarning: invalid value encountered in true_divide\n",
      "  c /= stddev[None, :]\n",
      "C:\\Users\\PC\\anaconda3\\envs\\CSpy3\\lib\\site-packages\\numpy\\lib\\function_base.py:2559: RuntimeWarning: invalid value encountered in true_divide\n",
      "  c /= stddev[:, None]\n",
      "C:\\Users\\PC\\anaconda3\\envs\\CSpy3\\lib\\site-packages\\numpy\\lib\\function_base.py:2560: RuntimeWarning: invalid value encountered in true_divide\n",
      "  c /= stddev[None, :]\n"
     ]
    },
    {
     "name": "stdout",
     "output_type": "stream",
     "text": [
      "2.25\n",
      "2.25\n",
      "2.25\n",
      "2.25\n"
     ]
    },
    {
     "name": "stderr",
     "output_type": "stream",
     "text": [
      "C:\\Users\\PC\\anaconda3\\envs\\CSpy3\\lib\\site-packages\\numpy\\lib\\function_base.py:2559: RuntimeWarning: invalid value encountered in true_divide\n",
      "  c /= stddev[:, None]\n",
      "C:\\Users\\PC\\anaconda3\\envs\\CSpy3\\lib\\site-packages\\numpy\\lib\\function_base.py:2560: RuntimeWarning: invalid value encountered in true_divide\n",
      "  c /= stddev[None, :]\n",
      "C:\\Users\\PC\\anaconda3\\envs\\CSpy3\\lib\\site-packages\\numpy\\lib\\function_base.py:2559: RuntimeWarning: invalid value encountered in true_divide\n",
      "  c /= stddev[:, None]\n",
      "C:\\Users\\PC\\anaconda3\\envs\\CSpy3\\lib\\site-packages\\numpy\\lib\\function_base.py:2560: RuntimeWarning: invalid value encountered in true_divide\n",
      "  c /= stddev[None, :]\n",
      "C:\\Users\\PC\\anaconda3\\envs\\CSpy3\\lib\\site-packages\\numpy\\lib\\function_base.py:2559: RuntimeWarning: invalid value encountered in true_divide\n",
      "  c /= stddev[:, None]\n",
      "C:\\Users\\PC\\anaconda3\\envs\\CSpy3\\lib\\site-packages\\numpy\\lib\\function_base.py:2560: RuntimeWarning: invalid value encountered in true_divide\n",
      "  c /= stddev[None, :]\n",
      "C:\\Users\\PC\\anaconda3\\envs\\CSpy3\\lib\\site-packages\\numpy\\lib\\function_base.py:2559: RuntimeWarning: invalid value encountered in true_divide\n",
      "  c /= stddev[:, None]\n",
      "C:\\Users\\PC\\anaconda3\\envs\\CSpy3\\lib\\site-packages\\numpy\\lib\\function_base.py:2560: RuntimeWarning: invalid value encountered in true_divide\n",
      "  c /= stddev[None, :]\n"
     ]
    },
    {
     "name": "stdout",
     "output_type": "stream",
     "text": [
      "2.25\n",
      "2.25\n",
      "2.25\n",
      "2.25\n"
     ]
    },
    {
     "name": "stderr",
     "output_type": "stream",
     "text": [
      "C:\\Users\\PC\\anaconda3\\envs\\CSpy3\\lib\\site-packages\\numpy\\lib\\function_base.py:2559: RuntimeWarning: invalid value encountered in true_divide\n",
      "  c /= stddev[:, None]\n",
      "C:\\Users\\PC\\anaconda3\\envs\\CSpy3\\lib\\site-packages\\numpy\\lib\\function_base.py:2560: RuntimeWarning: invalid value encountered in true_divide\n",
      "  c /= stddev[None, :]\n",
      "C:\\Users\\PC\\anaconda3\\envs\\CSpy3\\lib\\site-packages\\numpy\\lib\\function_base.py:2559: RuntimeWarning: invalid value encountered in true_divide\n",
      "  c /= stddev[:, None]\n",
      "C:\\Users\\PC\\anaconda3\\envs\\CSpy3\\lib\\site-packages\\numpy\\lib\\function_base.py:2560: RuntimeWarning: invalid value encountered in true_divide\n",
      "  c /= stddev[None, :]\n",
      "C:\\Users\\PC\\anaconda3\\envs\\CSpy3\\lib\\site-packages\\numpy\\lib\\function_base.py:2559: RuntimeWarning: invalid value encountered in true_divide\n",
      "  c /= stddev[:, None]\n",
      "C:\\Users\\PC\\anaconda3\\envs\\CSpy3\\lib\\site-packages\\numpy\\lib\\function_base.py:2560: RuntimeWarning: invalid value encountered in true_divide\n",
      "  c /= stddev[None, :]\n",
      "C:\\Users\\PC\\anaconda3\\envs\\CSpy3\\lib\\site-packages\\numpy\\lib\\function_base.py:2559: RuntimeWarning: invalid value encountered in true_divide\n",
      "  c /= stddev[:, None]\n",
      "C:\\Users\\PC\\anaconda3\\envs\\CSpy3\\lib\\site-packages\\numpy\\lib\\function_base.py:2559: RuntimeWarning: invalid value encountered in true_divide\n",
      "  c /= stddev[:, None]\n",
      "C:\\Users\\PC\\anaconda3\\envs\\CSpy3\\lib\\site-packages\\numpy\\lib\\function_base.py:2559: RuntimeWarning: invalid value encountered in true_divide\n",
      "  c /= stddev[:, None]\n"
     ]
    },
    {
     "name": "stdout",
     "output_type": "stream",
     "text": [
      "0.7\n",
      "0.7\n",
      "0.7\n"
     ]
    },
    {
     "name": "stderr",
     "output_type": "stream",
     "text": [
      "C:\\Users\\PC\\anaconda3\\envs\\CSpy3\\lib\\site-packages\\numpy\\lib\\function_base.py:2559: RuntimeWarning: invalid value encountered in true_divide\n",
      "  c /= stddev[:, None]\n",
      "C:\\Users\\PC\\anaconda3\\envs\\CSpy3\\lib\\site-packages\\numpy\\lib\\function_base.py:2560: RuntimeWarning: invalid value encountered in true_divide\n",
      "  c /= stddev[None, :]\n",
      "C:\\Users\\PC\\anaconda3\\envs\\CSpy3\\lib\\site-packages\\numpy\\lib\\function_base.py:2559: RuntimeWarning: invalid value encountered in true_divide\n",
      "  c /= stddev[:, None]\n",
      "C:\\Users\\PC\\anaconda3\\envs\\CSpy3\\lib\\site-packages\\numpy\\lib\\function_base.py:2560: RuntimeWarning: invalid value encountered in true_divide\n",
      "  c /= stddev[None, :]\n",
      "C:\\Users\\PC\\anaconda3\\envs\\CSpy3\\lib\\site-packages\\numpy\\lib\\function_base.py:2559: RuntimeWarning: invalid value encountered in true_divide\n",
      "  c /= stddev[:, None]\n",
      "C:\\Users\\PC\\anaconda3\\envs\\CSpy3\\lib\\site-packages\\numpy\\lib\\function_base.py:2560: RuntimeWarning: invalid value encountered in true_divide\n",
      "  c /= stddev[None, :]\n"
     ]
    },
    {
     "name": "stdout",
     "output_type": "stream",
     "text": [
      "1.519301451440969\n",
      "1.5\n",
      "1.5\n"
     ]
    },
    {
     "name": "stderr",
     "output_type": "stream",
     "text": [
      "C:\\Users\\PC\\anaconda3\\envs\\CSpy3\\lib\\site-packages\\numpy\\lib\\function_base.py:2559: RuntimeWarning: invalid value encountered in true_divide\n",
      "  c /= stddev[:, None]\n",
      "C:\\Users\\PC\\anaconda3\\envs\\CSpy3\\lib\\site-packages\\numpy\\lib\\function_base.py:2560: RuntimeWarning: invalid value encountered in true_divide\n",
      "  c /= stddev[None, :]\n",
      "C:\\Users\\PC\\anaconda3\\envs\\CSpy3\\lib\\site-packages\\numpy\\lib\\function_base.py:2559: RuntimeWarning: invalid value encountered in true_divide\n",
      "  c /= stddev[:, None]\n",
      "C:\\Users\\PC\\anaconda3\\envs\\CSpy3\\lib\\site-packages\\numpy\\lib\\function_base.py:2560: RuntimeWarning: invalid value encountered in true_divide\n",
      "  c /= stddev[None, :]\n",
      "C:\\Users\\PC\\anaconda3\\envs\\CSpy3\\lib\\site-packages\\numpy\\lib\\function_base.py:2559: RuntimeWarning: invalid value encountered in true_divide\n",
      "  c /= stddev[:, None]\n",
      "C:\\Users\\PC\\anaconda3\\envs\\CSpy3\\lib\\site-packages\\numpy\\lib\\function_base.py:2560: RuntimeWarning: invalid value encountered in true_divide\n",
      "  c /= stddev[None, :]\n"
     ]
    },
    {
     "name": "stdout",
     "output_type": "stream",
     "text": [
      "1.5\n",
      "2.25\n",
      "2.25\n",
      "0.7\n",
      "0.7\n"
     ]
    },
    {
     "name": "stderr",
     "output_type": "stream",
     "text": [
      "C:\\Users\\PC\\anaconda3\\envs\\CSpy3\\lib\\site-packages\\numpy\\lib\\function_base.py:2559: RuntimeWarning: invalid value encountered in true_divide\n",
      "  c /= stddev[:, None]\n",
      "C:\\Users\\PC\\anaconda3\\envs\\CSpy3\\lib\\site-packages\\numpy\\lib\\function_base.py:2560: RuntimeWarning: invalid value encountered in true_divide\n",
      "  c /= stddev[None, :]\n",
      "C:\\Users\\PC\\anaconda3\\envs\\CSpy3\\lib\\site-packages\\ipykernel_launcher.py:421: RuntimeWarning: invalid value encountered in double_scalars\n",
      "C:\\Users\\PC\\anaconda3\\envs\\CSpy3\\lib\\site-packages\\sklearn\\metrics\\_ranking.py:817: RuntimeWarning: invalid value encountered in true_divide\n",
      "  recall = tps / tps[-1]\n",
      "C:\\Users\\PC\\anaconda3\\envs\\CSpy3\\lib\\site-packages\\ipykernel_launcher.py:421: RuntimeWarning: invalid value encountered in double_scalars\n",
      "C:\\Users\\PC\\anaconda3\\envs\\CSpy3\\lib\\site-packages\\sklearn\\metrics\\_ranking.py:817: RuntimeWarning: invalid value encountered in true_divide\n",
      "  recall = tps / tps[-1]\n",
      "C:\\Users\\PC\\anaconda3\\envs\\CSpy3\\lib\\site-packages\\numpy\\lib\\function_base.py:2559: RuntimeWarning: invalid value encountered in true_divide\n",
      "  c /= stddev[:, None]\n",
      "C:\\Users\\PC\\anaconda3\\envs\\CSpy3\\lib\\site-packages\\numpy\\lib\\function_base.py:2560: RuntimeWarning: invalid value encountered in true_divide\n",
      "  c /= stddev[None, :]\n",
      "C:\\Users\\PC\\anaconda3\\envs\\CSpy3\\lib\\site-packages\\numpy\\lib\\function_base.py:2559: RuntimeWarning: invalid value encountered in true_divide\n",
      "  c /= stddev[:, None]\n",
      "C:\\Users\\PC\\anaconda3\\envs\\CSpy3\\lib\\site-packages\\numpy\\lib\\function_base.py:2560: RuntimeWarning: invalid value encountered in true_divide\n",
      "  c /= stddev[None, :]\n",
      "C:\\Users\\PC\\anaconda3\\envs\\CSpy3\\lib\\site-packages\\numpy\\lib\\function_base.py:2559: RuntimeWarning: invalid value encountered in true_divide\n",
      "  c /= stddev[:, None]\n",
      "C:\\Users\\PC\\anaconda3\\envs\\CSpy3\\lib\\site-packages\\numpy\\lib\\function_base.py:2560: RuntimeWarning: invalid value encountered in true_divide\n",
      "  c /= stddev[None, :]\n",
      "C:\\Users\\PC\\anaconda3\\envs\\CSpy3\\lib\\site-packages\\numpy\\lib\\function_base.py:2559: RuntimeWarning: invalid value encountered in true_divide\n",
      "  c /= stddev[:, None]\n",
      "C:\\Users\\PC\\anaconda3\\envs\\CSpy3\\lib\\site-packages\\numpy\\lib\\function_base.py:2560: RuntimeWarning: invalid value encountered in true_divide\n",
      "  c /= stddev[None, :]\n",
      "C:\\Users\\PC\\anaconda3\\envs\\CSpy3\\lib\\site-packages\\numpy\\lib\\function_base.py:2559: RuntimeWarning: invalid value encountered in true_divide\n",
      "  c /= stddev[:, None]\n",
      "C:\\Users\\PC\\anaconda3\\envs\\CSpy3\\lib\\site-packages\\numpy\\lib\\function_base.py:2560: RuntimeWarning: invalid value encountered in true_divide\n",
      "  c /= stddev[None, :]\n"
     ]
    },
    {
     "name": "stdout",
     "output_type": "stream",
     "text": [
      "0.7\n",
      "2.25\n",
      "2.25\n",
      "2.25\n",
      "2.25\n",
      "2.25\n"
     ]
    },
    {
     "name": "stderr",
     "output_type": "stream",
     "text": [
      "C:\\Users\\PC\\anaconda3\\envs\\CSpy3\\lib\\site-packages\\numpy\\lib\\function_base.py:2559: RuntimeWarning: invalid value encountered in true_divide\n",
      "  c /= stddev[:, None]\n",
      "C:\\Users\\PC\\anaconda3\\envs\\CSpy3\\lib\\site-packages\\numpy\\lib\\function_base.py:2560: RuntimeWarning: invalid value encountered in true_divide\n",
      "  c /= stddev[None, :]\n",
      "C:\\Users\\PC\\anaconda3\\envs\\CSpy3\\lib\\site-packages\\numpy\\lib\\function_base.py:2559: RuntimeWarning: invalid value encountered in true_divide\n",
      "  c /= stddev[:, None]\n",
      "C:\\Users\\PC\\anaconda3\\envs\\CSpy3\\lib\\site-packages\\numpy\\lib\\function_base.py:2560: RuntimeWarning: invalid value encountered in true_divide\n",
      "  c /= stddev[None, :]\n",
      "C:\\Users\\PC\\anaconda3\\envs\\CSpy3\\lib\\site-packages\\numpy\\lib\\function_base.py:2559: RuntimeWarning: invalid value encountered in true_divide\n",
      "  c /= stddev[:, None]\n",
      "C:\\Users\\PC\\anaconda3\\envs\\CSpy3\\lib\\site-packages\\numpy\\lib\\function_base.py:2560: RuntimeWarning: invalid value encountered in true_divide\n",
      "  c /= stddev[None, :]\n",
      "C:\\Users\\PC\\anaconda3\\envs\\CSpy3\\lib\\site-packages\\numpy\\lib\\function_base.py:2559: RuntimeWarning: invalid value encountered in true_divide\n",
      "  c /= stddev[:, None]\n",
      "C:\\Users\\PC\\anaconda3\\envs\\CSpy3\\lib\\site-packages\\numpy\\lib\\function_base.py:2560: RuntimeWarning: invalid value encountered in true_divide\n",
      "  c /= stddev[None, :]\n",
      "C:\\Users\\PC\\anaconda3\\envs\\CSpy3\\lib\\site-packages\\numpy\\lib\\function_base.py:2559: RuntimeWarning: invalid value encountered in true_divide\n",
      "  c /= stddev[:, None]\n",
      "C:\\Users\\PC\\anaconda3\\envs\\CSpy3\\lib\\site-packages\\numpy\\lib\\function_base.py:2560: RuntimeWarning: invalid value encountered in true_divide\n",
      "  c /= stddev[None, :]\n"
     ]
    },
    {
     "name": "stdout",
     "output_type": "stream",
     "text": [
      "1.5\n",
      "0.7\n",
      "2.25\n"
     ]
    },
    {
     "name": "stderr",
     "output_type": "stream",
     "text": [
      "C:\\Users\\PC\\anaconda3\\envs\\CSpy3\\lib\\site-packages\\numpy\\lib\\function_base.py:2559: RuntimeWarning: invalid value encountered in true_divide\n",
      "  c /= stddev[:, None]\n",
      "C:\\Users\\PC\\anaconda3\\envs\\CSpy3\\lib\\site-packages\\numpy\\lib\\function_base.py:2560: RuntimeWarning: invalid value encountered in true_divide\n",
      "  c /= stddev[None, :]\n",
      "C:\\Users\\PC\\anaconda3\\envs\\CSpy3\\lib\\site-packages\\numpy\\lib\\function_base.py:2559: RuntimeWarning: invalid value encountered in true_divide\n",
      "  c /= stddev[:, None]\n",
      "C:\\Users\\PC\\anaconda3\\envs\\CSpy3\\lib\\site-packages\\numpy\\lib\\function_base.py:2560: RuntimeWarning: invalid value encountered in true_divide\n",
      "  c /= stddev[None, :]\n",
      "C:\\Users\\PC\\anaconda3\\envs\\CSpy3\\lib\\site-packages\\numpy\\lib\\function_base.py:2559: RuntimeWarning: invalid value encountered in true_divide\n",
      "  c /= stddev[:, None]\n",
      "C:\\Users\\PC\\anaconda3\\envs\\CSpy3\\lib\\site-packages\\numpy\\lib\\function_base.py:2560: RuntimeWarning: invalid value encountered in true_divide\n",
      "  c /= stddev[None, :]\n",
      "C:\\Users\\PC\\anaconda3\\envs\\CSpy3\\lib\\site-packages\\numpy\\lib\\function_base.py:2559: RuntimeWarning: invalid value encountered in true_divide\n",
      "  c /= stddev[:, None]\n",
      "C:\\Users\\PC\\anaconda3\\envs\\CSpy3\\lib\\site-packages\\numpy\\lib\\function_base.py:2560: RuntimeWarning: invalid value encountered in true_divide\n",
      "  c /= stddev[None, :]\n"
     ]
    },
    {
     "name": "stdout",
     "output_type": "stream",
     "text": [
      "2.25\n",
      "2.25\n",
      "2.25\n",
      "2.25\n"
     ]
    },
    {
     "name": "stderr",
     "output_type": "stream",
     "text": [
      "C:\\Users\\PC\\anaconda3\\envs\\CSpy3\\lib\\site-packages\\numpy\\lib\\function_base.py:2559: RuntimeWarning: invalid value encountered in true_divide\n",
      "  c /= stddev[:, None]\n",
      "C:\\Users\\PC\\anaconda3\\envs\\CSpy3\\lib\\site-packages\\numpy\\lib\\function_base.py:2560: RuntimeWarning: invalid value encountered in true_divide\n",
      "  c /= stddev[None, :]\n",
      "C:\\Users\\PC\\anaconda3\\envs\\CSpy3\\lib\\site-packages\\numpy\\lib\\function_base.py:2559: RuntimeWarning: invalid value encountered in true_divide\n",
      "  c /= stddev[:, None]\n",
      "C:\\Users\\PC\\anaconda3\\envs\\CSpy3\\lib\\site-packages\\numpy\\lib\\function_base.py:2560: RuntimeWarning: invalid value encountered in true_divide\n",
      "  c /= stddev[None, :]\n",
      "C:\\Users\\PC\\anaconda3\\envs\\CSpy3\\lib\\site-packages\\numpy\\lib\\function_base.py:2559: RuntimeWarning: invalid value encountered in true_divide\n",
      "  c /= stddev[:, None]\n",
      "C:\\Users\\PC\\anaconda3\\envs\\CSpy3\\lib\\site-packages\\numpy\\lib\\function_base.py:2560: RuntimeWarning: invalid value encountered in true_divide\n",
      "  c /= stddev[None, :]\n"
     ]
    },
    {
     "name": "stdout",
     "output_type": "stream",
     "text": [
      "2.25\n",
      "1.5\n",
      "2.25\n"
     ]
    },
    {
     "name": "stderr",
     "output_type": "stream",
     "text": [
      "C:\\Users\\PC\\anaconda3\\envs\\CSpy3\\lib\\site-packages\\numpy\\lib\\function_base.py:2559: RuntimeWarning: invalid value encountered in true_divide\n",
      "  c /= stddev[:, None]\n",
      "C:\\Users\\PC\\anaconda3\\envs\\CSpy3\\lib\\site-packages\\numpy\\lib\\function_base.py:2560: RuntimeWarning: invalid value encountered in true_divide\n",
      "  c /= stddev[None, :]\n",
      "C:\\Users\\PC\\anaconda3\\envs\\CSpy3\\lib\\site-packages\\numpy\\lib\\function_base.py:2559: RuntimeWarning: invalid value encountered in true_divide\n",
      "  c /= stddev[:, None]\n",
      "C:\\Users\\PC\\anaconda3\\envs\\CSpy3\\lib\\site-packages\\numpy\\lib\\function_base.py:2560: RuntimeWarning: invalid value encountered in true_divide\n",
      "  c /= stddev[None, :]\n",
      "C:\\Users\\PC\\anaconda3\\envs\\CSpy3\\lib\\site-packages\\numpy\\lib\\function_base.py:2559: RuntimeWarning: invalid value encountered in true_divide\n",
      "  c /= stddev[:, None]\n"
     ]
    },
    {
     "name": "stdout",
     "output_type": "stream",
     "text": [
      "0.7\n",
      "0.7\n",
      "0.7\n"
     ]
    },
    {
     "name": "stderr",
     "output_type": "stream",
     "text": [
      "C:\\Users\\PC\\anaconda3\\envs\\CSpy3\\lib\\site-packages\\numpy\\lib\\function_base.py:2560: RuntimeWarning: invalid value encountered in true_divide\n",
      "  c /= stddev[None, :]\n"
     ]
    }
   ],
   "source": [
    "\n",
    "#read concepts from prototypes and exemplars\n",
    "concepts = xml_to_dict(path)\n",
    "concepts = xml_to_dict(path2, concepts)\n",
    "\n",
    "#dict domains lists all domains shich later will be in cs\n",
    "domains = {}\n",
    "for concept in concepts.values():\n",
    "    domains.update(concept)\n",
    "del(domains['supercategory'])\n",
    "\n",
    "\n",
    "\n",
    "#remove objects for now (into_space still only animals)\n",
    "to_del=[]\n",
    "for concept in concepts:\n",
    "    if concepts[concept]['supercategory']=='object' or concepts[concept]['supercategory']=='amphibian' or concept=='whale':\n",
    "        to_del.append(concept)\n",
    "for conc in to_del:\n",
    "    del(concepts[conc])\n",
    "\n",
    "\n",
    "#mammal={key:concepts[key] for key in concepts if concepts[key]['supercategory']=='mammal'}\n",
    "\n",
    "concepts=concepts_into_space(concepts)\n",
    "remember={}\n",
    "examples=concepts.keys()\n",
    "#testset = everythink that makes up superategory of example except for example\n",
    "for example in examples:\n",
    "    target=concepts[example]['supercategory']\n",
    "    trainset={}\n",
    "    testset={}\n",
    "    for concept in concepts:\n",
    "        if not concepts[concept]['supercategory']==target:\n",
    "            trainset[concept]=concepts[concept]\n",
    "        elif not concept==example:\n",
    "            testset[concept]=concepts[concept]\n",
    "\n",
    "\n",
    "    #the supercategory of to_learn will not be put into space\n",
    "    concepts_into_space(trainset)\n",
    "    normalize_space()\n",
    "\n",
    "    #cs is there, so we can translate the data into points\n",
    "    negatives=[dict_to_point(concept, normalize=True) for concept in list(trainset.values())]\n",
    "    positives=[dict_to_point(concept, normalize=True) for concept in testset.values()]\n",
    "\n",
    "    #get point from dict of example\n",
    "    dimension_values=[]\n",
    "    consistent = True\n",
    "    for domain in space._domains.keys():\n",
    "        dimension_values.append([list(concepts[example].get(domain,{str(key):float(\"-inf\") for key in range(len(space._domains[domain]))}).values())\n",
    "                             ,list(concepts[example].get(domain,{str(key):float(\"inf\") for key in range(len(space._domains[domain]))}).values())])\n",
    "        if(not(len(dimension_values[-1][0])==len(space._domains[domain]))):\n",
    "            print(domain+' in '+example+' is inconsistent')\n",
    "            consistent=False\n",
    "            break\n",
    "\n",
    "    p_max=[value for domain in dimension_values for value in domain[1]]\n",
    "\n",
    "    '''domains = {}\n",
    "    for key in concepts[example]:\n",
    "        if(not(key=='supercategory')):\n",
    "            domains[key]=space._domains[key]'''\n",
    "\n",
    "\n",
    "    #save time\n",
    "    sibblings = [family for family in ['mammal', 'insect', 'arthropod', 'reptile', 'fish', 'arachnid', 'bird'] if not family==target] \n",
    "    #sibblings=['mammal', 'insect', 'arthropod', 'reptile', 'fish', 'arachnid']\n",
    "    #sibblings=None\n",
    "    #oneshot\n",
    "    try:\n",
    "        sibblings\n",
    "    except NameError:\n",
    "        sibblings=get_sibblings('animal')\n",
    "        \n",
    "    if not all([value==float('inf') for value in p_max]):\n",
    "        p_max=normalize_point(p_max)\n",
    "        learnt_category=one_shot(p_max, 'animal',two_cuboids,sibblings=sibblings,name=target+'from'+example)\n",
    "\n",
    "\n",
    "\n",
    "        target_dict={}\n",
    "\n",
    "        concepts_into_space(testset, superc=None, colors=['orange'], normalize=True)\n",
    "        naive_category=point_to_concept(p_max,'naive')\n",
    "\n",
    "        ap_learnt=average_precision(learnt_category, negatives.copy(), positives.copy())\n",
    "        ap_naive=average_precision(naive_category, negatives, positives)\n",
    "        #print(example,':\\n',ap_learnt-ap_naive,'\\n')\n",
    "        if not np.isnan(ap_learnt):\n",
    "            remember[example]=[ap_learnt,ap_naive]\n",
    "    else:\n",
    "        #print(example,'is empty')\n",
    "        pass\n",
    "    \n",
    "    print(max([val for concept in space._concepts.values() for cuboid in concept._core._cuboids for val in cuboid._p_max if not val==float('inf')]))\n",
    "    space._n_dim=None"
   ]
  },
  {
   "cell_type": "code",
   "execution_count": 13,
   "metadata": {},
   "outputs": [
    {
     "name": "stdout",
     "output_type": "stream",
     "text": [
      "0.7\n"
     ]
    }
   ],
   "source": [
    "print(max([val for concept in space._concepts.values() for cuboid in concept._core._cuboids for val in cuboid._p_max if not val==float('inf')]))"
   ]
  },
  {
   "cell_type": "code",
   "execution_count": 14,
   "metadata": {},
   "outputs": [
    {
     "name": "stdout",
     "output_type": "stream",
     "text": [
      "core: {[0.020293156023392087, 0.2724257406436114, -0.20604588863077433, 0.48412473959727753, -0.425, -0.4727272727272727, -0.48540936651548616]-[0.1, 0.3, -0.2, 0.5, -0.4188324395448408, -0.46267792618725084, -0.4828571428571429], [0.1, 0.3, -0.2, 0.5, -0.4311675604551592, -0.4827766192672946, -0.4828571428571429]-[0.17970684397660794, 0.32757425935638856, -0.1939541113692257, 0.5158752604027226, -0.425, -0.4727272727272727, -0.4803049191987996]}\n",
      "mu: 1.0\n",
      "c: 0.05\n",
      "weights: <{'location': 1.0, 'size': 1.0},{'location': {0: 0.25, 1: 0.25, 2: 0.25, 3: 0.25}, 'size': {4: 0.3333333333333333, 5: 0.3333333333333333, 6: 0.3333333333333333}}>\n"
     ]
    }
   ],
   "source": [
    "'''for concept in space._concepts:\n",
    "    print(concept)'''\n",
    "for animal in space._concepts:\n",
    "    if any([x>5 for cuboid in space._concepts[animal]._core._cuboids for x in cuboid._p_max if not x==float('inf')]):\n",
    "        print(animal)"
   ]
  },
  {
   "cell_type": "code",
   "execution_count": 15,
   "metadata": {},
   "outputs": [],
   "source": [
    "remember\n",
    "ap=[x[0] for x in remember.values()]\n",
    "diff_ap=[x[0]-x[1] for x in remember.values()]\n",
    "ap=diff_ap"
   ]
  },
  {
   "cell_type": "code",
   "execution_count": 16,
   "metadata": {},
   "outputs": [
    {
     "name": "stdout",
     "output_type": "stream",
     "text": [
      "90\n"
     ]
    }
   ],
   "source": [
    "print(len(remember))"
   ]
  },
  {
   "cell_type": "code",
   "execution_count": 17,
   "metadata": {},
   "outputs": [
    {
     "name": "stdout",
     "output_type": "stream",
     "text": [
      "0.10798319327731087\n",
      "-0.04166666666666663\n",
      "0.002734547651357885\n"
     ]
    }
   ],
   "source": [
    "print(max(ap))\n",
    "print(min(ap))\n",
    "print(sum(ap)/len(ap))"
   ]
  },
  {
   "cell_type": "code",
   "execution_count": 11,
   "metadata": {},
   "outputs": [
    {
     "name": "stdout",
     "output_type": "stream",
     "text": [
      "0.9285714285714286\n",
      "0.03292540792540792\n",
      "0.52830641299195\n"
     ]
    }
   ],
   "source": [
    "print(max(ap))\n",
    "print(min(ap))\n",
    "print(sum(ap)/len(ap))"
   ]
  },
  {
   "cell_type": "code",
   "execution_count": 36,
   "metadata": {},
   "outputs": [
    {
     "name": "stdout",
     "output_type": "stream",
     "text": [
      "0.41666666666666674\n",
      "-0.022222222222222365\n",
      "0.006338469255221928\n"
     ]
    }
   ],
   "source": [
    "#5\n",
    "print(max(ap))\n",
    "print(min(ap))\n",
    "print(sum(ap)/len(ap))"
   ]
  },
  {
   "cell_type": "code",
   "execution_count": 32,
   "metadata": {},
   "outputs": [
    {
     "name": "stdout",
     "output_type": "stream",
     "text": [
      "0.33333333333333326\n",
      "-0.33333333333333326\n",
      "-0.008670218468672913\n"
     ]
    }
   ],
   "source": [
    "#15\n",
    "print(max(ap))\n",
    "print(min(ap))\n",
    "print(sum(ap)/len(ap))"
   ]
  },
  {
   "cell_type": "code",
   "execution_count": 28,
   "metadata": {},
   "outputs": [
    {
     "name": "stdout",
     "output_type": "stream",
     "text": [
      "0.18956582633053226\n",
      "-0.2124999999999999\n",
      "-0.010353666998463653\n"
     ]
    }
   ],
   "source": [
    "#all 3dims\n",
    "print(max(ap))\n",
    "print(min(ap))\n",
    "print(sum(ap)/len(ap))"
   ]
  },
  {
   "cell_type": "code",
   "execution_count": 7,
   "metadata": {},
   "outputs": [
    {
     "data": {
      "text/plain": [
       "90"
      ]
     },
     "execution_count": 7,
     "metadata": {},
     "output_type": "execute_result"
    }
   ],
   "source": [
    "len(ap)"
   ]
  },
  {
   "cell_type": "code",
   "execution_count": 8,
   "metadata": {},
   "outputs": [
    {
     "ename": "TypeError",
     "evalue": "unhashable type: 'Concept'",
     "output_type": "error",
     "traceback": [
      "\u001b[1;31m---------------------------------------------------------------------------\u001b[0m",
      "\u001b[1;31mTypeError\u001b[0m                                 Traceback (most recent call last)",
      "\u001b[1;32m<ipython-input-8-8265ceda3a3c>\u001b[0m in \u001b[0;36m<module>\u001b[1;34m\u001b[0m\n\u001b[0;32m      1\u001b[0m \u001b[0mconcept\u001b[0m\u001b[1;33m=\u001b[0m\u001b[0mspace\u001b[0m\u001b[1;33m.\u001b[0m\u001b[0m_concepts\u001b[0m\u001b[1;33m[\u001b[0m\u001b[1;34m'reptile'\u001b[0m\u001b[1;33m]\u001b[0m\u001b[1;33m\u001b[0m\u001b[1;33m\u001b[0m\u001b[0m\n\u001b[0;32m      2\u001b[0m \u001b[0msupercat\u001b[0m\u001b[1;33m=\u001b[0m\u001b[1;34m'animal'\u001b[0m\u001b[1;33m\u001b[0m\u001b[1;33m\u001b[0m\u001b[0m\n\u001b[1;32m----> 3\u001b[1;33m \u001b[0mspace\u001b[0m\u001b[1;33m.\u001b[0m\u001b[0m_concepts\u001b[0m\u001b[1;33m[\u001b[0m\u001b[0mconcept\u001b[0m\u001b[1;33m]\u001b[0m\u001b[1;33m.\u001b[0m\u001b[0msubset_of\u001b[0m\u001b[1;33m(\u001b[0m\u001b[0mspace\u001b[0m\u001b[1;33m.\u001b[0m\u001b[0m_concepts\u001b[0m\u001b[1;33m[\u001b[0m\u001b[0msupercat\u001b[0m\u001b[1;33m]\u001b[0m\u001b[1;33m)\u001b[0m\u001b[1;33m\u001b[0m\u001b[1;33m\u001b[0m\u001b[0m\n\u001b[0m",
      "\u001b[1;31mTypeError\u001b[0m: unhashable type: 'Concept'"
     ]
    }
   ],
   "source": [
    "concept=space._concepts['reptile']\n",
    "supercat='animal'\n",
    "space._concepts[concept].subset_of(space._concepts[supercat])"
   ]
  },
  {
   "cell_type": "code",
   "execution_count": 3,
   "metadata": {},
   "outputs": [
    {
     "data": {
      "text/plain": [
       "{'Rhinoceros': {'supercategory': 'mammal'},\n",
       " 'bear': {'supercategory': 'mammal',\n",
       "  'size': {'x': 150.0, 'y': 250.0, 'z': 100.0}},\n",
       " 'Swan': {'supercategory': 'bird',\n",
       "  'size': {'x': 60.0, 'y': 100.0, 'z': 120.0}},\n",
       " 'Robin': {'supercategory': 'bird', 'size': {'x': 20.0, 'y': 30.0, 'z': 60.0}},\n",
       " 'butterfly': {'supercategory': 'insect',\n",
       "  'size': {'x': 6.0, 'y': 3.0, 'z': 0.5}},\n",
       " 'camel': {'supercategory': 'mammal',\n",
       "  'size': {'x': 90.0, 'y': 250.0, 'z': 300.0}},\n",
       " 'chicken': {'supercategory': 'bird',\n",
       "  'size': {'x': 25.0, 'y': 40.0, 'z': 45.0}},\n",
       " 'crab': {'supercategory': 'arthropod',\n",
       "  'size': {'x': 15.0, 'y': 3.0, 'z': 8.0}},\n",
       " 'crocodile': {'supercategory': 'reptile',\n",
       "  'size': {'x': 60.0, 'y': 50.0, 'z': 300.0}},\n",
       " 'dolphin': {'supercategory': 'mammal',\n",
       "  'size': {'x': 60.0, 'y': 80.0, 'z': 250.0}},\n",
       " 'giraffe': {'supercategory': 'mammal',\n",
       "  'size': {'x': 200.0, 'y': 550.0, 'z': 250.0}},\n",
       " 'horse': {'supercategory': 'mammal',\n",
       "  'size': {'x': 100.0, 'y': 200.0, 'z': 300.0}},\n",
       " 'koala': {'supercategory': 'mammal',\n",
       "  'size': {'x': 30.0, 'y': 70.0, 'z': 20.0}},\n",
       " 'lynx': {'supercategory': 'mammal',\n",
       "  'size': {'x': 20.0, 'y': 55.0, 'z': 80.0}},\n",
       " 'owl': {'supercategory': 'bird', 'size': {'x': 20.0, 'y': 40.0, 'z': 15.0}},\n",
       " 'panther': {'supercategory': 'mammal',\n",
       "  'size': {'x': 70.0, 'y': 100.0, 'z': 200.0}},\n",
       " 'Hippo': {'supercategory': 'mammal',\n",
       "  'size': {'x': 120.0, 'y': 150.0, 'z': 350.0}},\n",
       " 'penguin': {'supercategory': 'bird',\n",
       "  'size': {'x': 50.0, 'y': 100.0, 'z': 30.0}},\n",
       " 'rabbit': {'supercategory': 'mammal',\n",
       "  'size': {'x': 15.0, 'y': 20.0, 'z': 40.0}},\n",
       " 'shark': {'supercategory': 'fish',\n",
       "  'size': {'x': 100.0, 'y': 60.0, 'z': 300.0}},\n",
       " 'snail': {'supercategory': 'mollusk', 'size': {'x': 2.0, 'y': 5.0, 'z': 3.0}},\n",
       " 'turtle': {'supercategory': 'reptile',\n",
       "  'size': {'x': 15.0, 'y': 8.0, 'z': 25.0}},\n",
       " 'tiger': {'supercategory': 'mammal',\n",
       "  'size': {'x': 70.0, 'y': 100.0, 'z': 200.0}},\n",
       " 'lion': {'supercategory': 'mammal',\n",
       "  'size': {'x': 70.0, 'y': 120.0, 'z': 200.0}},\n",
       " 'snake': {'supercategory': 'reptile',\n",
       "  'size': {'x': 5.0, 'y': 5.0, 'z': 100.0}},\n",
       " 'monkey': {'supercategory': 'mammal',\n",
       "  'size': {'x': 40.0, 'y': 120.0, 'z': 30.0}},\n",
       " 'fox': {'supercategory': 'mammal', 'size': {'x': 25.0, 'y': 50.0, 'z': 60.0}},\n",
       " 'elephant': {'supercategory': 'mammal',\n",
       "  'size': {'x': 1.0, 'y': 4.0, 'z': 5.0}},\n",
       " 'donkey': {'supercategory': 'mammal',\n",
       "  'size': {'x': 100.0, 'y': 180.0, 'z': 270.0}},\n",
       " 'eagle': {'supercategory': 'bird', 'size': {'x': 20.0, 'y': 40.0, 'z': 15.0}},\n",
       " 'cat': {'supercategory': 'mammal', 'size': {'x': 20.0, 'y': 30.0, 'z': 70.0}},\n",
       " 'kangaroo': {'supercategory': 'mammal',\n",
       "  'size': {'x': 40.0, 'y': 100.0, 'z': 40.0}},\n",
       " 'cow': {'supercategory': 'mammal',\n",
       "  'size': {'x': 80.0, 'y': 120.0, 'z': 200.0}},\n",
       " 'bat': {'supercategory': 'mammal', 'size': {'x': 10.0, 'y': 20.0, 'z': 5.0}},\n",
       " 'mouse': {'supercategory': 'mammal', 'size': {'x': 3.0, 'y': 9.0, 'z': 3.0}},\n",
       " 'salmon': {'supercategory': 'fish',\n",
       "  'size': {'x': 30.0, 'y': 30.0, 'z': 80.0}},\n",
       " 'spider': {'supercategory': 'arachnid',\n",
       "  'size': {'x': 3.0, 'y': 5.0, 'z': 3.0}},\n",
       " 'blackbird': {'supercategory': 'bird',\n",
       "  'size': {'x': 15.0, 'y': 20.0, 'z': 30.0}},\n",
       " 'cheetah': {'supercategory': 'mammal',\n",
       "  'size': {'x': 70.0, 'y': 140.0, 'z': 85.0}},\n",
       " 'bee': {'supercategory': 'insect', 'size': {'x': 3.0, 'y': 2.0, 'z': 2.0}},\n",
       " 'deer': {'supercategory': 'mammal',\n",
       "  'size': {'x': 80.0, 'y': 200.0, 'z': 120.0}},\n",
       " 'octopus': {'supercategory': 'mollusk',\n",
       "  'size': {'x': 40.0, 'y': 40.0, 'z': 80.0}},\n",
       " 'python': {'supercategory': 'reptile',\n",
       "  'size': {'x': 15.0, 'y': 200.0, 'z': 10.0}},\n",
       " 'vulture': {'supercategory': 'bird',\n",
       "  'size': {'x': 40.0, 'y': 120.0, 'z': 60.0}},\n",
       " 'ladybug': {'supercategory': 'insect',\n",
       "  'size': {'x': 6.0, 'y': 3.0, 'z': 0.5}},\n",
       " 'ant': {'supercategory': 'insect', 'size': {'x': 0.4, 'y': 1.0, 'z': 0.4}},\n",
       " 'bull': {'supercategory': 'mammal',\n",
       "  'size': {'x': 85.0, 'y': 125.0, 'z': 205.0}},\n",
       " 'Exemplar_black_swan': {'supercategory': 'bird',\n",
       "  'size': {'x': 60.0, 'y': 100.0, 'z': 120.0}},\n",
       " 'ostrich_exemplar': {'supercategory': 'bird',\n",
       "  'size': {'x': 50.0, 'y': 180.0, 'z': 90.0}},\n",
       " 'Rhinoceros_Exemplar_one_horn_indian_rhino': {'supercategory': 'mammal'},\n",
       " 'Exemplar_Pygmy_Hippo': {'supercategory': 'mammal',\n",
       "  'size': {'x': 70.0, 'y': 83.0, 'z': 150.0}},\n",
       " 'hammerhead_shark': {'supercategory': 'fish',\n",
       "  'size': {'x': 100.0, 'y': 60.0, 'z': 300.0}},\n",
       " 'Snail_Exemplar_No_Shell': {'supercategory': 'mollusk'},\n",
       " 'Snail_Exemplar_One_Feeler': {'supercategory': 'mollusk'},\n",
       " 'Snail_Exemplar_Lettuce_Eater': {'supercategory': 'mollusk'},\n",
       " 'White_tiger': {'supercategory': 'mammal'},\n",
       " 'Cheetah_Exemplar': {'supercategory': 'mammal'},\n",
       " 'Sea_Turtle_Dermochelys_Choriacea': {'supercategory': 'reptile',\n",
       "  'size': {'x': 100.0, 'y': 40.0, 'z': 200.0}},\n",
       " 'Lion_female': {'supercategory': 'mammal',\n",
       "  'size': {'x': 70.0, 'y': 120.0, 'z': 200.0}},\n",
       " 'white_lion': {'supercategory': 'mammal',\n",
       "  'size': {'x': 70.0, 'y': 120.0, 'z': 200.0}},\n",
       " 'sea_snake': {'supercategory': 'reptile',\n",
       "  'size': {'x': 5.0, 'y': 5.0, 'z': 100.0}},\n",
       " 'coral_snake': {'supercategory': 'reptile',\n",
       "  'size': {'x': 5.0, 'y': 5.0, 'z': 100.0}},\n",
       " 'roloway_monkey': {'supercategory': 'mammal',\n",
       "  'size': {'x': 40.0, 'y': 120.0, 'z': 30.0}},\n",
       " 'mandrill': {'supercategory': 'mammal',\n",
       "  'size': {'x': 40.0, 'y': 120.0, 'z': 30.0}},\n",
       " 'desert_fox': {'supercategory': 'mammal',\n",
       "  'size': {'x': 15.0, 'y': 30.0, 'z': 40.0}},\n",
       " 'arctic_fox': {'supercategory': 'mammal',\n",
       "  'size': {'x': 25.0, 'y': 40.0, 'z': 50.0}},\n",
       " 'fox_hens_eater': {'supercategory': 'mammal',\n",
       "  'size': {'x': 25.0, 'y': 50.0, 'z': 60.0}},\n",
       " 'catalan_donkey': {'supercategory': 'mammal',\n",
       "  'size': {'x': 95.0, 'y': 178.0, 'z': 260.0}},\n",
       " 'donkey_africanus': {'supercategory': 'mammal',\n",
       "  'size': {'x': 95.0, 'y': 178.0, 'z': 260.0}},\n",
       " 'Canadian_Sphinx': {'supercategory': 'mammal',\n",
       "  'size': {'x': 20.0, 'y': 30.0, 'z': 70.0}},\n",
       " 'Black_Cat': {'supercategory': 'mammal',\n",
       "  'size': {'x': 20.0, 'y': 30.0, 'z': 70.0}},\n",
       " 'European_Cat': {'supercategory': 'mammal',\n",
       "  'size': {'x': 20.0, 'y': 30.0, 'z': 70.0}},\n",
       " 'Atlantic_Salmon': {'supercategory': 'fish',\n",
       "  'size': {'x': 30.0, 'y': 30.0, 'z': 150.0}},\n",
       " 'Sockeye_Salmon': {'supercategory': 'fish',\n",
       "  'size': {'x': 25.0, 'y': 25.0, 'z': 84.0}},\n",
       " 'Adriatic_Trout': {'supercategory': 'fish',\n",
       "  'size': {'x': 20.0, 'y': 20.0, 'z': 70.0}},\n",
       " 'Golden_Trout': {'supercategory': 'fish',\n",
       "  'size': {'x': 10.0, 'y': 15.0, 'z': 35.0}},\n",
       " 'Silver_Salmon': {'supercategory': 'fish',\n",
       "  'size': {'x': 25.0, 'y': 20.0, 'z': 70.0}},\n",
       " 'White_collared_Blackbird': {'supercategory': 'bird',\n",
       "  'size': {'x': 15.0, 'y': 20.0, 'z': 30.0}},\n",
       " 'Common_Blackbird': {'supercategory': 'bird',\n",
       "  'size': {'x': 15.0, 'y': 20.0, 'z': 30.0}},\n",
       " 'Gray_Catbird': {'supercategory': 'bird',\n",
       "  'size': {'x': 15.0, 'y': 15.0, 'z': 25.0}},\n",
       " 'Female_Blackbird': {'supercategory': 'bird',\n",
       "  'size': {'x': 15.0, 'y': 20.0, 'z': 30.0}},\n",
       " 'albino_rabbit': {'supercategory': 'mammal',\n",
       "  'size': {'x': 15.0, 'y': 20.0, 'z': 40.0}},\n",
       " 'giant_rabbit': {'supercategory': 'mammal',\n",
       "  'size': {'x': 30.0, 'y': 50.0, 'z': 100.0}},\n",
       " 'tarantula_spider': {'supercategory': 'arachnid',\n",
       "  'size': {'x': 8.0, 'y': 3.0, 'z': 10.0}},\n",
       " 'thin_leg_spider': {'supercategory': 'arachnid',\n",
       "  'size': {'x': 1.0, 'y': 1.0, 'z': 1.0}},\n",
       " 'blue_ringed_octopus': {'supercategory': 'mollusk',\n",
       "  'size': {'x': 40.0, 'y': 40.0, 'z': 80.0}},\n",
       " 'wonderpus_octopus': {'supercategory': 'mollusk',\n",
       "  'size': {'x': 40.0, 'y': 40.0, 'z': 80.0}},\n",
       " 'female_deer': {'supercategory': 'mammal',\n",
       "  'size': {'x': 60.0, 'y': 180.0, 'z': 100.0}},\n",
       " 'water_deer': {'supercategory': 'mammal',\n",
       "  'size': {'x': 50.0, 'y': 150.0, 'z': 80.0}},\n",
       " 'puppy_deer': {'supercategory': 'mammal',\n",
       "  'size': {'x': 30.0, 'y': 90.0, 'z': 50.0}},\n",
       " 'bear_fish_hunter': {'supercategory': 'mammal',\n",
       "  'size': {'x': 150.0, 'y': 250.0, 'z': 100.0}},\n",
       " 'polar_bear': {'supercategory': 'mammal',\n",
       "  'size': {'x': 150.0, 'y': 250.0, 'z': 100.0}},\n",
       " 'bald_eagle': {'supercategory': 'bird',\n",
       "  'size': {'x': 20.0, 'y': 40.0, 'z': 15.0}},\n",
       " 'monarch_butterfly': {'supercategory': 'insect',\n",
       "  'size': {'x': 6.0, 'y': 3.0, 'z': 0.5}},\n",
       " 'piemontese_bull': {'supercategory': 'mammal',\n",
       "  'size': {'x': 85.0, 'y': 125.0, 'z': 205.0}},\n",
       " 'watussi_bull': {'supercategory': 'mammal',\n",
       "  'size': {'x': 85.0, 'y': 125.0, 'z': 205.0}},\n",
       " 'cachena_cow': {'supercategory': 'mammal',\n",
       "  'size': {'x': 50.0, 'y': 90.0, 'z': 150.0}},\n",
       " 'highland_cow': {'supercategory': 'mammal',\n",
       "  'size': {'x': 80.0, 'y': 120.0, 'z': 200.0}},\n",
       " 'red_kangaroo': {'supercategory': 'mammal'},\n",
       " 'puppy_kangaroo': {'supercategory': 'mammal',\n",
       "  'size': {'x': 10.0, 'y': 25.0, 'z': 10.0}},\n",
       " 'filippine_eagle': {'supercategory': 'bird',\n",
       "  'size': {'x': 40.0, 'y': 90.0, 'z': 40.0}},\n",
       " 'common_pipistrelle': {'supercategory': 'mammal',\n",
       "  'size': {'x': 24.0, 'y': 5.0, 'z': 2.0}},\n",
       " 'little_brown_bat': {'supercategory': 'mammal',\n",
       "  'size': {'x': 10.0, 'y': 8.0, 'z': 2.0}},\n",
       " 'red_wood_ant': {'supercategory': 'insect',\n",
       "  'size': {'x': 0.4, 'y': 1.0, 'z': 0.4}},\n",
       " 'indian_jumping_ant': {'supercategory': 'insect',\n",
       "  'size': {'x': 0.4, 'y': 1.0, 'z': 0.4}},\n",
       " 'trachemys_turtle': {'supercategory': 'reptile',\n",
       "  'size': {'x': 9.0, 'y': 9.0, 'z': 2.0}},\n",
       " 'hermann_tortoise': {'supercategory': 'reptile',\n",
       "  'size': {'x': 15.0, 'y': 15.0, 'z': 6.0}}}"
      ]
     },
     "execution_count": 3,
     "metadata": {},
     "output_type": "execute_result"
    }
   ],
   "source": [
    "concepts"
   ]
  },
  {
   "cell_type": "code",
   "execution_count": 5,
   "metadata": {},
   "outputs": [
    {
     "data": {
      "text/plain": [
       "False"
      ]
     },
     "execution_count": 5,
     "metadata": {},
     "output_type": "execute_result"
    }
   ],
   "source": [
    "bool(None)"
   ]
  },
  {
   "cell_type": "code",
   "execution_count": 2,
   "metadata": {},
   "outputs": [
    {
     "name": "stdout",
     "output_type": "stream",
     "text": [
      "putting bird into space\n",
      "putting insect into space\n",
      "putting arthropod into space\n",
      "putting reptile into space\n",
      "putting amphibian into space\n",
      "putting fish into space\n",
      "putting mollusk into space\n",
      "putting arachnid into space\n",
      "bear:\n",
      "[150.0, 250.0, 100.0]\n",
      "supercategory is:\n",
      "bird\n",
      "[17.5, 49.166666666666664, 33.333333333333336]\n",
      "\n",
      "supercategory is:\n",
      "animal\n",
      "[25.997959183673466, 57.63186813186813, 66.47755102040817]\n",
      "\n",
      "supercategory is:\n",
      "bear from animal\n",
      "[25.99795918367346, 57.631868131868146, 66.47755102040816]\n",
      "\n",
      "supercategory is:\n",
      "animal\n",
      "[25.997959183673466, 57.63186813186813, 66.47755102040817]\n",
      "\n",
      "putting mammal into space\n",
      "amphibian:\n",
      "core: {[10.0, 15.0, 5.0]-[10.0, 20.0, 10.0], [10.0, 10.0, 10.0]-[10.0, 15.0, 15.0]}\n",
      "mu: 1.0\n",
      "c: 0.5\n",
      "weights: <{'size': 1.0},{'size': {0: 0.3333333333333333, 1: 0.3333333333333333, 2: 0.3333333333333333}}>\n",
      "axes_ranges:\n",
      " [(-119.52000000000001, 719.9200000000001), (-108.80000000000001, 659.8), (-2399.52, 14399.92)]\n",
      "beep\n",
      "beep\n"
     ]
    },
    {
     "ename": "IndexError",
     "evalue": "list assignment index out of range",
     "output_type": "error",
     "traceback": [
      "\u001b[1;31m---------------------------------------------------------------------------\u001b[0m",
      "\u001b[1;31mIndexError\u001b[0m                                Traceback (most recent call last)",
      "\u001b[1;32m<ipython-input-2-9c570f4261fe>\u001b[0m in \u001b[0;36m<module>\u001b[1;34m\u001b[0m\n\u001b[0;32m    129\u001b[0m \u001b[0mprint\u001b[0m\u001b[1;33m(\u001b[0m\u001b[1;34m'amphibian:'\u001b[0m\u001b[1;33m)\u001b[0m\u001b[1;33m\u001b[0m\u001b[1;33m\u001b[0m\u001b[0m\n\u001b[0;32m    130\u001b[0m \u001b[0mprint\u001b[0m\u001b[1;33m(\u001b[0m\u001b[0mspace\u001b[0m\u001b[1;33m.\u001b[0m\u001b[0m_concepts\u001b[0m\u001b[1;33m[\u001b[0m\u001b[1;34m'amphibian'\u001b[0m\u001b[1;33m]\u001b[0m\u001b[1;33m)\u001b[0m\u001b[1;33m\u001b[0m\u001b[1;33m\u001b[0m\u001b[0m\n\u001b[1;32m--> 131\u001b[1;33m \u001b[0mci\u001b[0m\u001b[1;33m.\u001b[0m\u001b[0minit\u001b[0m\u001b[1;33m(\u001b[0m\u001b[1;33m)\u001b[0m\u001b[1;33m\u001b[0m\u001b[1;33m\u001b[0m\u001b[0m\n\u001b[0m",
      "\u001b[1;32mD:\\Dateien\\Unimaterial\\Bachelor\\ConceptualSpaces\\conceptual_spaces\\visualization\\concept_inspector.py\u001b[0m in \u001b[0;36minit\u001b[1;34m(dims)\u001b[0m\n\u001b[0;32m    288\u001b[0m     \u001b[1;31m# load all concepts, draw everything, then display the window\u001b[0m\u001b[1;33m\u001b[0m\u001b[1;33m\u001b[0m\u001b[1;33m\u001b[0m\u001b[0m\n\u001b[0;32m    289\u001b[0m     \u001b[0mthis\u001b[0m\u001b[1;33m.\u001b[0m\u001b[0m_initialized\u001b[0m \u001b[1;33m=\u001b[0m \u001b[1;32mTrue\u001b[0m\u001b[1;33m\u001b[0m\u001b[1;33m\u001b[0m\u001b[0m\n\u001b[1;32m--> 290\u001b[1;33m     \u001b[0mupdate\u001b[0m\u001b[1;33m(\u001b[0m\u001b[1;33m)\u001b[0m\u001b[1;33m\u001b[0m\u001b[1;33m\u001b[0m\u001b[0m\n\u001b[0m\u001b[0;32m    291\u001b[0m     \u001b[0mplt\u001b[0m\u001b[1;33m.\u001b[0m\u001b[0mion\u001b[0m\u001b[1;33m(\u001b[0m\u001b[1;33m)\u001b[0m\u001b[1;33m\u001b[0m\u001b[1;33m\u001b[0m\u001b[0m\n\u001b[0;32m    292\u001b[0m     \u001b[0mplt\u001b[0m\u001b[1;33m.\u001b[0m\u001b[0mshow\u001b[0m\u001b[1;33m(\u001b[0m\u001b[1;33m)\u001b[0m\u001b[1;33m\u001b[0m\u001b[1;33m\u001b[0m\u001b[0m\n",
      "\u001b[1;32mD:\\Dateien\\Unimaterial\\Bachelor\\ConceptualSpaces\\conceptual_spaces\\visualization\\concept_inspector.py\u001b[0m in \u001b[0;36mupdate\u001b[1;34m()\u001b[0m\n\u001b[0;32m    368\u001b[0m     \u001b[0mthis\u001b[0m\u001b[1;33m.\u001b[0m\u001b[0m_checks\u001b[0m\u001b[1;33m.\u001b[0m\u001b[0mon_clicked\u001b[0m\u001b[1;33m(\u001b[0m\u001b[0mconcept_checks_click_handler\u001b[0m\u001b[1;33m)\u001b[0m\u001b[1;33m\u001b[0m\u001b[1;33m\u001b[0m\u001b[0m\n\u001b[0;32m    369\u001b[0m \u001b[1;33m\u001b[0m\u001b[0m\n\u001b[1;32m--> 370\u001b[1;33m     \u001b[0m_repaint_everything\u001b[0m\u001b[1;33m(\u001b[0m\u001b[1;33m)\u001b[0m\u001b[1;33m\u001b[0m\u001b[1;33m\u001b[0m\u001b[0m\n\u001b[0m",
      "\u001b[1;32mD:\\Dateien\\Unimaterial\\Bachelor\\ConceptualSpaces\\conceptual_spaces\\visualization\\concept_inspector.py\u001b[0m in \u001b[0;36m_repaint_everything\u001b[1;34m()\u001b[0m\n\u001b[0;32m    205\u001b[0m     \u001b[1;32mfor\u001b[0m \u001b[0mconcept_name\u001b[0m \u001b[1;32min\u001b[0m \u001b[0mthis\u001b[0m\u001b[1;33m.\u001b[0m\u001b[0m_active_concepts\u001b[0m\u001b[1;33m:\u001b[0m\u001b[1;33m\u001b[0m\u001b[1;33m\u001b[0m\u001b[0m\n\u001b[0;32m    206\u001b[0m         \u001b[0mconcept\u001b[0m\u001b[1;33m,\u001b[0m \u001b[0mcolor\u001b[0m\u001b[1;33m,\u001b[0m \u001b[0mepsilons\u001b[0m \u001b[1;33m=\u001b[0m \u001b[0mthis\u001b[0m\u001b[1;33m.\u001b[0m\u001b[0m_concepts\u001b[0m\u001b[1;33m[\u001b[0m\u001b[0mconcept_name\u001b[0m\u001b[1;33m]\u001b[0m\u001b[1;33m\u001b[0m\u001b[1;33m\u001b[0m\u001b[0m\n\u001b[1;32m--> 207\u001b[1;33m         \u001b[0m_draw_concept\u001b[0m\u001b[1;33m(\u001b[0m\u001b[0mconcept\u001b[0m\u001b[1;33m,\u001b[0m \u001b[0mcolor\u001b[0m\u001b[1;33m,\u001b[0m \u001b[0mepsilons\u001b[0m\u001b[1;33m)\u001b[0m\u001b[1;33m\u001b[0m\u001b[1;33m\u001b[0m\u001b[0m\n\u001b[0m\u001b[0;32m    208\u001b[0m     \u001b[0mthis\u001b[0m\u001b[1;33m.\u001b[0m\u001b[0m_fig\u001b[0m\u001b[1;33m.\u001b[0m\u001b[0mcanvas\u001b[0m\u001b[1;33m.\u001b[0m\u001b[0mdraw_idle\u001b[0m\u001b[1;33m(\u001b[0m\u001b[1;33m)\u001b[0m\u001b[1;33m\u001b[0m\u001b[1;33m\u001b[0m\u001b[0m\n\u001b[0;32m    209\u001b[0m \u001b[1;33m\u001b[0m\u001b[0m\n",
      "\u001b[1;32mD:\\Dateien\\Unimaterial\\Bachelor\\ConceptualSpaces\\conceptual_spaces\\visualization\\concept_inspector.py\u001b[0m in \u001b[0;36m_draw_concept\u001b[1;34m(concept, color, epsilons)\u001b[0m\n\u001b[0;32m    188\u001b[0m     \u001b[1;32mfor\u001b[0m \u001b[0mi\u001b[0m \u001b[1;32min\u001b[0m \u001b[0mrange\u001b[0m\u001b[1;33m(\u001b[0m\u001b[1;36m3\u001b[0m\u001b[1;33m)\u001b[0m\u001b[1;33m:\u001b[0m\u001b[1;33m\u001b[0m\u001b[1;33m\u001b[0m\u001b[0m\n\u001b[0;32m    189\u001b[0m         \u001b[0md1\u001b[0m\u001b[1;33m,\u001b[0m \u001b[0md2\u001b[0m \u001b[1;33m=\u001b[0m \u001b[0mthis\u001b[0m\u001b[1;33m.\u001b[0m\u001b[0m_current_2d_indices\u001b[0m\u001b[1;33m[\u001b[0m\u001b[0mi\u001b[0m\u001b[1;33m]\u001b[0m\u001b[1;33m\u001b[0m\u001b[1;33m\u001b[0m\u001b[0m\n\u001b[1;32m--> 190\u001b[1;33m         \u001b[0mcore_path\u001b[0m \u001b[1;33m=\u001b[0m \u001b[0m_path_for_core\u001b[0m\u001b[1;33m(\u001b[0m\u001b[0mconcept\u001b[0m\u001b[1;33m,\u001b[0m \u001b[0md1\u001b[0m\u001b[1;33m,\u001b[0m \u001b[0md2\u001b[0m\u001b[1;33m)\u001b[0m\u001b[1;33m\u001b[0m\u001b[1;33m\u001b[0m\u001b[0m\n\u001b[0m\u001b[0;32m    191\u001b[0m         \u001b[0mcore_patch\u001b[0m \u001b[1;33m=\u001b[0m \u001b[0mpatches\u001b[0m\u001b[1;33m.\u001b[0m\u001b[0mPathPatch\u001b[0m\u001b[1;33m(\u001b[0m\u001b[0mcore_path\u001b[0m\u001b[1;33m,\u001b[0m \u001b[0mfacecolor\u001b[0m\u001b[1;33m=\u001b[0m\u001b[0mcolor\u001b[0m\u001b[1;33m,\u001b[0m \u001b[0mlw\u001b[0m\u001b[1;33m=\u001b[0m\u001b[1;36m2\u001b[0m\u001b[1;33m,\u001b[0m \u001b[0malpha\u001b[0m\u001b[1;33m=\u001b[0m\u001b[0mthis\u001b[0m\u001b[1;33m.\u001b[0m\u001b[0m_alpha_2d\u001b[0m\u001b[1;33m)\u001b[0m\u001b[1;33m\u001b[0m\u001b[1;33m\u001b[0m\u001b[0m\n\u001b[0;32m    192\u001b[0m         \u001b[0mthis\u001b[0m\u001b[1;33m.\u001b[0m\u001b[0m_ax_2d\u001b[0m\u001b[1;33m[\u001b[0m\u001b[0mi\u001b[0m\u001b[1;33m]\u001b[0m\u001b[1;33m.\u001b[0m\u001b[0madd_patch\u001b[0m\u001b[1;33m(\u001b[0m\u001b[0mcore_patch\u001b[0m\u001b[1;33m)\u001b[0m\u001b[1;33m\u001b[0m\u001b[1;33m\u001b[0m\u001b[0m\n",
      "\u001b[1;32mD:\\Dateien\\Unimaterial\\Bachelor\\ConceptualSpaces\\conceptual_spaces\\visualization\\concept_inspector.py\u001b[0m in \u001b[0;36m_path_for_core\u001b[1;34m(cuboids, d1, d2)\u001b[0m\n\u001b[0;32m    119\u001b[0m         \u001b[0mverts\u001b[0m \u001b[1;33m=\u001b[0m \u001b[0mlist\u001b[0m\u001b[1;33m(\u001b[0m\u001b[0mpolygon\u001b[0m\u001b[1;33m.\u001b[0m\u001b[0mexterior\u001b[0m\u001b[1;33m.\u001b[0m\u001b[0mcoords\u001b[0m\u001b[1;33m)\u001b[0m\u001b[1;33m\u001b[0m\u001b[1;33m\u001b[0m\u001b[0m\n\u001b[0;32m    120\u001b[0m     \u001b[0mcodes\u001b[0m \u001b[1;33m=\u001b[0m \u001b[1;33m[\u001b[0m\u001b[0mPath\u001b[0m\u001b[1;33m.\u001b[0m\u001b[0mLINETO\u001b[0m\u001b[1;33m]\u001b[0m \u001b[1;33m*\u001b[0m \u001b[0mlen\u001b[0m\u001b[1;33m(\u001b[0m\u001b[0mverts\u001b[0m\u001b[1;33m)\u001b[0m\u001b[1;33m\u001b[0m\u001b[1;33m\u001b[0m\u001b[0m\n\u001b[1;32m--> 121\u001b[1;33m     \u001b[0mcodes\u001b[0m\u001b[1;33m[\u001b[0m\u001b[1;36m0\u001b[0m\u001b[1;33m]\u001b[0m \u001b[1;33m=\u001b[0m \u001b[0mPath\u001b[0m\u001b[1;33m.\u001b[0m\u001b[0mMOVETO\u001b[0m\u001b[1;33m\u001b[0m\u001b[1;33m\u001b[0m\u001b[0m\n\u001b[0m\u001b[0;32m    122\u001b[0m     \u001b[0mcodes\u001b[0m\u001b[1;33m[\u001b[0m\u001b[1;33m-\u001b[0m\u001b[1;36m1\u001b[0m\u001b[1;33m]\u001b[0m \u001b[1;33m=\u001b[0m \u001b[0mPath\u001b[0m\u001b[1;33m.\u001b[0m\u001b[0mCLOSEPOLY\u001b[0m\u001b[1;33m\u001b[0m\u001b[1;33m\u001b[0m\u001b[0m\n\u001b[0;32m    123\u001b[0m \u001b[1;33m\u001b[0m\u001b[0m\n",
      "\u001b[1;31mIndexError\u001b[0m: list assignment index out of range"
     ]
    },
    {
     "data": {
      "image/png": "[encoded data removed]",
      "text/plain": [
       "<Figure size 1440x1008 with 8 Axes>"
      ]
     },
     "metadata": {
      "needs_background": "light"
     },
     "output_type": "display_data"
    }
   ],
   "source": [
    "#%matplotlib widget\n",
    "concepts = xml_to_dict(path)\n",
    "concepts = xml_to_dict(path2, concepts)\n",
    "\n",
    "#print(concepts)\n",
    "\n",
    "domains = {}\n",
    "\n",
    "for concept in concepts.values():\n",
    "    domains.update(concept)\n",
    "del(domains['supercategory'])\n",
    "\n",
    "\n",
    "example='bear'\n",
    "        \n",
    "to_learn={example:concepts[example]}\n",
    "del(concepts[example])\n",
    "mammal={key:concepts[key] for key in concepts if concepts[key]['supercategory']=='mammal'}\n",
    "\n",
    "to_del=[]\n",
    "for concept in concepts:\n",
    "    if concepts[concept]['supercategory']=='object':# or concepts[concept]['supercategory']=='amphibian':\n",
    "        to_del.append(concept)\n",
    "for conc in to_del:\n",
    "    del(concepts[conc])\n",
    "        \n",
    "concepts_into_space(concepts.copy(), except_for=to_learn[example]['supercategory'])\n",
    "\n",
    "#print(space._concepts['reptile'])\n",
    "\n",
    "dimension_values=[]\n",
    "concepts=to_learn\n",
    "consistent = True\n",
    "#print(bear)\n",
    "for domain in space._domains.keys():\n",
    "    dimension_values.append([list(concepts[example].get(domain,{str(key):float(\"-inf\") for key in range(len(space._domains[domain]))}).values())\n",
    "                         ,list(concepts[example].get(domain,{str(key):float(\"inf\") for key in range(len(space._domains[domain]))}).values())])\n",
    "    if(not(len(dimension_values[-1][0])==len(space._domains[domain]))):\n",
    "        print(domain+' in '+example+' is inconsistent')\n",
    "        consistent=False\n",
    "        break\n",
    "\n",
    "domains = {}\n",
    "for key in concepts[example]:\n",
    "    if(not(key=='supercategory')):\n",
    "        domains[key]=space._domains[key]\n",
    "\n",
    "'''print(dimension_values)\n",
    "print(domains)'''\n",
    "\n",
    "'''if(consistent):\n",
    "        p_min=[value for domain in dimension_values for value in domain[0]]\n",
    "        p_max=[value for domain in dimension_values for value in domain[1]]\n",
    "\n",
    "        #try:\n",
    "        c_example = Cuboid(p_min, p_max, domains)\n",
    "        s_example = Core([c_example], domains)\n",
    "        w_example = Weights(space._def_dom_weights,space._def_dim_weights)\n",
    "        bear = Concept(s_example, 1.0, 0.5, w_example)\n",
    "        space.add_concept(example, bear, 'yellow')'''\n",
    "\n",
    "'''for concept in space._concepts:'''\n",
    "#print(concept)\n",
    "p_max=[value for domain in dimension_values for value in domain[1]]\n",
    "print('bear:')\n",
    "print(p_max)\n",
    "\n",
    "space.add_concept(example+' from membership',one_shot(p_max),'forestgreen')\n",
    "space.add_concept(example+' from animal',one_shot(p_max,supercategory='animal'),'lime')\n",
    "\n",
    "example='camel'\n",
    "\n",
    "to_learn={example:mammal[example]}\n",
    "dimension_values=[]\n",
    "concepts=to_learn\n",
    "consistent = True\n",
    "#print(bear)\n",
    "for domain in space._domains.keys():\n",
    "    dimension_values.append([list(concepts[example].get(domain,{str(key):float(\"-inf\") for key in range(len(space._domains[domain]))}).values())\n",
    "                         ,list(concepts[example].get(domain,{str(key):float(\"inf\") for key in range(len(space._domains[domain]))}).values())])\n",
    "    if(not(len(dimension_values[-1][0])==len(space._domains[domain]))):\n",
    "        print(domain+' in '+example+' is inconsistent')\n",
    "        consistent=False\n",
    "        break\n",
    "\n",
    "domains = {}\n",
    "for key in concepts[example]:\n",
    "    if(not(key=='supercategory')):\n",
    "        domains[key]=space._domains[key]\n",
    "        \n",
    "p_max=[value for domain in dimension_values for value in domain[1]]        \n",
    "space.add_concept(example+' from membership',one_shot(p_max),'yellow')\n",
    "space.add_concept(example+' from animal',one_shot(p_max,supercategory='animal'),'gold')\n",
    "\n",
    "concepts=mammal\n",
    "ordered_dict={}\n",
    "for example in concepts:\n",
    "    if concepts[example]['supercategory'] in ordered_dict:\n",
    "        ordered_dict[concepts[example]['supercategory']].append(example)\n",
    "    else:\n",
    "        ordered_dict[concepts[example]['supercategory']]=[example]\n",
    "for category in ordered_dict:\n",
    "    print('putting',category,'into space')\n",
    "    cuboids=[]\n",
    "    domains = {}\n",
    "    for example in ordered_dict[category]:\n",
    "        if not is_consistent(concepts[example]):\n",
    "            print(example,' is inconsistent')\n",
    "        else:\n",
    "            subdomains={domain:space._domains[domain] for domain in concepts[example] if not domain == 'supercategory'}\n",
    "            point=[concepts[example].get(domain,{str(key):float(\"inf\") for key in range(len(space._domains[domain]))}).values() for domain in space._domains]\n",
    "            point=[p for dom in point for p in dom]\n",
    "            #print(example)\n",
    "            #print('point: ',point)\n",
    "            cuboids.append(Cuboid([dim if not dim==float('inf') else -dim for dim in point], point, subdomains))\n",
    "            domains.update(subdomains)\n",
    "            #print(cuboids[-1]._p_max)\n",
    "    #for cuboid in cuboids:\n",
    "        #print('cuboid:',cuboid)\n",
    "    core=from_cuboids(cuboids,domains)\n",
    "    weights=Weights(space._def_dom_weights,space._def_dim_weights)\n",
    "    concept=Concept(core, 1.0, 0.5, weights)\n",
    "    space.add_concept(category,concept,'orange')\n",
    "    \n",
    "    \n",
    "        #print(space._concepts[concept].membership_of([p if not p==float('-inf') else 0 for p in p_min]))\n",
    "        #print(space._concepts[concept].membership_of(p_max))\n",
    "            #print(bear.subset_of(space._concepts[concept]))\n",
    "print('amphibian:')\n",
    "print(space._concepts['amphibian'])\n",
    "ci.init()"
   ]
  },
  {
   "cell_type": "code",
   "execution_count": 5,
   "metadata": {},
   "outputs": [
    {
     "name": "stdout",
     "output_type": "stream",
     "text": [
      "True\n"
     ]
    }
   ],
   "source": [
    "axis_ranges=[(-119.52000000000001, 719.9200000000001), (-108.80000000000001, 659.8), (-2399.52, 14399.92)]\n",
    "\n",
    "\n",
    "cuboid=([-119.53000000000002, -108.81000000000002, -2399.53], [719.9300000000001, 659.81, 14399.93])\n",
    "d1,d2=0,1\n",
    "print(any([not (cuboid[0][i]==axis_ranges[i][0] and cuboid[1][i]==axis_ranges[i][1]) for i in [d1,d2]]))"
   ]
  },
  {
   "cell_type": "code",
   "execution_count": 13,
   "metadata": {},
   "outputs": [
    {
     "data": {
      "text/plain": [
       "[1, 2, 3, 4, 5, 6]"
      ]
     },
     "execution_count": 13,
     "metadata": {},
     "output_type": "execute_result"
    }
   ],
   "source": [
    "[1,2,3]+[4,5,6]"
   ]
  },
  {
   "cell_type": "code",
   "execution_count": 4,
   "metadata": {},
   "outputs": [
    {
     "data": {
      "text/plain": [
       "{'locomotion': 1, 'size': 1}"
      ]
     },
     "execution_count": 4,
     "metadata": {},
     "output_type": "execute_result"
    }
   ],
   "source": [
    "x={a:1 for a in {'1':10,'2':20,'3':30} if not a==3}\n",
    "concepts={'example':{'supercategory':1,'locomotion':2,'size':3}}\n",
    "example='example'\n",
    "subdomains={domain:1 for domain in concepts[example] if not domain == 'supercategory'}\n",
    "subdomains"
   ]
  },
  {
   "cell_type": "code",
   "execution_count": 3,
   "metadata": {},
   "outputs": [
    {
     "ename": "TypeError",
     "evalue": "'<' not supported between instances of 'NoneType' and 'int'",
     "output_type": "error",
     "traceback": [
      "\u001b[1;31m---------------------------------------------------------------------------\u001b[0m",
      "\u001b[1;31mTypeError\u001b[0m                                 Traceback (most recent call last)",
      "\u001b[1;32m<ipython-input-3-f71f35393e39>\u001b[0m in \u001b[0;36m<module>\u001b[1;34m\u001b[0m\n\u001b[1;32m----> 1\u001b[1;33m \u001b[0mmin\u001b[0m\u001b[1;33m(\u001b[0m\u001b[1;33m[\u001b[0m\u001b[1;36m1\u001b[0m\u001b[1;33m,\u001b[0m\u001b[1;36m2\u001b[0m\u001b[1;33m,\u001b[0m\u001b[1;32mNone\u001b[0m\u001b[1;33m,\u001b[0m\u001b[1;36m3\u001b[0m\u001b[1;33m]\u001b[0m\u001b[1;33m)\u001b[0m\u001b[1;33m\u001b[0m\u001b[1;33m\u001b[0m\u001b[0m\n\u001b[0m",
      "\u001b[1;31mTypeError\u001b[0m: '<' not supported between instances of 'NoneType' and 'int'"
     ]
    }
   ],
   "source": [
    "min([1,2,None,3])"
   ]
  },
  {
   "cell_type": "code",
   "execution_count": 3,
   "metadata": {},
   "outputs": [
    {
     "name": "stdout",
     "output_type": "stream",
     "text": [
      "bla\n",
      "blu\n"
     ]
    }
   ],
   "source": [
    "bird\n",
    "c1:  4.0  -  4.0  c2:  6.0  -  8.0 \n",
    "\n",
    "c1:  10.0  -  10.0  c2:  16.875  -  25.66801525297619 \n",
    "\n",
    "c1:  -inf  -  inf  c2:  -inf  -  inf \n",
    "\n",
    "c1:  -inf  -  inf  c2:  -inf  -  inf \n",
    "\n",
    "c1:  -inf  -  inf  c2:  -inf  -  inf \n",
    "\n",
    "c1:  -inf  -  inf  c2:  -inf  -  inf \n",
    "\n",
    "c1:  -inf  -  inf  c2:  -inf  -  inf \n",
    "\n",
    "c1:  -inf  -  inf  c2:  -inf  -  inf \n",
    "\n",
    "c1:  150.0  -  150.0  c2:  29.981498794987566  -  60.0 \n",
    "\n",
    "c1:  250.0  -  250.0  c2:  55.51736111111111  -  100.0 \n",
    "\n",
    "c1:  100.0  -  100.0  c2:  51.063169963987825  -  120.0 \n",
    "\n",
    "c1:  30.0  -  30.0  c2:  42.45482653423327  -  100.0 \n",
    "\n",
    "c1:  10.0  -  10.0  c2:  0.0  -  14.333333333333334 \n",
    "\n",
    "c1:  40.0  -  40.0  c2:  0.0  -  23.333333333333332 \n",
    "\n",
    "[  5.          13.4375     105.         175.         100.\n",
    "  36.22741327  10.          31.66666667]\n",
    "Singular matrix C in LSQ subproblem\n",
    "0.0"
   ]
  },
  {
   "cell_type": "code",
   "execution_count": 3,
   "metadata": {},
   "outputs": [
    {
     "data": {
      "text/plain": [
       "nan"
      ]
     },
     "execution_count": 3,
     "metadata": {},
     "output_type": "execute_result"
    }
   ],
   "source": [
    "a=float('inf')-float('inf')\n",
    "a"
   ]
  },
  {
   "cell_type": "code",
   "execution_count": 14,
   "metadata": {},
   "outputs": [
    {
     "name": "stdout",
     "output_type": "stream",
     "text": [
      "[inf, 1, 10.0] \n",
      "zu\n",
      "[1, 1, 12] \n",
      "with\n",
      "<{'shape': 1.0},{'shape': {1: 0.5, 2: 0.5}}> \n",
      "\n",
      "distance:  1.4142135623730951 \n",
      "\n",
      "1.8178434809396932e-15\n",
      "[1, 1, 10.0] \n",
      "zu\n",
      "[1, 1, 12] \n",
      "with\n",
      "<{'color': 1.2, 'shape': 0.8},{'shape': {1: 0.5, 2: 0.5}, 'color': {0: 1.0}}> \n",
      "\n",
      "distance:  1.1313708498984762 \n",
      "\n",
      "[inf, 1, 10.0] \n",
      "zu\n",
      "[1, 1, 12] \n",
      "with\n",
      "<{'shape': 1.0},{'shape': {1: 0.5, 2: 0.5}, 'color': {0: 1.0}}> \n",
      "\n",
      "distance:  1.4142135623730951 \n",
      "\n",
      "1.6130401952059783e-12\n"
     ]
    }
   ],
   "source": [
    "import xml.etree.ElementTree as ET\n",
    "import os\n",
    "import sys\n",
    "sys.path.append(\"ConceptualSpaces-pure\\\\conceptual_spaces\")\n",
    "import cs.cs as space\n",
    "from cs.weights import Weights\n",
    "from cs.cuboid import Cuboid\n",
    "from cs.core import Core\n",
    "from cs.concept import Concept\n",
    "import visualization.concept_inspector as ci\n",
    "\n",
    "\n",
    "domains = {\"color\":[0], \"shape\":[1,2]}\n",
    "dimension_names = [\"hue\", \"round\", 'something']\n",
    "space.init(3, domains, dimension_names)\n",
    "\n",
    "\n",
    "\n",
    "# standard weights for the dimensions within each domain\n",
    "w_dim = {\"shape\":{1:1,2:1}}\n",
    "\n",
    "# define pear concept\n",
    "c_pear = Cuboid([float('-inf'),0.0, 0.0], [float('inf'),4.0, 10.0], {\"shape\":[1,2]})\n",
    "s_pear = Core([c_pear], domains)\n",
    "w_pear = Weights({\"shape\":0.8}, w_dim)\n",
    "pear = Concept(s_pear, 1.0, 24.0, w_pear)\n",
    "space.add_concept(\"pear\", pear, 'g')\n",
    "\n",
    "#del(domains['taste'])\n",
    "w_dim.update({\"color\":{0:1}})\n",
    "\n",
    "# define orange concept\n",
    "c_orange = Cuboid([0.0,0.0,0.0], [5.0,5.0,10.0], domains)\n",
    "s_orange = Core([c_orange,c_pear], domains)\n",
    "w_orange = Weights({\"color\":1.2, \"shape\":0.8}, w_dim)\n",
    "orange = Concept(s_orange, 1.0, 24.0, w_orange)\n",
    "space.add_concept(\"orange\", orange, 'orange')\n",
    "\n",
    "print(pear.membership_of([1,1,12]))\n",
    "print(orange.membership_of([1,1,12]))\n",
    "\n",
    "#ci.init()"
   ]
  },
  {
   "cell_type": "code",
   "execution_count": 3,
   "metadata": {},
   "outputs": [
    {
     "name": "stdout",
     "output_type": "stream",
     "text": [
      "Singular matrix C in LSQ subproblem\n"
     ]
    },
    {
     "ename": "Exception",
     "evalue": "Optimizer failed!",
     "output_type": "error",
     "traceback": [
      "\u001b[1;31m---------------------------------------------------------------------------\u001b[0m",
      "\u001b[1;31mException\u001b[0m                                 Traceback (most recent call last)",
      "\u001b[1;32m<ipython-input-3-79f0a9923970>\u001b[0m in \u001b[0;36m<module>\u001b[1;34m\u001b[0m\n\u001b[0;32m     36\u001b[0m \u001b[0mspace\u001b[0m\u001b[1;33m.\u001b[0m\u001b[0madd_concept\u001b[0m\u001b[1;33m(\u001b[0m\u001b[1;34m\"orange\"\u001b[0m\u001b[1;33m,\u001b[0m \u001b[0morange\u001b[0m\u001b[1;33m,\u001b[0m \u001b[1;34m'orange'\u001b[0m\u001b[1;33m)\u001b[0m\u001b[1;33m\u001b[0m\u001b[1;33m\u001b[0m\u001b[0m\n\u001b[0;32m     37\u001b[0m \u001b[1;33m\u001b[0m\u001b[0m\n\u001b[1;32m---> 38\u001b[1;33m \u001b[0mprint\u001b[0m\u001b[1;33m(\u001b[0m\u001b[0morange\u001b[0m\u001b[1;33m.\u001b[0m\u001b[0msubset_of\u001b[0m\u001b[1;33m(\u001b[0m\u001b[0mpear\u001b[0m\u001b[1;33m)\u001b[0m\u001b[1;33m)\u001b[0m\u001b[1;33m\u001b[0m\u001b[1;33m\u001b[0m\u001b[0m\n\u001b[0m\u001b[0;32m     39\u001b[0m \u001b[1;33m\u001b[0m\u001b[0m\n\u001b[0;32m     40\u001b[0m \u001b[1;31m#ci.init()\u001b[0m\u001b[1;33m\u001b[0m\u001b[1;33m\u001b[0m\u001b[1;33m\u001b[0m\u001b[0m\n",
      "\u001b[1;32mD:\\Dateien\\Unimaterial\\Bachelor\\ConceptualSpaces-pure\\conceptual_spaces\\cs\\concept.py\u001b[0m in \u001b[0;36msubset_of\u001b[1;34m(self, other)\u001b[0m\n\u001b[0;32m    438\u001b[0m         \u001b[0mprojected_other\u001b[0m \u001b[1;33m=\u001b[0m \u001b[0mother\u001b[0m\u001b[1;33m.\u001b[0m\u001b[0mproject_onto\u001b[0m\u001b[1;33m(\u001b[0m\u001b[0mcommon_domains\u001b[0m\u001b[1;33m)\u001b[0m\u001b[1;33m\u001b[0m\u001b[1;33m\u001b[0m\u001b[0m\n\u001b[0;32m    439\u001b[0m \u001b[1;33m\u001b[0m\u001b[0m\n\u001b[1;32m--> 440\u001b[1;33m         \u001b[0mintersection\u001b[0m \u001b[1;33m=\u001b[0m \u001b[0mprojected_self\u001b[0m\u001b[1;33m.\u001b[0m\u001b[0mintersect_with\u001b[0m\u001b[1;33m(\u001b[0m\u001b[0mprojected_other\u001b[0m\u001b[1;33m)\u001b[0m\u001b[1;33m\u001b[0m\u001b[1;33m\u001b[0m\u001b[0m\n\u001b[0m\u001b[0;32m    441\u001b[0m         \u001b[0mintersection\u001b[0m\u001b[1;33m.\u001b[0m\u001b[0m_c\u001b[0m \u001b[1;33m=\u001b[0m \u001b[0mprojected_other\u001b[0m\u001b[1;33m.\u001b[0m\u001b[0m_c\u001b[0m\u001b[1;33m\u001b[0m\u001b[1;33m\u001b[0m\u001b[0m\n\u001b[0;32m    442\u001b[0m         \u001b[0mintersection\u001b[0m\u001b[1;33m.\u001b[0m\u001b[0m_weights\u001b[0m \u001b[1;33m=\u001b[0m \u001b[0mprojected_other\u001b[0m\u001b[1;33m.\u001b[0m\u001b[0m_weights\u001b[0m\u001b[1;33m\u001b[0m\u001b[1;33m\u001b[0m\u001b[0m\n",
      "\u001b[1;32mD:\\Dateien\\Unimaterial\\Bachelor\\ConceptualSpaces-pure\\conceptual_spaces\\cs\\concept.py\u001b[0m in \u001b[0;36mintersect_with\u001b[1;34m(self, other)\u001b[0m\n\u001b[0;32m    303\u001b[0m         \u001b[1;32mfor\u001b[0m \u001b[0mc1\u001b[0m \u001b[1;32min\u001b[0m \u001b[0mself\u001b[0m\u001b[1;33m.\u001b[0m\u001b[0m_core\u001b[0m\u001b[1;33m.\u001b[0m\u001b[0m_cuboids\u001b[0m\u001b[1;33m:\u001b[0m\u001b[1;33m\u001b[0m\u001b[1;33m\u001b[0m\u001b[0m\n\u001b[0;32m    304\u001b[0m             \u001b[1;32mfor\u001b[0m \u001b[0mc2\u001b[0m \u001b[1;32min\u001b[0m \u001b[0mother\u001b[0m\u001b[1;33m.\u001b[0m\u001b[0m_core\u001b[0m\u001b[1;33m.\u001b[0m\u001b[0m_cuboids\u001b[0m\u001b[1;33m:\u001b[0m\u001b[1;33m\u001b[0m\u001b[1;33m\u001b[0m\u001b[0m\n\u001b[1;32m--> 305\u001b[1;33m                 \u001b[0mcandidates\u001b[0m\u001b[1;33m.\u001b[0m\u001b[0mappend\u001b[0m\u001b[1;33m(\u001b[0m\u001b[0mself\u001b[0m\u001b[1;33m.\u001b[0m\u001b[0m_intersect_fuzzy_cuboids\u001b[0m\u001b[1;33m(\u001b[0m\u001b[0mc1\u001b[0m\u001b[1;33m,\u001b[0m \u001b[0mc2\u001b[0m\u001b[1;33m,\u001b[0m \u001b[0mother\u001b[0m\u001b[1;33m)\u001b[0m\u001b[1;33m)\u001b[0m\u001b[1;33m\u001b[0m\u001b[1;33m\u001b[0m\u001b[0m\n\u001b[0m\u001b[0;32m    306\u001b[0m                 \u001b[0mcandidates\u001b[0m\u001b[1;33m.\u001b[0m\u001b[0mappend\u001b[0m\u001b[1;33m(\u001b[0m\u001b[0mother\u001b[0m\u001b[1;33m.\u001b[0m\u001b[0m_intersect_fuzzy_cuboids\u001b[0m\u001b[1;33m(\u001b[0m\u001b[0mc2\u001b[0m\u001b[1;33m,\u001b[0m \u001b[0mc1\u001b[0m\u001b[1;33m,\u001b[0m \u001b[0mself\u001b[0m\u001b[1;33m)\u001b[0m\u001b[1;33m)\u001b[0m\u001b[1;33m\u001b[0m\u001b[1;33m\u001b[0m\u001b[0m\n\u001b[0;32m    307\u001b[0m \u001b[1;33m\u001b[0m\u001b[0m\n",
      "\u001b[1;32mD:\\Dateien\\Unimaterial\\Bachelor\\ConceptualSpaces-pure\\conceptual_spaces\\cs\\concept.py\u001b[0m in \u001b[0;36m_intersect_fuzzy_cuboids\u001b[1;34m(self, c1, c2, other)\u001b[0m\n\u001b[0;32m    152\u001b[0m                 \u001b[1;31m# if optimizer failed to find exact solution, but managed to find approximate solution: take it\u001b[0m\u001b[1;33m\u001b[0m\u001b[1;33m\u001b[0m\u001b[1;33m\u001b[0m\u001b[0m\n\u001b[0;32m    153\u001b[0m                 \u001b[0mprint\u001b[0m\u001b[1;33m(\u001b[0m\u001b[0mopt\u001b[0m\u001b[1;33m.\u001b[0m\u001b[0mmessage\u001b[0m\u001b[1;33m)\u001b[0m\u001b[1;33m\u001b[0m\u001b[1;33m\u001b[0m\u001b[0m\n\u001b[1;32m--> 154\u001b[1;33m                 \u001b[1;32mraise\u001b[0m \u001b[0mException\u001b[0m\u001b[1;33m(\u001b[0m\u001b[1;34m\"Optimizer failed!\"\u001b[0m\u001b[1;33m)\u001b[0m\u001b[1;33m\u001b[0m\u001b[1;33m\u001b[0m\u001b[0m\n\u001b[0m\u001b[0;32m    155\u001b[0m             \u001b[1;31m# reconstruct full x by inserting fixed coordinates that will be extruded later\u001b[0m\u001b[1;33m\u001b[0m\u001b[1;33m\u001b[0m\u001b[1;33m\u001b[0m\u001b[0m\n\u001b[0;32m    156\u001b[0m             \u001b[0mprint\u001b[0m\u001b[1;33m(\u001b[0m\u001b[0mopt\u001b[0m\u001b[1;33m.\u001b[0m\u001b[0mx\u001b[0m\u001b[1;33m)\u001b[0m\u001b[1;33m\u001b[0m\u001b[1;33m\u001b[0m\u001b[0m\n",
      "\u001b[1;31mException\u001b[0m: Optimizer failed!"
     ]
    }
   ],
   "source": [
    "import xml.etree.ElementTree as ET\n",
    "import os\n",
    "import sys\n",
    "sys.path.append(\"ConceptualSpaces-pure\\\\conceptual_spaces\")\n",
    "import cs.cs as space\n",
    "from cs.weights import Weights\n",
    "from cs.cuboid import Cuboid\n",
    "from cs.core import Core\n",
    "from cs.concept import Concept\n",
    "import visualization.concept_inspector as ci\n",
    "\n",
    "\n",
    "domains = {\"locomotion\": [0], \"bla\": [1]}\n",
    "dimension_names = [\"movement\", \"speed\"]\n",
    "space.init(2, domains, dimension_names)\n",
    "\n",
    "inf = float('inf')\n",
    "\n",
    "# standard weights for the dimensions within each domain\n",
    "w_dim = {\"locomotion\":{0:1}, \"bla\":{1:1}}\n",
    "\n",
    "\n",
    "# define pear concept\n",
    "c_pear = Cuboid([0.4, 0.1], [0.5, 0.11], domains)\n",
    "s_pear = Core([c_pear], domains)\n",
    "w_pear = Weights({\"locomotion\": 1.0, \"bla\": 1.0}, w_dim)\n",
    "pear = Concept(s_pear, 1.0, 24.0, w_pear)\n",
    "space.add_concept(\"pear\", pear, 'g')\n",
    "\n",
    "\n",
    "# define orange concept\n",
    "c_orange = Cuboid([0.6, 4.0], [0.8, 20.0], domains)\n",
    "s_orange = Core([c_orange], domains)\n",
    "w_orange = Weights({'locomotion': 1.0, 'bla': 1.0}, w_dim)\n",
    "orange = Concept(s_orange, 1.0, 24.0, w_orange)\n",
    "space.add_concept(\"orange\", orange, 'orange')\n",
    "\n",
    "print(orange.subset_of(pear))\n",
    "\n",
    "#ci.init()"
   ]
  },
  {
   "cell_type": "code",
   "execution_count": null,
   "metadata": {},
   "outputs": [],
   "source": [
    "import xml.etree.ElementTree as ET\n",
    "import os\n",
    "import sys\n",
    "sys.path.append(\"ConceptualSpaces-pure\\\\conceptual_spaces\")\n",
    "import cs.cs as space\n",
    "from cs.weights import Weights\n",
    "from cs.cuboid import Cuboid\n",
    "from cs.core import Core\n",
    "from cs.concept import Concept\n",
    "import visualization.concept_inspector as ci\n",
    "\n",
    "\n",
    "domains = {'locomotion': [0, 1], 'location': [2, 3, 4, 5], 'feeding': [6, 7], 'size': [8, 9, 10], 'color': [11, 12, 13]}\n",
    "dimension_names = ['movement', 'speed', 'humidity', 'temperature', 'altitude', 'vegetation', 'foodType', 'foodQuantity', 'x', 'y', 'z', 'l', 'a', 'b']\n",
    "space.init(14, domains, dimension_names)\n",
    "\n",
    "inf = float('inf')\n",
    "\n",
    "# standard weights for the dimensions within each domain\n",
    "w_dim = space._def_dim_weights\n",
    "w_dom = space._def_dom_weights\n",
    "\n",
    "\n",
    "domainsp=domains.copy()\n",
    "del(domainsp['location'])\n",
    "del(domainsp['feeding'])\n",
    "# define pear concept\n",
    "c_pear = Cuboid([4.0, 10.0, -inf, -inf, -inf, -inf, -inf, -inf, 150.0, 250.0, 100.0, 30.0, 10.0, 40.0], [4.0, 10.0, inf, inf, inf, inf, inf, inf, 150.0, 250.0, 100.0, 30.0, 10.0, 40.0], domainsp)\n",
    "s_pear = Core([c_pear], domainsp)\n",
    "w_pear = Weights(w_dom, w_dim)\n",
    "pear = Concept(s_pear, 1.0, 24.0, w_pear)\n",
    "space.add_concept(\"pear\", pear, 'g')\n",
    "\n",
    "\n",
    "# define orange concept\n",
    "c_orange = Cuboid([6.0, 16.875, -inf, -inf, -inf, -inf, -inf, -inf, 29.981498794987566, 55.51736111111111, 51.063169963987825, 42.45482653423327, 0.0, 0.0], [8.0, 25.66801525297619, inf, inf, inf, inf, inf, inf, 60.0, 100.0, 120.0, 100.0, 14.333333333333334, 23.333333333333332], domainsp)\n",
    "s_orange = Core([c_orange], domainsp)\n",
    "w_orange = Weights(w_dom, w_dim)\n",
    "orange = Concept(s_orange, 1.0, 30.0, w_orange)\n",
    "space.add_concept(\"orange\", orange, 'orange')\n",
    "\n",
    "print(orange.subset_of(pear))\n",
    "\n",
    "ci.init()"
   ]
  },
  {
   "cell_type": "code",
   "execution_count": null,
   "metadata": {},
   "outputs": [],
   "source": []
  }
 ],
 "metadata": {
  "kernelspec": {
   "display_name": "Python 3",
   "language": "python",
   "name": "python3"
  },
  "language_info": {
   "codemirror_mode": {
    "name": "ipython",
    "version": 3
   },
   "file_extension": ".py",
   "mimetype": "text/x-python",
   "name": "python",
   "nbconvert_exporter": "python",
   "pygments_lexer": "ipython3",
   "version": "3.6.12"
  }
 },
 "nbformat": 4,
 "nbformat_minor": 4
}
